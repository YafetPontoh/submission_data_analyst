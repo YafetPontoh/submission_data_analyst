{
 "cells": [
  {
   "cell_type": "markdown",
   "metadata": {
    "id": "H9wADwK78DCz"
   },
   "source": [
    "# Proyek Analisis Data: E-Commerce Public Dataset\n",
    "- **Nama:** Yafet Rafael Pontoh\n",
    "- **Email:** yafetrafael.yr@gmail.com\n",
    "- **ID Dicoding:** yafet_rafael_pontoh"
   ]
  },
  {
   "cell_type": "markdown",
   "metadata": {
    "id": "eE0raob58DC0"
   },
   "source": [
    "## Menentukan Pertanyaan Bisnis"
   ]
  },
  {
   "cell_type": "markdown",
   "metadata": {
    "id": "GmQeQ5YF8DC0"
   },
   "source": [
    "- Pertanyaan 1 : Produk dengan category apa yang paling sedikit dan paling banyak terjual? \n",
    "- Pertanyaan 2 : Bagaimana performa penjualan tiap bulannya?\n",
    "- Pertanyaan 3 : RFM Analysis\n",
    "  1. Kapan terakhir penlanggan melakukan transaksi?\n",
    "  2. Seberapa sering pelanggan melakukan pembelian dalam beberapa bulan terakhir?\n",
    "  3. Berapa uang terbanyak (5) yang dihabiskan pelanggan dalam beberapa bulan terakhir?\n",
    "- Pertanyaan 4: Geo-Analysis -> Negara Bagian Mana yang Memiliki Total Penjualan Tertinggi dan Terendah?\n",
    "- Pertanyaan 5 (Clustering): Bagaimana Hubungan Antara harga produk, biaya pengiriman, dan skor review (Sebagai Parameter)?"
   ]
  },
  {
   "cell_type": "markdown",
   "metadata": {
    "id": "H-z4QGlO8DC1"
   },
   "source": [
    "## Import Semua Packages/Library yang Digunakan"
   ]
  },
  {
   "cell_type": "code",
   "execution_count": 1,
   "metadata": {
    "id": "FVYwaObI8DC1"
   },
   "outputs": [],
   "source": [
    "import pandas as pd\n",
    "import seaborn as sns\n",
    "import matplotlib.pyplot as plt\n",
    "import numpy as np"
   ]
  },
  {
   "cell_type": "markdown",
   "metadata": {
    "id": "h_Sh51Xy8DC1"
   },
   "source": [
    "## Data Wrangling"
   ]
  },
  {
   "cell_type": "markdown",
   "metadata": {
    "id": "sXU2GBYu8DC1"
   },
   "source": [
    "### Gathering Data"
   ]
  },
  {
   "cell_type": "code",
   "execution_count": 2,
   "metadata": {
    "colab": {
     "base_uri": "https://localhost:8080/"
    },
    "id": "zjCBk1BI8DC1",
    "outputId": "7cfae5b0-fda7-4d24-a02d-dc6f083476ff"
   },
   "outputs": [
    {
     "data": {
      "text/html": [
       "<div>\n",
       "<style scoped>\n",
       "    .dataframe tbody tr th:only-of-type {\n",
       "        vertical-align: middle;\n",
       "    }\n",
       "\n",
       "    .dataframe tbody tr th {\n",
       "        vertical-align: top;\n",
       "    }\n",
       "\n",
       "    .dataframe thead th {\n",
       "        text-align: right;\n",
       "    }\n",
       "</style>\n",
       "<table border=\"1\" class=\"dataframe\">\n",
       "  <thead>\n",
       "    <tr style=\"text-align: right;\">\n",
       "      <th></th>\n",
       "      <th>customer_id</th>\n",
       "      <th>customer_unique_id</th>\n",
       "      <th>customer_zip_code_prefix</th>\n",
       "      <th>customer_city</th>\n",
       "      <th>customer_state</th>\n",
       "    </tr>\n",
       "  </thead>\n",
       "  <tbody>\n",
       "    <tr>\n",
       "      <th>0</th>\n",
       "      <td>06b8999e2fba1a1fbc88172c00ba8bc7</td>\n",
       "      <td>861eff4711a542e4b93843c6dd7febb0</td>\n",
       "      <td>14409</td>\n",
       "      <td>franca</td>\n",
       "      <td>SP</td>\n",
       "    </tr>\n",
       "    <tr>\n",
       "      <th>1</th>\n",
       "      <td>18955e83d337fd6b2def6b18a428ac77</td>\n",
       "      <td>290c77bc529b7ac935b93aa66c333dc3</td>\n",
       "      <td>9790</td>\n",
       "      <td>sao bernardo do campo</td>\n",
       "      <td>SP</td>\n",
       "    </tr>\n",
       "    <tr>\n",
       "      <th>2</th>\n",
       "      <td>4e7b3e00288586ebd08712fdd0374a03</td>\n",
       "      <td>060e732b5b29e8181a18229c7b0b2b5e</td>\n",
       "      <td>1151</td>\n",
       "      <td>sao paulo</td>\n",
       "      <td>SP</td>\n",
       "    </tr>\n",
       "    <tr>\n",
       "      <th>3</th>\n",
       "      <td>b2b6027bc5c5109e529d4dc6358b12c3</td>\n",
       "      <td>259dac757896d24d7702b9acbbff3f3c</td>\n",
       "      <td>8775</td>\n",
       "      <td>mogi das cruzes</td>\n",
       "      <td>SP</td>\n",
       "    </tr>\n",
       "    <tr>\n",
       "      <th>4</th>\n",
       "      <td>4f2d8ab171c80ec8364f7c12e35b23ad</td>\n",
       "      <td>345ecd01c38d18a9036ed96c73b8d066</td>\n",
       "      <td>13056</td>\n",
       "      <td>campinas</td>\n",
       "      <td>SP</td>\n",
       "    </tr>\n",
       "  </tbody>\n",
       "</table>\n",
       "</div>"
      ],
      "text/plain": [
       "                        customer_id                customer_unique_id  \\\n",
       "0  06b8999e2fba1a1fbc88172c00ba8bc7  861eff4711a542e4b93843c6dd7febb0   \n",
       "1  18955e83d337fd6b2def6b18a428ac77  290c77bc529b7ac935b93aa66c333dc3   \n",
       "2  4e7b3e00288586ebd08712fdd0374a03  060e732b5b29e8181a18229c7b0b2b5e   \n",
       "3  b2b6027bc5c5109e529d4dc6358b12c3  259dac757896d24d7702b9acbbff3f3c   \n",
       "4  4f2d8ab171c80ec8364f7c12e35b23ad  345ecd01c38d18a9036ed96c73b8d066   \n",
       "\n",
       "   customer_zip_code_prefix          customer_city customer_state  \n",
       "0                     14409                 franca             SP  \n",
       "1                      9790  sao bernardo do campo             SP  \n",
       "2                      1151              sao paulo             SP  \n",
       "3                      8775        mogi das cruzes             SP  \n",
       "4                     13056               campinas             SP  "
      ]
     },
     "execution_count": 2,
     "metadata": {},
     "output_type": "execute_result"
    }
   ],
   "source": [
    "customers_df = pd.read_csv('data/customers_dataset.csv')\n",
    "customers_df.head()"
   ]
  },
  {
   "cell_type": "code",
   "execution_count": 3,
   "metadata": {
    "colab": {
     "base_uri": "https://localhost:8080/"
    },
    "id": "q6O4dIIW4zkd",
    "outputId": "ae6063df-44e0-4edc-c384-66b9eb8c661b"
   },
   "outputs": [
    {
     "data": {
      "text/html": [
       "<div>\n",
       "<style scoped>\n",
       "    .dataframe tbody tr th:only-of-type {\n",
       "        vertical-align: middle;\n",
       "    }\n",
       "\n",
       "    .dataframe tbody tr th {\n",
       "        vertical-align: top;\n",
       "    }\n",
       "\n",
       "    .dataframe thead th {\n",
       "        text-align: right;\n",
       "    }\n",
       "</style>\n",
       "<table border=\"1\" class=\"dataframe\">\n",
       "  <thead>\n",
       "    <tr style=\"text-align: right;\">\n",
       "      <th></th>\n",
       "      <th>geolocation_zip_code_prefix</th>\n",
       "      <th>geolocation_lat</th>\n",
       "      <th>geolocation_lng</th>\n",
       "      <th>geolocation_city</th>\n",
       "      <th>geolocation_state</th>\n",
       "    </tr>\n",
       "  </thead>\n",
       "  <tbody>\n",
       "    <tr>\n",
       "      <th>0</th>\n",
       "      <td>1037</td>\n",
       "      <td>-23.545621</td>\n",
       "      <td>-46.639292</td>\n",
       "      <td>sao paulo</td>\n",
       "      <td>SP</td>\n",
       "    </tr>\n",
       "    <tr>\n",
       "      <th>1</th>\n",
       "      <td>1046</td>\n",
       "      <td>-23.546081</td>\n",
       "      <td>-46.644820</td>\n",
       "      <td>sao paulo</td>\n",
       "      <td>SP</td>\n",
       "    </tr>\n",
       "    <tr>\n",
       "      <th>2</th>\n",
       "      <td>1046</td>\n",
       "      <td>-23.546129</td>\n",
       "      <td>-46.642951</td>\n",
       "      <td>sao paulo</td>\n",
       "      <td>SP</td>\n",
       "    </tr>\n",
       "    <tr>\n",
       "      <th>3</th>\n",
       "      <td>1041</td>\n",
       "      <td>-23.544392</td>\n",
       "      <td>-46.639499</td>\n",
       "      <td>sao paulo</td>\n",
       "      <td>SP</td>\n",
       "    </tr>\n",
       "    <tr>\n",
       "      <th>4</th>\n",
       "      <td>1035</td>\n",
       "      <td>-23.541578</td>\n",
       "      <td>-46.641607</td>\n",
       "      <td>sao paulo</td>\n",
       "      <td>SP</td>\n",
       "    </tr>\n",
       "  </tbody>\n",
       "</table>\n",
       "</div>"
      ],
      "text/plain": [
       "   geolocation_zip_code_prefix  geolocation_lat  geolocation_lng  \\\n",
       "0                         1037       -23.545621       -46.639292   \n",
       "1                         1046       -23.546081       -46.644820   \n",
       "2                         1046       -23.546129       -46.642951   \n",
       "3                         1041       -23.544392       -46.639499   \n",
       "4                         1035       -23.541578       -46.641607   \n",
       "\n",
       "  geolocation_city geolocation_state  \n",
       "0        sao paulo                SP  \n",
       "1        sao paulo                SP  \n",
       "2        sao paulo                SP  \n",
       "3        sao paulo                SP  \n",
       "4        sao paulo                SP  "
      ]
     },
     "execution_count": 3,
     "metadata": {},
     "output_type": "execute_result"
    }
   ],
   "source": [
    "geolocation_df = pd.read_csv('data/geolocation_dataset.csv')\n",
    "geolocation_df.head()"
   ]
  },
  {
   "cell_type": "code",
   "execution_count": 4,
   "metadata": {
    "colab": {
     "base_uri": "https://localhost:8080/"
    },
    "id": "x-9vSZ-Q40TH",
    "outputId": "0a51797d-c636-4595-8e47-4d7b254bb39c"
   },
   "outputs": [
    {
     "data": {
      "text/html": [
       "<div>\n",
       "<style scoped>\n",
       "    .dataframe tbody tr th:only-of-type {\n",
       "        vertical-align: middle;\n",
       "    }\n",
       "\n",
       "    .dataframe tbody tr th {\n",
       "        vertical-align: top;\n",
       "    }\n",
       "\n",
       "    .dataframe thead th {\n",
       "        text-align: right;\n",
       "    }\n",
       "</style>\n",
       "<table border=\"1\" class=\"dataframe\">\n",
       "  <thead>\n",
       "    <tr style=\"text-align: right;\">\n",
       "      <th></th>\n",
       "      <th>order_id</th>\n",
       "      <th>order_item_id</th>\n",
       "      <th>product_id</th>\n",
       "      <th>seller_id</th>\n",
       "      <th>shipping_limit_date</th>\n",
       "      <th>price</th>\n",
       "      <th>freight_value</th>\n",
       "    </tr>\n",
       "  </thead>\n",
       "  <tbody>\n",
       "    <tr>\n",
       "      <th>0</th>\n",
       "      <td>00010242fe8c5a6d1ba2dd792cb16214</td>\n",
       "      <td>1</td>\n",
       "      <td>4244733e06e7ecb4970a6e2683c13e61</td>\n",
       "      <td>48436dade18ac8b2bce089ec2a041202</td>\n",
       "      <td>2017-09-19 09:45:35</td>\n",
       "      <td>58.90</td>\n",
       "      <td>13.29</td>\n",
       "    </tr>\n",
       "    <tr>\n",
       "      <th>1</th>\n",
       "      <td>00018f77f2f0320c557190d7a144bdd3</td>\n",
       "      <td>1</td>\n",
       "      <td>e5f2d52b802189ee658865ca93d83a8f</td>\n",
       "      <td>dd7ddc04e1b6c2c614352b383efe2d36</td>\n",
       "      <td>2017-05-03 11:05:13</td>\n",
       "      <td>239.90</td>\n",
       "      <td>19.93</td>\n",
       "    </tr>\n",
       "    <tr>\n",
       "      <th>2</th>\n",
       "      <td>000229ec398224ef6ca0657da4fc703e</td>\n",
       "      <td>1</td>\n",
       "      <td>c777355d18b72b67abbeef9df44fd0fd</td>\n",
       "      <td>5b51032eddd242adc84c38acab88f23d</td>\n",
       "      <td>2018-01-18 14:48:30</td>\n",
       "      <td>199.00</td>\n",
       "      <td>17.87</td>\n",
       "    </tr>\n",
       "    <tr>\n",
       "      <th>3</th>\n",
       "      <td>00024acbcdf0a6daa1e931b038114c75</td>\n",
       "      <td>1</td>\n",
       "      <td>7634da152a4610f1595efa32f14722fc</td>\n",
       "      <td>9d7a1d34a5052409006425275ba1c2b4</td>\n",
       "      <td>2018-08-15 10:10:18</td>\n",
       "      <td>12.99</td>\n",
       "      <td>12.79</td>\n",
       "    </tr>\n",
       "    <tr>\n",
       "      <th>4</th>\n",
       "      <td>00042b26cf59d7ce69dfabb4e55b4fd9</td>\n",
       "      <td>1</td>\n",
       "      <td>ac6c3623068f30de03045865e4e10089</td>\n",
       "      <td>df560393f3a51e74553ab94004ba5c87</td>\n",
       "      <td>2017-02-13 13:57:51</td>\n",
       "      <td>199.90</td>\n",
       "      <td>18.14</td>\n",
       "    </tr>\n",
       "  </tbody>\n",
       "</table>\n",
       "</div>"
      ],
      "text/plain": [
       "                           order_id  order_item_id  \\\n",
       "0  00010242fe8c5a6d1ba2dd792cb16214              1   \n",
       "1  00018f77f2f0320c557190d7a144bdd3              1   \n",
       "2  000229ec398224ef6ca0657da4fc703e              1   \n",
       "3  00024acbcdf0a6daa1e931b038114c75              1   \n",
       "4  00042b26cf59d7ce69dfabb4e55b4fd9              1   \n",
       "\n",
       "                         product_id                         seller_id  \\\n",
       "0  4244733e06e7ecb4970a6e2683c13e61  48436dade18ac8b2bce089ec2a041202   \n",
       "1  e5f2d52b802189ee658865ca93d83a8f  dd7ddc04e1b6c2c614352b383efe2d36   \n",
       "2  c777355d18b72b67abbeef9df44fd0fd  5b51032eddd242adc84c38acab88f23d   \n",
       "3  7634da152a4610f1595efa32f14722fc  9d7a1d34a5052409006425275ba1c2b4   \n",
       "4  ac6c3623068f30de03045865e4e10089  df560393f3a51e74553ab94004ba5c87   \n",
       "\n",
       "   shipping_limit_date   price  freight_value  \n",
       "0  2017-09-19 09:45:35   58.90          13.29  \n",
       "1  2017-05-03 11:05:13  239.90          19.93  \n",
       "2  2018-01-18 14:48:30  199.00          17.87  \n",
       "3  2018-08-15 10:10:18   12.99          12.79  \n",
       "4  2017-02-13 13:57:51  199.90          18.14  "
      ]
     },
     "execution_count": 4,
     "metadata": {},
     "output_type": "execute_result"
    }
   ],
   "source": [
    "order_items_df = pd.read_csv('data/order_items_dataset.csv')\n",
    "order_items_df.head()"
   ]
  },
  {
   "cell_type": "code",
   "execution_count": 5,
   "metadata": {
    "colab": {
     "base_uri": "https://localhost:8080/"
    },
    "id": "XFdBv3C744MD",
    "outputId": "092d1d36-d95c-41e6-8249-139805e3ef64"
   },
   "outputs": [
    {
     "data": {
      "text/html": [
       "<div>\n",
       "<style scoped>\n",
       "    .dataframe tbody tr th:only-of-type {\n",
       "        vertical-align: middle;\n",
       "    }\n",
       "\n",
       "    .dataframe tbody tr th {\n",
       "        vertical-align: top;\n",
       "    }\n",
       "\n",
       "    .dataframe thead th {\n",
       "        text-align: right;\n",
       "    }\n",
       "</style>\n",
       "<table border=\"1\" class=\"dataframe\">\n",
       "  <thead>\n",
       "    <tr style=\"text-align: right;\">\n",
       "      <th></th>\n",
       "      <th>order_id</th>\n",
       "      <th>payment_sequential</th>\n",
       "      <th>payment_type</th>\n",
       "      <th>payment_installments</th>\n",
       "      <th>payment_value</th>\n",
       "    </tr>\n",
       "  </thead>\n",
       "  <tbody>\n",
       "    <tr>\n",
       "      <th>0</th>\n",
       "      <td>b81ef226f3fe1789b1e8b2acac839d17</td>\n",
       "      <td>1</td>\n",
       "      <td>credit_card</td>\n",
       "      <td>8</td>\n",
       "      <td>99.33</td>\n",
       "    </tr>\n",
       "    <tr>\n",
       "      <th>1</th>\n",
       "      <td>a9810da82917af2d9aefd1278f1dcfa0</td>\n",
       "      <td>1</td>\n",
       "      <td>credit_card</td>\n",
       "      <td>1</td>\n",
       "      <td>24.39</td>\n",
       "    </tr>\n",
       "    <tr>\n",
       "      <th>2</th>\n",
       "      <td>25e8ea4e93396b6fa0d3dd708e76c1bd</td>\n",
       "      <td>1</td>\n",
       "      <td>credit_card</td>\n",
       "      <td>1</td>\n",
       "      <td>65.71</td>\n",
       "    </tr>\n",
       "    <tr>\n",
       "      <th>3</th>\n",
       "      <td>ba78997921bbcdc1373bb41e913ab953</td>\n",
       "      <td>1</td>\n",
       "      <td>credit_card</td>\n",
       "      <td>8</td>\n",
       "      <td>107.78</td>\n",
       "    </tr>\n",
       "    <tr>\n",
       "      <th>4</th>\n",
       "      <td>42fdf880ba16b47b59251dd489d4441a</td>\n",
       "      <td>1</td>\n",
       "      <td>credit_card</td>\n",
       "      <td>2</td>\n",
       "      <td>128.45</td>\n",
       "    </tr>\n",
       "  </tbody>\n",
       "</table>\n",
       "</div>"
      ],
      "text/plain": [
       "                           order_id  payment_sequential payment_type  \\\n",
       "0  b81ef226f3fe1789b1e8b2acac839d17                   1  credit_card   \n",
       "1  a9810da82917af2d9aefd1278f1dcfa0                   1  credit_card   \n",
       "2  25e8ea4e93396b6fa0d3dd708e76c1bd                   1  credit_card   \n",
       "3  ba78997921bbcdc1373bb41e913ab953                   1  credit_card   \n",
       "4  42fdf880ba16b47b59251dd489d4441a                   1  credit_card   \n",
       "\n",
       "   payment_installments  payment_value  \n",
       "0                     8          99.33  \n",
       "1                     1          24.39  \n",
       "2                     1          65.71  \n",
       "3                     8         107.78  \n",
       "4                     2         128.45  "
      ]
     },
     "execution_count": 5,
     "metadata": {},
     "output_type": "execute_result"
    }
   ],
   "source": [
    "order_payments_df = pd.read_csv('data/order_payments_dataset.csv')\n",
    "order_payments_df.head()"
   ]
  },
  {
   "cell_type": "code",
   "execution_count": 6,
   "metadata": {
    "colab": {
     "base_uri": "https://localhost:8080/"
    },
    "id": "-2NWAk3P45hs",
    "outputId": "7bff0b06-8fc0-46f8-a3dd-ee2d01960cda"
   },
   "outputs": [
    {
     "data": {
      "text/html": [
       "<div>\n",
       "<style scoped>\n",
       "    .dataframe tbody tr th:only-of-type {\n",
       "        vertical-align: middle;\n",
       "    }\n",
       "\n",
       "    .dataframe tbody tr th {\n",
       "        vertical-align: top;\n",
       "    }\n",
       "\n",
       "    .dataframe thead th {\n",
       "        text-align: right;\n",
       "    }\n",
       "</style>\n",
       "<table border=\"1\" class=\"dataframe\">\n",
       "  <thead>\n",
       "    <tr style=\"text-align: right;\">\n",
       "      <th></th>\n",
       "      <th>review_id</th>\n",
       "      <th>order_id</th>\n",
       "      <th>review_score</th>\n",
       "      <th>review_comment_title</th>\n",
       "      <th>review_comment_message</th>\n",
       "      <th>review_creation_date</th>\n",
       "      <th>review_answer_timestamp</th>\n",
       "    </tr>\n",
       "  </thead>\n",
       "  <tbody>\n",
       "    <tr>\n",
       "      <th>0</th>\n",
       "      <td>7bc2406110b926393aa56f80a40eba40</td>\n",
       "      <td>73fc7af87114b39712e6da79b0a377eb</td>\n",
       "      <td>4</td>\n",
       "      <td>NaN</td>\n",
       "      <td>NaN</td>\n",
       "      <td>2018-01-18 00:00:00</td>\n",
       "      <td>2018-01-18 21:46:59</td>\n",
       "    </tr>\n",
       "    <tr>\n",
       "      <th>1</th>\n",
       "      <td>80e641a11e56f04c1ad469d5645fdfde</td>\n",
       "      <td>a548910a1c6147796b98fdf73dbeba33</td>\n",
       "      <td>5</td>\n",
       "      <td>NaN</td>\n",
       "      <td>NaN</td>\n",
       "      <td>2018-03-10 00:00:00</td>\n",
       "      <td>2018-03-11 03:05:13</td>\n",
       "    </tr>\n",
       "    <tr>\n",
       "      <th>2</th>\n",
       "      <td>228ce5500dc1d8e020d8d1322874b6f0</td>\n",
       "      <td>f9e4b658b201a9f2ecdecbb34bed034b</td>\n",
       "      <td>5</td>\n",
       "      <td>NaN</td>\n",
       "      <td>NaN</td>\n",
       "      <td>2018-02-17 00:00:00</td>\n",
       "      <td>2018-02-18 14:36:24</td>\n",
       "    </tr>\n",
       "    <tr>\n",
       "      <th>3</th>\n",
       "      <td>e64fb393e7b32834bb789ff8bb30750e</td>\n",
       "      <td>658677c97b385a9be170737859d3511b</td>\n",
       "      <td>5</td>\n",
       "      <td>NaN</td>\n",
       "      <td>Recebi bem antes do prazo estipulado.</td>\n",
       "      <td>2017-04-21 00:00:00</td>\n",
       "      <td>2017-04-21 22:02:06</td>\n",
       "    </tr>\n",
       "    <tr>\n",
       "      <th>4</th>\n",
       "      <td>f7c4243c7fe1938f181bec41a392bdeb</td>\n",
       "      <td>8e6bfb81e283fa7e4f11123a3fb894f1</td>\n",
       "      <td>5</td>\n",
       "      <td>NaN</td>\n",
       "      <td>Parabéns lojas lannister adorei comprar pela I...</td>\n",
       "      <td>2018-03-01 00:00:00</td>\n",
       "      <td>2018-03-02 10:26:53</td>\n",
       "    </tr>\n",
       "  </tbody>\n",
       "</table>\n",
       "</div>"
      ],
      "text/plain": [
       "                          review_id                          order_id  \\\n",
       "0  7bc2406110b926393aa56f80a40eba40  73fc7af87114b39712e6da79b0a377eb   \n",
       "1  80e641a11e56f04c1ad469d5645fdfde  a548910a1c6147796b98fdf73dbeba33   \n",
       "2  228ce5500dc1d8e020d8d1322874b6f0  f9e4b658b201a9f2ecdecbb34bed034b   \n",
       "3  e64fb393e7b32834bb789ff8bb30750e  658677c97b385a9be170737859d3511b   \n",
       "4  f7c4243c7fe1938f181bec41a392bdeb  8e6bfb81e283fa7e4f11123a3fb894f1   \n",
       "\n",
       "   review_score review_comment_title  \\\n",
       "0             4                  NaN   \n",
       "1             5                  NaN   \n",
       "2             5                  NaN   \n",
       "3             5                  NaN   \n",
       "4             5                  NaN   \n",
       "\n",
       "                              review_comment_message review_creation_date  \\\n",
       "0                                                NaN  2018-01-18 00:00:00   \n",
       "1                                                NaN  2018-03-10 00:00:00   \n",
       "2                                                NaN  2018-02-17 00:00:00   \n",
       "3              Recebi bem antes do prazo estipulado.  2017-04-21 00:00:00   \n",
       "4  Parabéns lojas lannister adorei comprar pela I...  2018-03-01 00:00:00   \n",
       "\n",
       "  review_answer_timestamp  \n",
       "0     2018-01-18 21:46:59  \n",
       "1     2018-03-11 03:05:13  \n",
       "2     2018-02-18 14:36:24  \n",
       "3     2017-04-21 22:02:06  \n",
       "4     2018-03-02 10:26:53  "
      ]
     },
     "execution_count": 6,
     "metadata": {},
     "output_type": "execute_result"
    }
   ],
   "source": [
    "order_reviews_df = pd.read_csv('data/order_reviews_dataset.csv')\n",
    "order_reviews_df.head()"
   ]
  },
  {
   "cell_type": "code",
   "execution_count": 7,
   "metadata": {
    "colab": {
     "base_uri": "https://localhost:8080/"
    },
    "id": "NhNzk7yd46o8",
    "outputId": "597580e4-4c89-43b5-baea-c65035b2d681"
   },
   "outputs": [
    {
     "data": {
      "text/html": [
       "<div>\n",
       "<style scoped>\n",
       "    .dataframe tbody tr th:only-of-type {\n",
       "        vertical-align: middle;\n",
       "    }\n",
       "\n",
       "    .dataframe tbody tr th {\n",
       "        vertical-align: top;\n",
       "    }\n",
       "\n",
       "    .dataframe thead th {\n",
       "        text-align: right;\n",
       "    }\n",
       "</style>\n",
       "<table border=\"1\" class=\"dataframe\">\n",
       "  <thead>\n",
       "    <tr style=\"text-align: right;\">\n",
       "      <th></th>\n",
       "      <th>order_id</th>\n",
       "      <th>customer_id</th>\n",
       "      <th>order_status</th>\n",
       "      <th>order_purchase_timestamp</th>\n",
       "      <th>order_approved_at</th>\n",
       "      <th>order_delivered_carrier_date</th>\n",
       "      <th>order_delivered_customer_date</th>\n",
       "      <th>order_estimated_delivery_date</th>\n",
       "    </tr>\n",
       "  </thead>\n",
       "  <tbody>\n",
       "    <tr>\n",
       "      <th>0</th>\n",
       "      <td>e481f51cbdc54678b7cc49136f2d6af7</td>\n",
       "      <td>9ef432eb6251297304e76186b10a928d</td>\n",
       "      <td>delivered</td>\n",
       "      <td>2017-10-02 10:56:33</td>\n",
       "      <td>2017-10-02 11:07:15</td>\n",
       "      <td>2017-10-04 19:55:00</td>\n",
       "      <td>2017-10-10 21:25:13</td>\n",
       "      <td>2017-10-18 00:00:00</td>\n",
       "    </tr>\n",
       "    <tr>\n",
       "      <th>1</th>\n",
       "      <td>53cdb2fc8bc7dce0b6741e2150273451</td>\n",
       "      <td>b0830fb4747a6c6d20dea0b8c802d7ef</td>\n",
       "      <td>delivered</td>\n",
       "      <td>2018-07-24 20:41:37</td>\n",
       "      <td>2018-07-26 03:24:27</td>\n",
       "      <td>2018-07-26 14:31:00</td>\n",
       "      <td>2018-08-07 15:27:45</td>\n",
       "      <td>2018-08-13 00:00:00</td>\n",
       "    </tr>\n",
       "    <tr>\n",
       "      <th>2</th>\n",
       "      <td>47770eb9100c2d0c44946d9cf07ec65d</td>\n",
       "      <td>41ce2a54c0b03bf3443c3d931a367089</td>\n",
       "      <td>delivered</td>\n",
       "      <td>2018-08-08 08:38:49</td>\n",
       "      <td>2018-08-08 08:55:23</td>\n",
       "      <td>2018-08-08 13:50:00</td>\n",
       "      <td>2018-08-17 18:06:29</td>\n",
       "      <td>2018-09-04 00:00:00</td>\n",
       "    </tr>\n",
       "    <tr>\n",
       "      <th>3</th>\n",
       "      <td>949d5b44dbf5de918fe9c16f97b45f8a</td>\n",
       "      <td>f88197465ea7920adcdbec7375364d82</td>\n",
       "      <td>delivered</td>\n",
       "      <td>2017-11-18 19:28:06</td>\n",
       "      <td>2017-11-18 19:45:59</td>\n",
       "      <td>2017-11-22 13:39:59</td>\n",
       "      <td>2017-12-02 00:28:42</td>\n",
       "      <td>2017-12-15 00:00:00</td>\n",
       "    </tr>\n",
       "    <tr>\n",
       "      <th>4</th>\n",
       "      <td>ad21c59c0840e6cb83a9ceb5573f8159</td>\n",
       "      <td>8ab97904e6daea8866dbdbc4fb7aad2c</td>\n",
       "      <td>delivered</td>\n",
       "      <td>2018-02-13 21:18:39</td>\n",
       "      <td>2018-02-13 22:20:29</td>\n",
       "      <td>2018-02-14 19:46:34</td>\n",
       "      <td>2018-02-16 18:17:02</td>\n",
       "      <td>2018-02-26 00:00:00</td>\n",
       "    </tr>\n",
       "  </tbody>\n",
       "</table>\n",
       "</div>"
      ],
      "text/plain": [
       "                           order_id                       customer_id  \\\n",
       "0  e481f51cbdc54678b7cc49136f2d6af7  9ef432eb6251297304e76186b10a928d   \n",
       "1  53cdb2fc8bc7dce0b6741e2150273451  b0830fb4747a6c6d20dea0b8c802d7ef   \n",
       "2  47770eb9100c2d0c44946d9cf07ec65d  41ce2a54c0b03bf3443c3d931a367089   \n",
       "3  949d5b44dbf5de918fe9c16f97b45f8a  f88197465ea7920adcdbec7375364d82   \n",
       "4  ad21c59c0840e6cb83a9ceb5573f8159  8ab97904e6daea8866dbdbc4fb7aad2c   \n",
       "\n",
       "  order_status order_purchase_timestamp    order_approved_at  \\\n",
       "0    delivered      2017-10-02 10:56:33  2017-10-02 11:07:15   \n",
       "1    delivered      2018-07-24 20:41:37  2018-07-26 03:24:27   \n",
       "2    delivered      2018-08-08 08:38:49  2018-08-08 08:55:23   \n",
       "3    delivered      2017-11-18 19:28:06  2017-11-18 19:45:59   \n",
       "4    delivered      2018-02-13 21:18:39  2018-02-13 22:20:29   \n",
       "\n",
       "  order_delivered_carrier_date order_delivered_customer_date  \\\n",
       "0          2017-10-04 19:55:00           2017-10-10 21:25:13   \n",
       "1          2018-07-26 14:31:00           2018-08-07 15:27:45   \n",
       "2          2018-08-08 13:50:00           2018-08-17 18:06:29   \n",
       "3          2017-11-22 13:39:59           2017-12-02 00:28:42   \n",
       "4          2018-02-14 19:46:34           2018-02-16 18:17:02   \n",
       "\n",
       "  order_estimated_delivery_date  \n",
       "0           2017-10-18 00:00:00  \n",
       "1           2018-08-13 00:00:00  \n",
       "2           2018-09-04 00:00:00  \n",
       "3           2017-12-15 00:00:00  \n",
       "4           2018-02-26 00:00:00  "
      ]
     },
     "execution_count": 7,
     "metadata": {},
     "output_type": "execute_result"
    }
   ],
   "source": [
    "orders_df = pd.read_csv('data/orders_dataset.csv')\n",
    "orders_df.head()"
   ]
  },
  {
   "cell_type": "code",
   "execution_count": 8,
   "metadata": {
    "colab": {
     "base_uri": "https://localhost:8080/"
    },
    "id": "MjrUeW6a47oB",
    "outputId": "eb33be1b-23da-43c7-d938-ed66b079a042"
   },
   "outputs": [
    {
     "data": {
      "text/html": [
       "<div>\n",
       "<style scoped>\n",
       "    .dataframe tbody tr th:only-of-type {\n",
       "        vertical-align: middle;\n",
       "    }\n",
       "\n",
       "    .dataframe tbody tr th {\n",
       "        vertical-align: top;\n",
       "    }\n",
       "\n",
       "    .dataframe thead th {\n",
       "        text-align: right;\n",
       "    }\n",
       "</style>\n",
       "<table border=\"1\" class=\"dataframe\">\n",
       "  <thead>\n",
       "    <tr style=\"text-align: right;\">\n",
       "      <th></th>\n",
       "      <th>product_category_name</th>\n",
       "      <th>product_category_name_english</th>\n",
       "    </tr>\n",
       "  </thead>\n",
       "  <tbody>\n",
       "    <tr>\n",
       "      <th>0</th>\n",
       "      <td>beleza_saude</td>\n",
       "      <td>health_beauty</td>\n",
       "    </tr>\n",
       "    <tr>\n",
       "      <th>1</th>\n",
       "      <td>informatica_acessorios</td>\n",
       "      <td>computers_accessories</td>\n",
       "    </tr>\n",
       "    <tr>\n",
       "      <th>2</th>\n",
       "      <td>automotivo</td>\n",
       "      <td>auto</td>\n",
       "    </tr>\n",
       "    <tr>\n",
       "      <th>3</th>\n",
       "      <td>cama_mesa_banho</td>\n",
       "      <td>bed_bath_table</td>\n",
       "    </tr>\n",
       "    <tr>\n",
       "      <th>4</th>\n",
       "      <td>moveis_decoracao</td>\n",
       "      <td>furniture_decor</td>\n",
       "    </tr>\n",
       "  </tbody>\n",
       "</table>\n",
       "</div>"
      ],
      "text/plain": [
       "    product_category_name product_category_name_english\n",
       "0            beleza_saude                 health_beauty\n",
       "1  informatica_acessorios         computers_accessories\n",
       "2              automotivo                          auto\n",
       "3         cama_mesa_banho                bed_bath_table\n",
       "4        moveis_decoracao               furniture_decor"
      ]
     },
     "execution_count": 8,
     "metadata": {},
     "output_type": "execute_result"
    }
   ],
   "source": [
    "product_category_df =pd.read_csv('data/product_category_name_translation.csv')\n",
    "product_category_df.head()"
   ]
  },
  {
   "cell_type": "code",
   "execution_count": 9,
   "metadata": {
    "colab": {
     "base_uri": "https://localhost:8080/"
    },
    "id": "dSaoFN7_49Sa",
    "outputId": "a97b9b1a-3cba-4239-8c8a-99a22aab1ee2"
   },
   "outputs": [
    {
     "data": {
      "text/html": [
       "<div>\n",
       "<style scoped>\n",
       "    .dataframe tbody tr th:only-of-type {\n",
       "        vertical-align: middle;\n",
       "    }\n",
       "\n",
       "    .dataframe tbody tr th {\n",
       "        vertical-align: top;\n",
       "    }\n",
       "\n",
       "    .dataframe thead th {\n",
       "        text-align: right;\n",
       "    }\n",
       "</style>\n",
       "<table border=\"1\" class=\"dataframe\">\n",
       "  <thead>\n",
       "    <tr style=\"text-align: right;\">\n",
       "      <th></th>\n",
       "      <th>product_id</th>\n",
       "      <th>product_category_name</th>\n",
       "      <th>product_name_lenght</th>\n",
       "      <th>product_description_lenght</th>\n",
       "      <th>product_photos_qty</th>\n",
       "      <th>product_weight_g</th>\n",
       "      <th>product_length_cm</th>\n",
       "      <th>product_height_cm</th>\n",
       "      <th>product_width_cm</th>\n",
       "    </tr>\n",
       "  </thead>\n",
       "  <tbody>\n",
       "    <tr>\n",
       "      <th>0</th>\n",
       "      <td>1e9e8ef04dbcff4541ed26657ea517e5</td>\n",
       "      <td>perfumaria</td>\n",
       "      <td>40.0</td>\n",
       "      <td>287.0</td>\n",
       "      <td>1.0</td>\n",
       "      <td>225.0</td>\n",
       "      <td>16.0</td>\n",
       "      <td>10.0</td>\n",
       "      <td>14.0</td>\n",
       "    </tr>\n",
       "    <tr>\n",
       "      <th>1</th>\n",
       "      <td>3aa071139cb16b67ca9e5dea641aaa2f</td>\n",
       "      <td>artes</td>\n",
       "      <td>44.0</td>\n",
       "      <td>276.0</td>\n",
       "      <td>1.0</td>\n",
       "      <td>1000.0</td>\n",
       "      <td>30.0</td>\n",
       "      <td>18.0</td>\n",
       "      <td>20.0</td>\n",
       "    </tr>\n",
       "    <tr>\n",
       "      <th>2</th>\n",
       "      <td>96bd76ec8810374ed1b65e291975717f</td>\n",
       "      <td>esporte_lazer</td>\n",
       "      <td>46.0</td>\n",
       "      <td>250.0</td>\n",
       "      <td>1.0</td>\n",
       "      <td>154.0</td>\n",
       "      <td>18.0</td>\n",
       "      <td>9.0</td>\n",
       "      <td>15.0</td>\n",
       "    </tr>\n",
       "    <tr>\n",
       "      <th>3</th>\n",
       "      <td>cef67bcfe19066a932b7673e239eb23d</td>\n",
       "      <td>bebes</td>\n",
       "      <td>27.0</td>\n",
       "      <td>261.0</td>\n",
       "      <td>1.0</td>\n",
       "      <td>371.0</td>\n",
       "      <td>26.0</td>\n",
       "      <td>4.0</td>\n",
       "      <td>26.0</td>\n",
       "    </tr>\n",
       "    <tr>\n",
       "      <th>4</th>\n",
       "      <td>9dc1a7de274444849c219cff195d0b71</td>\n",
       "      <td>utilidades_domesticas</td>\n",
       "      <td>37.0</td>\n",
       "      <td>402.0</td>\n",
       "      <td>4.0</td>\n",
       "      <td>625.0</td>\n",
       "      <td>20.0</td>\n",
       "      <td>17.0</td>\n",
       "      <td>13.0</td>\n",
       "    </tr>\n",
       "  </tbody>\n",
       "</table>\n",
       "</div>"
      ],
      "text/plain": [
       "                         product_id  product_category_name  \\\n",
       "0  1e9e8ef04dbcff4541ed26657ea517e5             perfumaria   \n",
       "1  3aa071139cb16b67ca9e5dea641aaa2f                  artes   \n",
       "2  96bd76ec8810374ed1b65e291975717f          esporte_lazer   \n",
       "3  cef67bcfe19066a932b7673e239eb23d                  bebes   \n",
       "4  9dc1a7de274444849c219cff195d0b71  utilidades_domesticas   \n",
       "\n",
       "   product_name_lenght  product_description_lenght  product_photos_qty  \\\n",
       "0                 40.0                       287.0                 1.0   \n",
       "1                 44.0                       276.0                 1.0   \n",
       "2                 46.0                       250.0                 1.0   \n",
       "3                 27.0                       261.0                 1.0   \n",
       "4                 37.0                       402.0                 4.0   \n",
       "\n",
       "   product_weight_g  product_length_cm  product_height_cm  product_width_cm  \n",
       "0             225.0               16.0               10.0              14.0  \n",
       "1            1000.0               30.0               18.0              20.0  \n",
       "2             154.0               18.0                9.0              15.0  \n",
       "3             371.0               26.0                4.0              26.0  \n",
       "4             625.0               20.0               17.0              13.0  "
      ]
     },
     "execution_count": 9,
     "metadata": {},
     "output_type": "execute_result"
    }
   ],
   "source": [
    "products_df = pd.read_csv('data/products_dataset.csv')\n",
    "products_df.head()"
   ]
  },
  {
   "cell_type": "code",
   "execution_count": 10,
   "metadata": {
    "colab": {
     "base_uri": "https://localhost:8080/"
    },
    "id": "2CircRp24-WH",
    "outputId": "1bfa0428-3720-42be-b67f-f144c815d36f"
   },
   "outputs": [
    {
     "data": {
      "text/html": [
       "<div>\n",
       "<style scoped>\n",
       "    .dataframe tbody tr th:only-of-type {\n",
       "        vertical-align: middle;\n",
       "    }\n",
       "\n",
       "    .dataframe tbody tr th {\n",
       "        vertical-align: top;\n",
       "    }\n",
       "\n",
       "    .dataframe thead th {\n",
       "        text-align: right;\n",
       "    }\n",
       "</style>\n",
       "<table border=\"1\" class=\"dataframe\">\n",
       "  <thead>\n",
       "    <tr style=\"text-align: right;\">\n",
       "      <th></th>\n",
       "      <th>seller_id</th>\n",
       "      <th>seller_zip_code_prefix</th>\n",
       "      <th>seller_city</th>\n",
       "      <th>seller_state</th>\n",
       "    </tr>\n",
       "  </thead>\n",
       "  <tbody>\n",
       "    <tr>\n",
       "      <th>0</th>\n",
       "      <td>3442f8959a84dea7ee197c632cb2df15</td>\n",
       "      <td>13023</td>\n",
       "      <td>campinas</td>\n",
       "      <td>SP</td>\n",
       "    </tr>\n",
       "    <tr>\n",
       "      <th>1</th>\n",
       "      <td>d1b65fc7debc3361ea86b5f14c68d2e2</td>\n",
       "      <td>13844</td>\n",
       "      <td>mogi guacu</td>\n",
       "      <td>SP</td>\n",
       "    </tr>\n",
       "    <tr>\n",
       "      <th>2</th>\n",
       "      <td>ce3ad9de960102d0677a81f5d0bb7b2d</td>\n",
       "      <td>20031</td>\n",
       "      <td>rio de janeiro</td>\n",
       "      <td>RJ</td>\n",
       "    </tr>\n",
       "    <tr>\n",
       "      <th>3</th>\n",
       "      <td>c0f3eea2e14555b6faeea3dd58c1b1c3</td>\n",
       "      <td>4195</td>\n",
       "      <td>sao paulo</td>\n",
       "      <td>SP</td>\n",
       "    </tr>\n",
       "    <tr>\n",
       "      <th>4</th>\n",
       "      <td>51a04a8a6bdcb23deccc82b0b80742cf</td>\n",
       "      <td>12914</td>\n",
       "      <td>braganca paulista</td>\n",
       "      <td>SP</td>\n",
       "    </tr>\n",
       "  </tbody>\n",
       "</table>\n",
       "</div>"
      ],
      "text/plain": [
       "                          seller_id  seller_zip_code_prefix  \\\n",
       "0  3442f8959a84dea7ee197c632cb2df15                   13023   \n",
       "1  d1b65fc7debc3361ea86b5f14c68d2e2                   13844   \n",
       "2  ce3ad9de960102d0677a81f5d0bb7b2d                   20031   \n",
       "3  c0f3eea2e14555b6faeea3dd58c1b1c3                    4195   \n",
       "4  51a04a8a6bdcb23deccc82b0b80742cf                   12914   \n",
       "\n",
       "         seller_city seller_state  \n",
       "0           campinas           SP  \n",
       "1         mogi guacu           SP  \n",
       "2     rio de janeiro           RJ  \n",
       "3          sao paulo           SP  \n",
       "4  braganca paulista           SP  "
      ]
     },
     "execution_count": 10,
     "metadata": {},
     "output_type": "execute_result"
    }
   ],
   "source": [
    "sellers_df = pd.read_csv('data/sellers_dataset.csv')\n",
    "sellers_df.head()"
   ]
  },
  {
   "cell_type": "markdown",
   "metadata": {
    "id": "FHSiqaZp8DC1"
   },
   "source": [
    "### Assessing Data"
   ]
  },
  {
   "cell_type": "markdown",
   "metadata": {},
   "source": [
    "#### Membuat Function Assessing Data"
   ]
  },
  {
   "cell_type": "code",
   "execution_count": 11,
   "metadata": {},
   "outputs": [],
   "source": [
    "def cek_info(df):\n",
    "    return df.info()"
   ]
  },
  {
   "cell_type": "code",
   "execution_count": 12,
   "metadata": {},
   "outputs": [],
   "source": [
    "def cek_duplikat(df):\n",
    "    duplicated = df.duplicated().sum()\n",
    "    if duplicated == 0:\n",
    "        values = print('Tidak terdapat data duplikat')\n",
    "    else:\n",
    "        values = print('Terdapat sebanyak {} data duplikat'.format(duplicated))\n",
    "    return values"
   ]
  },
  {
   "cell_type": "code",
   "execution_count": 13,
   "metadata": {},
   "outputs": [],
   "source": [
    "def cek_describe(df):\n",
    "    return df.describe()"
   ]
  },
  {
   "cell_type": "code",
   "execution_count": 14,
   "metadata": {},
   "outputs": [],
   "source": [
    "def cek_mv(df):\n",
    "    has_missing = False\n",
    "    for col in df.columns:\n",
    "        missing_count = df[col].isnull().sum()\n",
    "        if  missing_count > 0:\n",
    "            values = print('Kolom \"{}\" mempunyai missing value sebanyak {}.'.format(col, missing_count))\n",
    "            has_missing = True\n",
    "    if not has_missing:\n",
    "        values = print('DataFrame tidak mempunyai missing values.')\n",
    "    return values"
   ]
  },
  {
   "cell_type": "markdown",
   "metadata": {
    "id": "Zrn8aM1-5kM1"
   },
   "source": [
    "#### Menilai Dataset Customers"
   ]
  },
  {
   "cell_type": "code",
   "execution_count": 15,
   "metadata": {
    "colab": {
     "base_uri": "https://localhost:8080/"
    },
    "id": "ax-3tEjc9Cj1",
    "outputId": "a57868cd-bfc9-442a-848d-b3fda829316a"
   },
   "outputs": [
    {
     "name": "stdout",
     "output_type": "stream",
     "text": [
      "<class 'pandas.core.frame.DataFrame'>\n",
      "RangeIndex: 99441 entries, 0 to 99440\n",
      "Data columns (total 5 columns):\n",
      " #   Column                    Non-Null Count  Dtype \n",
      "---  ------                    --------------  ----- \n",
      " 0   customer_id               99441 non-null  object\n",
      " 1   customer_unique_id        99441 non-null  object\n",
      " 2   customer_zip_code_prefix  99441 non-null  int64 \n",
      " 3   customer_city             99441 non-null  object\n",
      " 4   customer_state            99441 non-null  object\n",
      "dtypes: int64(1), object(4)\n",
      "memory usage: 3.8+ MB\n"
     ]
    }
   ],
   "source": [
    "cek_info(customers_df)"
   ]
  },
  {
   "cell_type": "markdown",
   "metadata": {
    "id": "1FImge-p56nV"
   },
   "source": [
    "Tidak ada kesalahan tipe data"
   ]
  },
  {
   "cell_type": "code",
   "execution_count": 16,
   "metadata": {},
   "outputs": [
    {
     "name": "stdout",
     "output_type": "stream",
     "text": [
      "DataFrame tidak mempunyai missing values.\n"
     ]
    }
   ],
   "source": [
    "cek_mv(customers_df)"
   ]
  },
  {
   "cell_type": "code",
   "execution_count": 17,
   "metadata": {
    "colab": {
     "base_uri": "https://localhost:8080/"
    },
    "id": "oLfkFOJy6LST",
    "outputId": "e6ca2f79-19aa-40cf-d0da-3af3ec57125d"
   },
   "outputs": [
    {
     "name": "stdout",
     "output_type": "stream",
     "text": [
      "Tidak terdapat data duplikat\n"
     ]
    }
   ],
   "source": [
    "cek_duplikat(customers_df)"
   ]
  },
  {
   "cell_type": "code",
   "execution_count": 18,
   "metadata": {
    "colab": {
     "base_uri": "https://localhost:8080/"
    },
    "id": "-ykTJOEG6WuQ",
    "outputId": "b6bd285b-1f93-43ad-c744-1287cbea654a"
   },
   "outputs": [
    {
     "data": {
      "text/html": [
       "<div>\n",
       "<style scoped>\n",
       "    .dataframe tbody tr th:only-of-type {\n",
       "        vertical-align: middle;\n",
       "    }\n",
       "\n",
       "    .dataframe tbody tr th {\n",
       "        vertical-align: top;\n",
       "    }\n",
       "\n",
       "    .dataframe thead th {\n",
       "        text-align: right;\n",
       "    }\n",
       "</style>\n",
       "<table border=\"1\" class=\"dataframe\">\n",
       "  <thead>\n",
       "    <tr style=\"text-align: right;\">\n",
       "      <th></th>\n",
       "      <th>customer_zip_code_prefix</th>\n",
       "    </tr>\n",
       "  </thead>\n",
       "  <tbody>\n",
       "    <tr>\n",
       "      <th>count</th>\n",
       "      <td>99441.000000</td>\n",
       "    </tr>\n",
       "    <tr>\n",
       "      <th>mean</th>\n",
       "      <td>35137.474583</td>\n",
       "    </tr>\n",
       "    <tr>\n",
       "      <th>std</th>\n",
       "      <td>29797.938996</td>\n",
       "    </tr>\n",
       "    <tr>\n",
       "      <th>min</th>\n",
       "      <td>1003.000000</td>\n",
       "    </tr>\n",
       "    <tr>\n",
       "      <th>25%</th>\n",
       "      <td>11347.000000</td>\n",
       "    </tr>\n",
       "    <tr>\n",
       "      <th>50%</th>\n",
       "      <td>24416.000000</td>\n",
       "    </tr>\n",
       "    <tr>\n",
       "      <th>75%</th>\n",
       "      <td>58900.000000</td>\n",
       "    </tr>\n",
       "    <tr>\n",
       "      <th>max</th>\n",
       "      <td>99990.000000</td>\n",
       "    </tr>\n",
       "  </tbody>\n",
       "</table>\n",
       "</div>"
      ],
      "text/plain": [
       "       customer_zip_code_prefix\n",
       "count              99441.000000\n",
       "mean               35137.474583\n",
       "std                29797.938996\n",
       "min                 1003.000000\n",
       "25%                11347.000000\n",
       "50%                24416.000000\n",
       "75%                58900.000000\n",
       "max                99990.000000"
      ]
     },
     "execution_count": 18,
     "metadata": {},
     "output_type": "execute_result"
    }
   ],
   "source": [
    "cek_describe(customers_df)"
   ]
  },
  {
   "cell_type": "markdown",
   "metadata": {
    "id": "WE2QXEBl6e-r"
   },
   "source": [
    "Tidak ada inaccuracy data maupun outliers. Setiap nilai (min, 25%, 50%, 75%, dan max) memang memiliki rentan nilai yang jauh. Lagipula, ini adalah customer_zip_code_prefix, sehingga tidak perlu ada pemeriksaan ulang atau penghapusan data."
   ]
  },
  {
   "cell_type": "markdown",
   "metadata": {
    "id": "kQ-2zD7-61V_"
   },
   "source": [
    "#### Menilai Dataset Geolocation"
   ]
  },
  {
   "cell_type": "code",
   "execution_count": 19,
   "metadata": {
    "colab": {
     "base_uri": "https://localhost:8080/"
    },
    "id": "5cPowUKJ6z3x",
    "outputId": "81fe160e-86c8-4ebe-c2e7-a96cdc938dca"
   },
   "outputs": [
    {
     "name": "stdout",
     "output_type": "stream",
     "text": [
      "<class 'pandas.core.frame.DataFrame'>\n",
      "RangeIndex: 1000163 entries, 0 to 1000162\n",
      "Data columns (total 5 columns):\n",
      " #   Column                       Non-Null Count    Dtype  \n",
      "---  ------                       --------------    -----  \n",
      " 0   geolocation_zip_code_prefix  1000163 non-null  int64  \n",
      " 1   geolocation_lat              1000163 non-null  float64\n",
      " 2   geolocation_lng              1000163 non-null  float64\n",
      " 3   geolocation_city             1000163 non-null  object \n",
      " 4   geolocation_state            1000163 non-null  object \n",
      "dtypes: float64(2), int64(1), object(2)\n",
      "memory usage: 38.2+ MB\n"
     ]
    }
   ],
   "source": [
    "cek_info(geolocation_df)"
   ]
  },
  {
   "cell_type": "markdown",
   "metadata": {},
   "source": [
    "Dataframe tidak memiliki kesalahan tipe data"
   ]
  },
  {
   "cell_type": "code",
   "execution_count": 20,
   "metadata": {},
   "outputs": [
    {
     "name": "stdout",
     "output_type": "stream",
     "text": [
      "DataFrame tidak mempunyai missing values.\n"
     ]
    }
   ],
   "source": [
    "cek_mv(geolocation_df)"
   ]
  },
  {
   "cell_type": "code",
   "execution_count": 21,
   "metadata": {
    "colab": {
     "base_uri": "https://localhost:8080/"
    },
    "id": "-xZITZlY9IjA",
    "outputId": "bd761033-d1c6-4d70-ccc9-1bea84fbcdf7"
   },
   "outputs": [
    {
     "name": "stdout",
     "output_type": "stream",
     "text": [
      "Terdapat sebanyak 261831 data duplikat\n"
     ]
    }
   ],
   "source": [
    "cek_duplikat(geolocation_df)"
   ]
  },
  {
   "cell_type": "code",
   "execution_count": 22,
   "metadata": {
    "colab": {
     "base_uri": "https://localhost:8080/"
    },
    "id": "MSFV0NUl9EeC",
    "outputId": "ce1cac1e-9c43-4c50-ae4e-26f790d148f8"
   },
   "outputs": [
    {
     "data": {
      "text/html": [
       "<div>\n",
       "<style scoped>\n",
       "    .dataframe tbody tr th:only-of-type {\n",
       "        vertical-align: middle;\n",
       "    }\n",
       "\n",
       "    .dataframe tbody tr th {\n",
       "        vertical-align: top;\n",
       "    }\n",
       "\n",
       "    .dataframe thead th {\n",
       "        text-align: right;\n",
       "    }\n",
       "</style>\n",
       "<table border=\"1\" class=\"dataframe\">\n",
       "  <thead>\n",
       "    <tr style=\"text-align: right;\">\n",
       "      <th></th>\n",
       "      <th>geolocation_zip_code_prefix</th>\n",
       "      <th>geolocation_lat</th>\n",
       "      <th>geolocation_lng</th>\n",
       "    </tr>\n",
       "  </thead>\n",
       "  <tbody>\n",
       "    <tr>\n",
       "      <th>count</th>\n",
       "      <td>1.000163e+06</td>\n",
       "      <td>1.000163e+06</td>\n",
       "      <td>1.000163e+06</td>\n",
       "    </tr>\n",
       "    <tr>\n",
       "      <th>mean</th>\n",
       "      <td>3.657417e+04</td>\n",
       "      <td>-2.117615e+01</td>\n",
       "      <td>-4.639054e+01</td>\n",
       "    </tr>\n",
       "    <tr>\n",
       "      <th>std</th>\n",
       "      <td>3.054934e+04</td>\n",
       "      <td>5.715866e+00</td>\n",
       "      <td>4.269748e+00</td>\n",
       "    </tr>\n",
       "    <tr>\n",
       "      <th>min</th>\n",
       "      <td>1.001000e+03</td>\n",
       "      <td>-3.660537e+01</td>\n",
       "      <td>-1.014668e+02</td>\n",
       "    </tr>\n",
       "    <tr>\n",
       "      <th>25%</th>\n",
       "      <td>1.107500e+04</td>\n",
       "      <td>-2.360355e+01</td>\n",
       "      <td>-4.857317e+01</td>\n",
       "    </tr>\n",
       "    <tr>\n",
       "      <th>50%</th>\n",
       "      <td>2.653000e+04</td>\n",
       "      <td>-2.291938e+01</td>\n",
       "      <td>-4.663788e+01</td>\n",
       "    </tr>\n",
       "    <tr>\n",
       "      <th>75%</th>\n",
       "      <td>6.350400e+04</td>\n",
       "      <td>-1.997962e+01</td>\n",
       "      <td>-4.376771e+01</td>\n",
       "    </tr>\n",
       "    <tr>\n",
       "      <th>max</th>\n",
       "      <td>9.999000e+04</td>\n",
       "      <td>4.506593e+01</td>\n",
       "      <td>1.211054e+02</td>\n",
       "    </tr>\n",
       "  </tbody>\n",
       "</table>\n",
       "</div>"
      ],
      "text/plain": [
       "       geolocation_zip_code_prefix  geolocation_lat  geolocation_lng\n",
       "count                 1.000163e+06     1.000163e+06     1.000163e+06\n",
       "mean                  3.657417e+04    -2.117615e+01    -4.639054e+01\n",
       "std                   3.054934e+04     5.715866e+00     4.269748e+00\n",
       "min                   1.001000e+03    -3.660537e+01    -1.014668e+02\n",
       "25%                   1.107500e+04    -2.360355e+01    -4.857317e+01\n",
       "50%                   2.653000e+04    -2.291938e+01    -4.663788e+01\n",
       "75%                   6.350400e+04    -1.997962e+01    -4.376771e+01\n",
       "max                   9.999000e+04     4.506593e+01     1.211054e+02"
      ]
     },
     "execution_count": 22,
     "metadata": {},
     "output_type": "execute_result"
    }
   ],
   "source": [
    "cek_describe(geolocation_df)"
   ]
  },
  {
   "cell_type": "markdown",
   "metadata": {
    "id": "mAvsR9LbKTkS"
   },
   "source": [
    "Tidak ada inacurracy pada data geolocation."
   ]
  },
  {
   "cell_type": "markdown",
   "metadata": {
    "id": "VYwzs440KhTK"
   },
   "source": [
    "#### Menilai Dataset order_items"
   ]
  },
  {
   "cell_type": "code",
   "execution_count": 23,
   "metadata": {
    "colab": {
     "base_uri": "https://localhost:8080/"
    },
    "id": "0OnfGjtiK2vh",
    "outputId": "498c83ae-13e8-4db4-f201-d09458ef5ad0"
   },
   "outputs": [
    {
     "name": "stdout",
     "output_type": "stream",
     "text": [
      "<class 'pandas.core.frame.DataFrame'>\n",
      "RangeIndex: 112650 entries, 0 to 112649\n",
      "Data columns (total 7 columns):\n",
      " #   Column               Non-Null Count   Dtype  \n",
      "---  ------               --------------   -----  \n",
      " 0   order_id             112650 non-null  object \n",
      " 1   order_item_id        112650 non-null  int64  \n",
      " 2   product_id           112650 non-null  object \n",
      " 3   seller_id            112650 non-null  object \n",
      " 4   shipping_limit_date  112650 non-null  object \n",
      " 5   price                112650 non-null  float64\n",
      " 6   freight_value        112650 non-null  float64\n",
      "dtypes: float64(2), int64(1), object(4)\n",
      "memory usage: 6.0+ MB\n"
     ]
    }
   ],
   "source": [
    "cek_info(order_items_df)"
   ]
  },
  {
   "cell_type": "markdown",
   "metadata": {
    "id": "k8L0LSZfLN-8"
   },
   "source": [
    "Kita tidak menggunakan shipping_limit_date"
   ]
  },
  {
   "cell_type": "code",
   "execution_count": 24,
   "metadata": {},
   "outputs": [],
   "source": [
    "order_items_df = order_items_df.drop('shipping_limit_date', axis=1)"
   ]
  },
  {
   "cell_type": "code",
   "execution_count": 25,
   "metadata": {},
   "outputs": [
    {
     "name": "stdout",
     "output_type": "stream",
     "text": [
      "DataFrame tidak mempunyai missing values.\n"
     ]
    }
   ],
   "source": [
    "cek_mv(order_items_df)"
   ]
  },
  {
   "cell_type": "code",
   "execution_count": 26,
   "metadata": {
    "colab": {
     "base_uri": "https://localhost:8080/"
    },
    "id": "MRAkrbcoLBDF",
    "outputId": "109073a6-ed91-4b73-8600-d3f470d0eedc"
   },
   "outputs": [
    {
     "name": "stdout",
     "output_type": "stream",
     "text": [
      "Tidak terdapat data duplikat\n"
     ]
    }
   ],
   "source": [
    "cek_duplikat(order_items_df)"
   ]
  },
  {
   "cell_type": "code",
   "execution_count": 27,
   "metadata": {
    "colab": {
     "base_uri": "https://localhost:8080/"
    },
    "id": "V8GqWg-6LLYL",
    "outputId": "0a138c39-a6f4-44c2-9c16-d1524df79d6c"
   },
   "outputs": [
    {
     "data": {
      "text/html": [
       "<div>\n",
       "<style scoped>\n",
       "    .dataframe tbody tr th:only-of-type {\n",
       "        vertical-align: middle;\n",
       "    }\n",
       "\n",
       "    .dataframe tbody tr th {\n",
       "        vertical-align: top;\n",
       "    }\n",
       "\n",
       "    .dataframe thead th {\n",
       "        text-align: right;\n",
       "    }\n",
       "</style>\n",
       "<table border=\"1\" class=\"dataframe\">\n",
       "  <thead>\n",
       "    <tr style=\"text-align: right;\">\n",
       "      <th></th>\n",
       "      <th>order_item_id</th>\n",
       "      <th>price</th>\n",
       "      <th>freight_value</th>\n",
       "    </tr>\n",
       "  </thead>\n",
       "  <tbody>\n",
       "    <tr>\n",
       "      <th>count</th>\n",
       "      <td>112650.000000</td>\n",
       "      <td>112650.000000</td>\n",
       "      <td>112650.000000</td>\n",
       "    </tr>\n",
       "    <tr>\n",
       "      <th>mean</th>\n",
       "      <td>1.197834</td>\n",
       "      <td>120.653739</td>\n",
       "      <td>19.990320</td>\n",
       "    </tr>\n",
       "    <tr>\n",
       "      <th>std</th>\n",
       "      <td>0.705124</td>\n",
       "      <td>183.633928</td>\n",
       "      <td>15.806405</td>\n",
       "    </tr>\n",
       "    <tr>\n",
       "      <th>min</th>\n",
       "      <td>1.000000</td>\n",
       "      <td>0.850000</td>\n",
       "      <td>0.000000</td>\n",
       "    </tr>\n",
       "    <tr>\n",
       "      <th>25%</th>\n",
       "      <td>1.000000</td>\n",
       "      <td>39.900000</td>\n",
       "      <td>13.080000</td>\n",
       "    </tr>\n",
       "    <tr>\n",
       "      <th>50%</th>\n",
       "      <td>1.000000</td>\n",
       "      <td>74.990000</td>\n",
       "      <td>16.260000</td>\n",
       "    </tr>\n",
       "    <tr>\n",
       "      <th>75%</th>\n",
       "      <td>1.000000</td>\n",
       "      <td>134.900000</td>\n",
       "      <td>21.150000</td>\n",
       "    </tr>\n",
       "    <tr>\n",
       "      <th>max</th>\n",
       "      <td>21.000000</td>\n",
       "      <td>6735.000000</td>\n",
       "      <td>409.680000</td>\n",
       "    </tr>\n",
       "  </tbody>\n",
       "</table>\n",
       "</div>"
      ],
      "text/plain": [
       "       order_item_id          price  freight_value\n",
       "count  112650.000000  112650.000000  112650.000000\n",
       "mean        1.197834     120.653739      19.990320\n",
       "std         0.705124     183.633928      15.806405\n",
       "min         1.000000       0.850000       0.000000\n",
       "25%         1.000000      39.900000      13.080000\n",
       "50%         1.000000      74.990000      16.260000\n",
       "75%         1.000000     134.900000      21.150000\n",
       "max        21.000000    6735.000000     409.680000"
      ]
     },
     "execution_count": 27,
     "metadata": {},
     "output_type": "execute_result"
    }
   ],
   "source": [
    "cek_describe(order_items_df)"
   ]
  },
  {
   "cell_type": "markdown",
   "metadata": {
    "id": "d9jh45SKLjyf"
   },
   "source": [
    "Dapat dilihat bahwa nilai mean dengan max pada **price dan freight_value** terbilang cukup jauh, yang menunjukkan kemungkinan adanya outliers pada data tersebut. Untuk **order_item_id**, perlu diperiksa apakah ada inaccuracy data dari tabel tersebut atau tidak."
   ]
  },
  {
   "cell_type": "markdown",
   "metadata": {
    "id": "VCAcmuIZMAX5"
   },
   "source": [
    "#### Menilai dataset order_payments"
   ]
  },
  {
   "cell_type": "code",
   "execution_count": 28,
   "metadata": {
    "colab": {
     "base_uri": "https://localhost:8080/"
    },
    "id": "OmfycAyJMGHY",
    "outputId": "62b08bb4-6b1b-4c9a-f03f-1ec1dc00a13d"
   },
   "outputs": [
    {
     "name": "stdout",
     "output_type": "stream",
     "text": [
      "<class 'pandas.core.frame.DataFrame'>\n",
      "RangeIndex: 103886 entries, 0 to 103885\n",
      "Data columns (total 5 columns):\n",
      " #   Column                Non-Null Count   Dtype  \n",
      "---  ------                --------------   -----  \n",
      " 0   order_id              103886 non-null  object \n",
      " 1   payment_sequential    103886 non-null  int64  \n",
      " 2   payment_type          103886 non-null  object \n",
      " 3   payment_installments  103886 non-null  int64  \n",
      " 4   payment_value         103886 non-null  float64\n",
      "dtypes: float64(1), int64(2), object(2)\n",
      "memory usage: 4.0+ MB\n"
     ]
    }
   ],
   "source": [
    "cek_info(order_payments_df)"
   ]
  },
  {
   "cell_type": "code",
   "execution_count": 29,
   "metadata": {},
   "outputs": [
    {
     "name": "stdout",
     "output_type": "stream",
     "text": [
      "DataFrame tidak mempunyai missing values.\n"
     ]
    }
   ],
   "source": [
    "cek_mv(order_payments_df)"
   ]
  },
  {
   "cell_type": "code",
   "execution_count": 30,
   "metadata": {
    "colab": {
     "base_uri": "https://localhost:8080/"
    },
    "id": "-0p7AZ-DMlzc",
    "outputId": "a75f217c-7504-4a28-fa23-774030a3909c"
   },
   "outputs": [
    {
     "name": "stdout",
     "output_type": "stream",
     "text": [
      "Tidak terdapat data duplikat\n"
     ]
    }
   ],
   "source": [
    "cek_duplikat(order_payments_df)"
   ]
  },
  {
   "cell_type": "code",
   "execution_count": 31,
   "metadata": {
    "colab": {
     "base_uri": "https://localhost:8080/"
    },
    "id": "UZR1RpnbO5An",
    "outputId": "a9983c49-bb78-49fb-965f-6686dd42e178"
   },
   "outputs": [
    {
     "data": {
      "text/html": [
       "<div>\n",
       "<style scoped>\n",
       "    .dataframe tbody tr th:only-of-type {\n",
       "        vertical-align: middle;\n",
       "    }\n",
       "\n",
       "    .dataframe tbody tr th {\n",
       "        vertical-align: top;\n",
       "    }\n",
       "\n",
       "    .dataframe thead th {\n",
       "        text-align: right;\n",
       "    }\n",
       "</style>\n",
       "<table border=\"1\" class=\"dataframe\">\n",
       "  <thead>\n",
       "    <tr style=\"text-align: right;\">\n",
       "      <th></th>\n",
       "      <th>payment_sequential</th>\n",
       "      <th>payment_installments</th>\n",
       "      <th>payment_value</th>\n",
       "    </tr>\n",
       "  </thead>\n",
       "  <tbody>\n",
       "    <tr>\n",
       "      <th>count</th>\n",
       "      <td>103886.000000</td>\n",
       "      <td>103886.000000</td>\n",
       "      <td>103886.000000</td>\n",
       "    </tr>\n",
       "    <tr>\n",
       "      <th>mean</th>\n",
       "      <td>1.092679</td>\n",
       "      <td>2.853349</td>\n",
       "      <td>154.100380</td>\n",
       "    </tr>\n",
       "    <tr>\n",
       "      <th>std</th>\n",
       "      <td>0.706584</td>\n",
       "      <td>2.687051</td>\n",
       "      <td>217.494064</td>\n",
       "    </tr>\n",
       "    <tr>\n",
       "      <th>min</th>\n",
       "      <td>1.000000</td>\n",
       "      <td>0.000000</td>\n",
       "      <td>0.000000</td>\n",
       "    </tr>\n",
       "    <tr>\n",
       "      <th>25%</th>\n",
       "      <td>1.000000</td>\n",
       "      <td>1.000000</td>\n",
       "      <td>56.790000</td>\n",
       "    </tr>\n",
       "    <tr>\n",
       "      <th>50%</th>\n",
       "      <td>1.000000</td>\n",
       "      <td>1.000000</td>\n",
       "      <td>100.000000</td>\n",
       "    </tr>\n",
       "    <tr>\n",
       "      <th>75%</th>\n",
       "      <td>1.000000</td>\n",
       "      <td>4.000000</td>\n",
       "      <td>171.837500</td>\n",
       "    </tr>\n",
       "    <tr>\n",
       "      <th>max</th>\n",
       "      <td>29.000000</td>\n",
       "      <td>24.000000</td>\n",
       "      <td>13664.080000</td>\n",
       "    </tr>\n",
       "  </tbody>\n",
       "</table>\n",
       "</div>"
      ],
      "text/plain": [
       "       payment_sequential  payment_installments  payment_value\n",
       "count       103886.000000         103886.000000  103886.000000\n",
       "mean             1.092679              2.853349     154.100380\n",
       "std              0.706584              2.687051     217.494064\n",
       "min              1.000000              0.000000       0.000000\n",
       "25%              1.000000              1.000000      56.790000\n",
       "50%              1.000000              1.000000     100.000000\n",
       "75%              1.000000              4.000000     171.837500\n",
       "max             29.000000             24.000000   13664.080000"
      ]
     },
     "execution_count": 31,
     "metadata": {},
     "output_type": "execute_result"
    }
   ],
   "source": [
    "cek_describe(order_payments_df)"
   ]
  },
  {
   "cell_type": "markdown",
   "metadata": {
    "id": "OxKsF1zoPIBP"
   },
   "source": [
    "Nilai maksimum pada **payment_value, payment sequential, dan payment_installments** yang terbilang tinggi dibandingkan dengan nilai mean dan standard deviasinya, mengidentifikasikan bahwa adanya outliers pada data ini."
   ]
  },
  {
   "cell_type": "markdown",
   "metadata": {
    "id": "xRBe_vM-Owbd"
   },
   "source": [
    "#### Menilai dataset order_reviews"
   ]
  },
  {
   "cell_type": "code",
   "execution_count": 32,
   "metadata": {
    "colab": {
     "base_uri": "https://localhost:8080/"
    },
    "id": "JaAKGG63Msj1",
    "outputId": "fc713885-3897-4969-81b2-da2873336cdf"
   },
   "outputs": [
    {
     "name": "stdout",
     "output_type": "stream",
     "text": [
      "<class 'pandas.core.frame.DataFrame'>\n",
      "RangeIndex: 99224 entries, 0 to 99223\n",
      "Data columns (total 7 columns):\n",
      " #   Column                   Non-Null Count  Dtype \n",
      "---  ------                   --------------  ----- \n",
      " 0   review_id                99224 non-null  object\n",
      " 1   order_id                 99224 non-null  object\n",
      " 2   review_score             99224 non-null  int64 \n",
      " 3   review_comment_title     11568 non-null  object\n",
      " 4   review_comment_message   40977 non-null  object\n",
      " 5   review_creation_date     99224 non-null  object\n",
      " 6   review_answer_timestamp  99224 non-null  object\n",
      "dtypes: int64(1), object(6)\n",
      "memory usage: 5.3+ MB\n"
     ]
    }
   ],
   "source": [
    "cek_info(order_reviews_df)"
   ]
  },
  {
   "cell_type": "markdown",
   "metadata": {
    "id": "pBWChPHnSB4_"
   },
   "source": [
    "Kita tidak akan memakai kolom review_creation_date, review_answer_timestamp, review_comment_title, dan review_comment_message."
   ]
  },
  {
   "cell_type": "code",
   "execution_count": 33,
   "metadata": {},
   "outputs": [],
   "source": [
    "order_reviews_df = order_reviews_df.drop(['review_creation_date','review_answer_timestamp', 'review_comment_title', 'review_comment_message'], axis=1)"
   ]
  },
  {
   "cell_type": "code",
   "execution_count": 34,
   "metadata": {
    "colab": {
     "base_uri": "https://localhost:8080/"
    },
    "id": "MtAWHEDeSPor",
    "outputId": "a62dd3ad-8a67-455f-8396-22d3e321fcb0"
   },
   "outputs": [
    {
     "name": "stdout",
     "output_type": "stream",
     "text": [
      "DataFrame tidak mempunyai missing values.\n"
     ]
    }
   ],
   "source": [
    "cek_mv(order_reviews_df)"
   ]
  },
  {
   "cell_type": "code",
   "execution_count": 35,
   "metadata": {
    "colab": {
     "base_uri": "https://localhost:8080/"
    },
    "id": "31fE2nJ7Srfb",
    "outputId": "76c2c1bd-3118-426d-e361-177400e0f6a6"
   },
   "outputs": [
    {
     "name": "stdout",
     "output_type": "stream",
     "text": [
      "Tidak terdapat data duplikat\n"
     ]
    }
   ],
   "source": [
    "cek_duplikat(order_reviews_df)"
   ]
  },
  {
   "cell_type": "code",
   "execution_count": 36,
   "metadata": {
    "colab": {
     "base_uri": "https://localhost:8080/"
    },
    "id": "iM2fsmX8Sy2o",
    "outputId": "1ab61144-f09e-4434-fc55-7bcb7b99d070"
   },
   "outputs": [
    {
     "data": {
      "text/html": [
       "<div>\n",
       "<style scoped>\n",
       "    .dataframe tbody tr th:only-of-type {\n",
       "        vertical-align: middle;\n",
       "    }\n",
       "\n",
       "    .dataframe tbody tr th {\n",
       "        vertical-align: top;\n",
       "    }\n",
       "\n",
       "    .dataframe thead th {\n",
       "        text-align: right;\n",
       "    }\n",
       "</style>\n",
       "<table border=\"1\" class=\"dataframe\">\n",
       "  <thead>\n",
       "    <tr style=\"text-align: right;\">\n",
       "      <th></th>\n",
       "      <th>review_score</th>\n",
       "    </tr>\n",
       "  </thead>\n",
       "  <tbody>\n",
       "    <tr>\n",
       "      <th>count</th>\n",
       "      <td>99224.000000</td>\n",
       "    </tr>\n",
       "    <tr>\n",
       "      <th>mean</th>\n",
       "      <td>4.086421</td>\n",
       "    </tr>\n",
       "    <tr>\n",
       "      <th>std</th>\n",
       "      <td>1.347579</td>\n",
       "    </tr>\n",
       "    <tr>\n",
       "      <th>min</th>\n",
       "      <td>1.000000</td>\n",
       "    </tr>\n",
       "    <tr>\n",
       "      <th>25%</th>\n",
       "      <td>4.000000</td>\n",
       "    </tr>\n",
       "    <tr>\n",
       "      <th>50%</th>\n",
       "      <td>5.000000</td>\n",
       "    </tr>\n",
       "    <tr>\n",
       "      <th>75%</th>\n",
       "      <td>5.000000</td>\n",
       "    </tr>\n",
       "    <tr>\n",
       "      <th>max</th>\n",
       "      <td>5.000000</td>\n",
       "    </tr>\n",
       "  </tbody>\n",
       "</table>\n",
       "</div>"
      ],
      "text/plain": [
       "       review_score\n",
       "count  99224.000000\n",
       "mean       4.086421\n",
       "std        1.347579\n",
       "min        1.000000\n",
       "25%        4.000000\n",
       "50%        5.000000\n",
       "75%        5.000000\n",
       "max        5.000000"
      ]
     },
     "execution_count": 36,
     "metadata": {},
     "output_type": "execute_result"
    }
   ],
   "source": [
    "cek_describe(order_reviews_df)"
   ]
  },
  {
   "cell_type": "markdown",
   "metadata": {
    "id": "3-r8UzEjS4Tp"
   },
   "source": [
    "Tidak ada inaccuracy data"
   ]
  },
  {
   "cell_type": "markdown",
   "metadata": {
    "id": "w9yiRUHdS8sD"
   },
   "source": [
    "#### Menilai dataset orders"
   ]
  },
  {
   "cell_type": "code",
   "execution_count": 37,
   "metadata": {
    "colab": {
     "base_uri": "https://localhost:8080/"
    },
    "id": "VkF10eYgTC0W",
    "outputId": "1efa7d16-723b-43a4-8f01-ca9d470e7d88"
   },
   "outputs": [
    {
     "name": "stdout",
     "output_type": "stream",
     "text": [
      "<class 'pandas.core.frame.DataFrame'>\n",
      "RangeIndex: 99441 entries, 0 to 99440\n",
      "Data columns (total 8 columns):\n",
      " #   Column                         Non-Null Count  Dtype \n",
      "---  ------                         --------------  ----- \n",
      " 0   order_id                       99441 non-null  object\n",
      " 1   customer_id                    99441 non-null  object\n",
      " 2   order_status                   99441 non-null  object\n",
      " 3   order_purchase_timestamp       99441 non-null  object\n",
      " 4   order_approved_at              99281 non-null  object\n",
      " 5   order_delivered_carrier_date   97658 non-null  object\n",
      " 6   order_delivered_customer_date  96476 non-null  object\n",
      " 7   order_estimated_delivery_date  99441 non-null  object\n",
      "dtypes: object(8)\n",
      "memory usage: 6.1+ MB\n"
     ]
    }
   ],
   "source": [
    "cek_info(orders_df)"
   ]
  },
  {
   "cell_type": "markdown",
   "metadata": {},
   "source": [
    "Terdapat kesalahan tipe data juga pada order_purchase_timestamp, order_approved_at, order_delivered_carrier_date, order_delivered_customer_date, dan order_estimated_delivery_date."
   ]
  },
  {
   "cell_type": "code",
   "execution_count": 38,
   "metadata": {},
   "outputs": [
    {
     "data": {
      "text/plain": [
       "array(['delivered', 'invoiced', 'shipped', 'processing', 'unavailable',\n",
       "       'canceled', 'created', 'approved'], dtype=object)"
      ]
     },
     "execution_count": 38,
     "metadata": {},
     "output_type": "execute_result"
    }
   ],
   "source": [
    "orders_df.order_status.unique()"
   ]
  },
  {
   "cell_type": "markdown",
   "metadata": {},
   "source": [
    "Kita akan hapus order_status dengan value canceled dan unavailable"
   ]
  },
  {
   "cell_type": "code",
   "execution_count": 39,
   "metadata": {},
   "outputs": [],
   "source": [
    "orders_df = orders_df.loc[orders_df['order_status'] != 'unavailable']\n",
    "orders_df = orders_df.loc[orders_df['order_status'] != 'canceled']"
   ]
  },
  {
   "cell_type": "code",
   "execution_count": 40,
   "metadata": {},
   "outputs": [
    {
     "name": "stdout",
     "output_type": "stream",
     "text": [
      "Kolom \"order_approved_at\" mempunyai missing value sebanyak 19.\n",
      "Kolom \"order_delivered_carrier_date\" mempunyai missing value sebanyak 624.\n",
      "Kolom \"order_delivered_customer_date\" mempunyai missing value sebanyak 1737.\n"
     ]
    }
   ],
   "source": [
    "cek_mv(orders_df)"
   ]
  },
  {
   "cell_type": "code",
   "execution_count": 41,
   "metadata": {
    "colab": {
     "base_uri": "https://localhost:8080/"
    },
    "id": "HocSD5O2U0Ii",
    "outputId": "f5e62f1e-dd94-48b0-80cd-e97dad7cbc26"
   },
   "outputs": [
    {
     "name": "stdout",
     "output_type": "stream",
     "text": [
      "Tidak terdapat data duplikat\n"
     ]
    }
   ],
   "source": [
    "cek_duplikat(orders_df)"
   ]
  },
  {
   "cell_type": "code",
   "execution_count": 42,
   "metadata": {
    "colab": {
     "base_uri": "https://localhost:8080/"
    },
    "id": "MVfcoJ12U_MM",
    "outputId": "25561736-05a0-4f8d-b8b6-83f1ef86a355"
   },
   "outputs": [
    {
     "data": {
      "text/html": [
       "<div>\n",
       "<style scoped>\n",
       "    .dataframe tbody tr th:only-of-type {\n",
       "        vertical-align: middle;\n",
       "    }\n",
       "\n",
       "    .dataframe tbody tr th {\n",
       "        vertical-align: top;\n",
       "    }\n",
       "\n",
       "    .dataframe thead th {\n",
       "        text-align: right;\n",
       "    }\n",
       "</style>\n",
       "<table border=\"1\" class=\"dataframe\">\n",
       "  <thead>\n",
       "    <tr style=\"text-align: right;\">\n",
       "      <th></th>\n",
       "      <th>order_id</th>\n",
       "      <th>customer_id</th>\n",
       "      <th>order_status</th>\n",
       "      <th>order_purchase_timestamp</th>\n",
       "      <th>order_approved_at</th>\n",
       "      <th>order_delivered_carrier_date</th>\n",
       "      <th>order_delivered_customer_date</th>\n",
       "      <th>order_estimated_delivery_date</th>\n",
       "    </tr>\n",
       "  </thead>\n",
       "  <tbody>\n",
       "    <tr>\n",
       "      <th>count</th>\n",
       "      <td>98207</td>\n",
       "      <td>98207</td>\n",
       "      <td>98207</td>\n",
       "      <td>98207</td>\n",
       "      <td>98188</td>\n",
       "      <td>97583</td>\n",
       "      <td>96470</td>\n",
       "      <td>98207</td>\n",
       "    </tr>\n",
       "    <tr>\n",
       "      <th>unique</th>\n",
       "      <td>98207</td>\n",
       "      <td>98207</td>\n",
       "      <td>6</td>\n",
       "      <td>97655</td>\n",
       "      <td>89760</td>\n",
       "      <td>80951</td>\n",
       "      <td>95658</td>\n",
       "      <td>447</td>\n",
       "    </tr>\n",
       "    <tr>\n",
       "      <th>top</th>\n",
       "      <td>e481f51cbdc54678b7cc49136f2d6af7</td>\n",
       "      <td>9ef432eb6251297304e76186b10a928d</td>\n",
       "      <td>delivered</td>\n",
       "      <td>2018-08-02 12:06:07</td>\n",
       "      <td>2018-02-27 04:31:10</td>\n",
       "      <td>2018-05-09 15:48:00</td>\n",
       "      <td>2018-05-08 23:38:46</td>\n",
       "      <td>2017-12-20 00:00:00</td>\n",
       "    </tr>\n",
       "    <tr>\n",
       "      <th>freq</th>\n",
       "      <td>1</td>\n",
       "      <td>1</td>\n",
       "      <td>96478</td>\n",
       "      <td>3</td>\n",
       "      <td>9</td>\n",
       "      <td>47</td>\n",
       "      <td>3</td>\n",
       "      <td>514</td>\n",
       "    </tr>\n",
       "  </tbody>\n",
       "</table>\n",
       "</div>"
      ],
      "text/plain": [
       "                                order_id                       customer_id  \\\n",
       "count                              98207                             98207   \n",
       "unique                             98207                             98207   \n",
       "top     e481f51cbdc54678b7cc49136f2d6af7  9ef432eb6251297304e76186b10a928d   \n",
       "freq                                   1                                 1   \n",
       "\n",
       "       order_status order_purchase_timestamp    order_approved_at  \\\n",
       "count         98207                    98207                98188   \n",
       "unique            6                    97655                89760   \n",
       "top       delivered      2018-08-02 12:06:07  2018-02-27 04:31:10   \n",
       "freq          96478                        3                    9   \n",
       "\n",
       "       order_delivered_carrier_date order_delivered_customer_date  \\\n",
       "count                         97583                         96470   \n",
       "unique                        80951                         95658   \n",
       "top             2018-05-09 15:48:00           2018-05-08 23:38:46   \n",
       "freq                             47                             3   \n",
       "\n",
       "       order_estimated_delivery_date  \n",
       "count                          98207  \n",
       "unique                           447  \n",
       "top              2017-12-20 00:00:00  \n",
       "freq                             514  "
      ]
     },
     "execution_count": 42,
     "metadata": {},
     "output_type": "execute_result"
    }
   ],
   "source": [
    "cek_describe(orders_df)"
   ]
  },
  {
   "cell_type": "markdown",
   "metadata": {
    "id": "3p_G1y0Lbxkp"
   },
   "source": [
    "**Urutan**:\n",
    "order_purchase_timestamp < order_approved_at < order_delivered_carrier_date < order_delivered_customer_date dan order_delivered_carrier_date < order_estimated_delivery_date.\r\n",
    "\n",
    "Lihat pada cleaning data ->Melihat inacurracy data pada datetimes"
   ]
  },
  {
   "cell_type": "markdown",
   "metadata": {
    "id": "O-VLLgu7VV1Y"
   },
   "source": [
    "#### Menilai Dataset product_category:"
   ]
  },
  {
   "cell_type": "code",
   "execution_count": 43,
   "metadata": {
    "colab": {
     "base_uri": "https://localhost:8080/"
    },
    "id": "WMZQa6l8Vb8X",
    "outputId": "0e02117e-d8ff-4031-e27e-c34c45b8f793"
   },
   "outputs": [
    {
     "name": "stdout",
     "output_type": "stream",
     "text": [
      "<class 'pandas.core.frame.DataFrame'>\n",
      "RangeIndex: 71 entries, 0 to 70\n",
      "Data columns (total 2 columns):\n",
      " #   Column                         Non-Null Count  Dtype \n",
      "---  ------                         --------------  ----- \n",
      " 0   product_category_name          71 non-null     object\n",
      " 1   product_category_name_english  71 non-null     object\n",
      "dtypes: object(2)\n",
      "memory usage: 1.2+ KB\n"
     ]
    }
   ],
   "source": [
    "cek_info(product_category_df)"
   ]
  },
  {
   "cell_type": "code",
   "execution_count": 44,
   "metadata": {
    "colab": {
     "base_uri": "https://localhost:8080/"
    },
    "id": "sHZBQFXbVlKb",
    "outputId": "9babd7af-15b6-49ad-973a-8ee264bc8b02"
   },
   "outputs": [
    {
     "name": "stdout",
     "output_type": "stream",
     "text": [
      "Tidak terdapat data duplikat\n"
     ]
    }
   ],
   "source": [
    "cek_duplikat(product_category_df)"
   ]
  },
  {
   "cell_type": "code",
   "execution_count": 45,
   "metadata": {},
   "outputs": [
    {
     "name": "stdout",
     "output_type": "stream",
     "text": [
      "DataFrame tidak mempunyai missing values.\n"
     ]
    }
   ],
   "source": [
    "cek_mv(product_category_df)"
   ]
  },
  {
   "cell_type": "markdown",
   "metadata": {
    "id": "QCTDWw3hV0F0"
   },
   "source": [
    "#### Menilai Dataset Products"
   ]
  },
  {
   "cell_type": "code",
   "execution_count": 46,
   "metadata": {
    "colab": {
     "base_uri": "https://localhost:8080/"
    },
    "id": "oa6dxpDiVyxV",
    "outputId": "85b3721e-da7e-4966-9268-531a391fd204"
   },
   "outputs": [
    {
     "name": "stdout",
     "output_type": "stream",
     "text": [
      "<class 'pandas.core.frame.DataFrame'>\n",
      "RangeIndex: 32951 entries, 0 to 32950\n",
      "Data columns (total 9 columns):\n",
      " #   Column                      Non-Null Count  Dtype  \n",
      "---  ------                      --------------  -----  \n",
      " 0   product_id                  32951 non-null  object \n",
      " 1   product_category_name       32341 non-null  object \n",
      " 2   product_name_lenght         32341 non-null  float64\n",
      " 3   product_description_lenght  32341 non-null  float64\n",
      " 4   product_photos_qty          32341 non-null  float64\n",
      " 5   product_weight_g            32949 non-null  float64\n",
      " 6   product_length_cm           32949 non-null  float64\n",
      " 7   product_height_cm           32949 non-null  float64\n",
      " 8   product_width_cm            32949 non-null  float64\n",
      "dtypes: float64(7), object(2)\n",
      "memory usage: 2.3+ MB\n"
     ]
    }
   ],
   "source": [
    "cek_info(products_df)"
   ]
  },
  {
   "cell_type": "markdown",
   "metadata": {},
   "source": [
    "Kita hanya menggunakan product_id, dan product_category_name"
   ]
  },
  {
   "cell_type": "code",
   "execution_count": 47,
   "metadata": {},
   "outputs": [],
   "source": [
    "products_df = pd.DataFrame(products_df[['product_id','product_category_name']])"
   ]
  },
  {
   "cell_type": "code",
   "execution_count": 48,
   "metadata": {
    "colab": {
     "base_uri": "https://localhost:8080/"
    },
    "id": "I2B0V4CWWESK",
    "outputId": "360c3002-85cb-4678-c024-cbd821a5c6e0"
   },
   "outputs": [
    {
     "name": "stdout",
     "output_type": "stream",
     "text": [
      "Kolom \"product_category_name\" mempunyai missing value sebanyak 610.\n"
     ]
    }
   ],
   "source": [
    "cek_mv(products_df)"
   ]
  },
  {
   "cell_type": "code",
   "execution_count": 49,
   "metadata": {
    "colab": {
     "base_uri": "https://localhost:8080/"
    },
    "id": "DqmSA-IuWJBY",
    "outputId": "1594683a-6822-46f6-e35e-aa5a19f6c723"
   },
   "outputs": [
    {
     "name": "stdout",
     "output_type": "stream",
     "text": [
      "Tidak terdapat data duplikat\n"
     ]
    }
   ],
   "source": [
    "cek_duplikat(products_df)"
   ]
  },
  {
   "cell_type": "markdown",
   "metadata": {
    "id": "4ZyOJXHtY4ba"
   },
   "source": [
    "#### Menilai dataset sellers"
   ]
  },
  {
   "cell_type": "code",
   "execution_count": 50,
   "metadata": {
    "colab": {
     "base_uri": "https://localhost:8080/"
    },
    "id": "H28ycDAiY6xC",
    "outputId": "d61bbd09-14e6-45ce-9551-8ce09f8b6769"
   },
   "outputs": [
    {
     "name": "stdout",
     "output_type": "stream",
     "text": [
      "<class 'pandas.core.frame.DataFrame'>\n",
      "RangeIndex: 3095 entries, 0 to 3094\n",
      "Data columns (total 4 columns):\n",
      " #   Column                  Non-Null Count  Dtype \n",
      "---  ------                  --------------  ----- \n",
      " 0   seller_id               3095 non-null   object\n",
      " 1   seller_zip_code_prefix  3095 non-null   int64 \n",
      " 2   seller_city             3095 non-null   object\n",
      " 3   seller_state            3095 non-null   object\n",
      "dtypes: int64(1), object(3)\n",
      "memory usage: 96.8+ KB\n"
     ]
    }
   ],
   "source": [
    "cek_info(sellers_df)"
   ]
  },
  {
   "cell_type": "markdown",
   "metadata": {},
   "source": [
    "Tidak ada kesalahan tipe data"
   ]
  },
  {
   "cell_type": "code",
   "execution_count": 51,
   "metadata": {
    "colab": {
     "base_uri": "https://localhost:8080/"
    },
    "id": "IUXa9nLCZBmD",
    "outputId": "e1d7032e-d48a-4e5b-a725-51f13e8480e3"
   },
   "outputs": [
    {
     "name": "stdout",
     "output_type": "stream",
     "text": [
      "Tidak terdapat data duplikat\n"
     ]
    }
   ],
   "source": [
    "cek_duplikat(sellers_df)"
   ]
  },
  {
   "cell_type": "markdown",
   "metadata": {
    "id": "EhN5R4hr8DC1"
   },
   "source": [
    "### Cleaning Data"
   ]
  },
  {
   "cell_type": "markdown",
   "metadata": {},
   "source": [
    "#### Function Cleaning Data"
   ]
  },
  {
   "cell_type": "code",
   "execution_count": 52,
   "metadata": {},
   "outputs": [],
   "source": [
    "def drop_duplikat(df):\n",
    "    cek_duplikat(df)\n",
    "    duplikat = df.drop_duplicates(inplace=True)\n",
    "    return 'Jumlah duplikat sekarang: {}'.format(geolocation_df.duplicated().sum())"
   ]
  },
  {
   "cell_type": "code",
   "execution_count": null,
   "metadata": {},
   "outputs": [],
   "source": []
  },
  {
   "cell_type": "code",
   "execution_count": null,
   "metadata": {},
   "outputs": [],
   "source": []
  },
  {
   "cell_type": "markdown",
   "metadata": {
    "id": "NAnNaANzipzs"
   },
   "source": [
    "#### Menghapus Duplikat\n",
    "\n",
    "Duplikat hanya ada pada dataset geolocation"
   ]
  },
  {
   "cell_type": "code",
   "execution_count": 53,
   "metadata": {
    "colab": {
     "base_uri": "https://localhost:8080/"
    },
    "id": "rXUISq-XitIh",
    "outputId": "16933647-4e7a-4fe8-ea85-2adddec8c663"
   },
   "outputs": [
    {
     "name": "stdout",
     "output_type": "stream",
     "text": [
      "Terdapat sebanyak 261831 data duplikat\n"
     ]
    },
    {
     "data": {
      "text/plain": [
       "'Jumlah duplikat sekarang: 0'"
      ]
     },
     "execution_count": 53,
     "metadata": {},
     "output_type": "execute_result"
    }
   ],
   "source": [
    "drop_duplikat(geolocation_df)"
   ]
  },
  {
   "cell_type": "markdown",
   "metadata": {
    "id": "Nn-XkRhQjSME"
   },
   "source": [
    "#### Ganti Tipe Data\n",
    "Dataset yang memiliki tipe data yang salah pada column-nya:\r\n",
    "\r\n",
    "orders_df (order_purchase_timestamp, order_approved_at, order_delivered_carrier_date, order_delivered_customer_date, dan order_estimated_delivery_date --> Seharusnya datetime)"
   ]
  },
  {
   "cell_type": "code",
   "execution_count": 54,
   "metadata": {
    "colab": {
     "base_uri": "https://localhost:8080/"
    },
    "id": "sZsVUaC5tNXm",
    "outputId": "46d01b8d-df31-4419-c5e6-425b1cfc9c5e"
   },
   "outputs": [
    {
     "name": "stdout",
     "output_type": "stream",
     "text": [
      "<class 'pandas.core.frame.DataFrame'>\n",
      "Index: 98207 entries, 0 to 99440\n",
      "Data columns (total 8 columns):\n",
      " #   Column                         Non-Null Count  Dtype         \n",
      "---  ------                         --------------  -----         \n",
      " 0   order_id                       98207 non-null  object        \n",
      " 1   customer_id                    98207 non-null  object        \n",
      " 2   order_status                   98207 non-null  object        \n",
      " 3   order_purchase_timestamp       98207 non-null  datetime64[ns]\n",
      " 4   order_approved_at              98188 non-null  datetime64[ns]\n",
      " 5   order_delivered_carrier_date   97583 non-null  datetime64[ns]\n",
      " 6   order_delivered_customer_date  96470 non-null  datetime64[ns]\n",
      " 7   order_estimated_delivery_date  98207 non-null  datetime64[ns]\n",
      "dtypes: datetime64[ns](5), object(3)\n",
      "memory usage: 6.7+ MB\n"
     ]
    }
   ],
   "source": [
    "date_time = ['order_purchase_timestamp', 'order_approved_at', 'order_delivered_carrier_date', 'order_delivered_customer_date', 'order_estimated_delivery_date']\n",
    "\n",
    "for column in date_time:\n",
    "  orders_df[column] = pd.to_datetime(orders_df[column])\n",
    "\n",
    "orders_df.info()"
   ]
  },
  {
   "cell_type": "markdown",
   "metadata": {
    "id": "YTgYVZDgvQtk"
   },
   "source": [
    "Dapat dilihat bahwa kolom order_purchase_timestamp, order_approved_at, order_delivered_carrier_date, order_delivered_customer_date, dan order_estimated_delivery_date sudah memiliki tipe data yang sesuai, yaitu datetime."
   ]
  },
  {
   "cell_type": "markdown",
   "metadata": {
    "id": "Cu8ZJI3xcp02"
   },
   "source": [
    "#### Melihat inacurracy data pada datetime\n",
    "**Urutan:** \n",
    "order_purchase_timestamp < order_approved_at < order_delivered_carrier_date < order_delivered_customer_date, dan order_delivered_carrier_date < order_estimated_delivery_date"
   ]
  },
  {
   "cell_type": "code",
   "execution_count": 55,
   "metadata": {
    "colab": {
     "base_uri": "https://localhost:8080/",
     "height": 444
    },
    "id": "6K5Dt65Gcu2l",
    "outputId": "4b8cb6ff-3635-4a6d-aca4-f76e54ca31fe"
   },
   "outputs": [
    {
     "data": {
      "text/html": [
       "<div>\n",
       "<style scoped>\n",
       "    .dataframe tbody tr th:only-of-type {\n",
       "        vertical-align: middle;\n",
       "    }\n",
       "\n",
       "    .dataframe tbody tr th {\n",
       "        vertical-align: top;\n",
       "    }\n",
       "\n",
       "    .dataframe thead th {\n",
       "        text-align: right;\n",
       "    }\n",
       "</style>\n",
       "<table border=\"1\" class=\"dataframe\">\n",
       "  <thead>\n",
       "    <tr style=\"text-align: right;\">\n",
       "      <th></th>\n",
       "      <th>order_id</th>\n",
       "      <th>customer_id</th>\n",
       "      <th>order_status</th>\n",
       "      <th>order_purchase_timestamp</th>\n",
       "      <th>order_approved_at</th>\n",
       "      <th>order_delivered_carrier_date</th>\n",
       "      <th>order_delivered_customer_date</th>\n",
       "      <th>order_estimated_delivery_date</th>\n",
       "    </tr>\n",
       "  </thead>\n",
       "  <tbody>\n",
       "    <tr>\n",
       "      <th>15</th>\n",
       "      <td>dcb36b511fcac050b97cd5c05de84dc3</td>\n",
       "      <td>3b6828a50ffe546942b7a473d70ac0fc</td>\n",
       "      <td>delivered</td>\n",
       "      <td>2018-06-07 19:03:12</td>\n",
       "      <td>2018-06-12 23:31:02</td>\n",
       "      <td>2018-06-11 14:54:00</td>\n",
       "      <td>2018-06-21 15:34:32</td>\n",
       "      <td>2018-07-04</td>\n",
       "    </tr>\n",
       "    <tr>\n",
       "      <th>20</th>\n",
       "      <td>203096f03d82e0dffbc41ebc2e2bcfb7</td>\n",
       "      <td>d2b091571da224a1b36412c18bc3bbfe</td>\n",
       "      <td>delivered</td>\n",
       "      <td>2017-09-18 14:31:30</td>\n",
       "      <td>2017-09-19 04:04:09</td>\n",
       "      <td>2017-10-06 17:50:03</td>\n",
       "      <td>2017-10-09 22:23:46</td>\n",
       "      <td>2017-09-28</td>\n",
       "    </tr>\n",
       "    <tr>\n",
       "      <th>64</th>\n",
       "      <td>688052146432ef8253587b930b01a06d</td>\n",
       "      <td>81e08b08e5ed4472008030d70327c71f</td>\n",
       "      <td>delivered</td>\n",
       "      <td>2018-04-22 08:48:13</td>\n",
       "      <td>2018-04-24 18:25:22</td>\n",
       "      <td>2018-04-23 19:19:14</td>\n",
       "      <td>2018-04-24 19:31:58</td>\n",
       "      <td>2018-05-15</td>\n",
       "    </tr>\n",
       "    <tr>\n",
       "      <th>102</th>\n",
       "      <td>a5474c0071dd5d1074e12d417078bbd0</td>\n",
       "      <td>ef15b3240b2083e0487762ee2978d2b8</td>\n",
       "      <td>delivered</td>\n",
       "      <td>2018-07-30 22:41:44</td>\n",
       "      <td>2018-08-01 02:50:15</td>\n",
       "      <td>2018-08-02 10:35:00</td>\n",
       "      <td>2018-08-03 19:28:47</td>\n",
       "      <td>2018-08-02</td>\n",
       "    </tr>\n",
       "    <tr>\n",
       "      <th>199</th>\n",
       "      <td>58d4c4747ee059eeeb865b349b41f53a</td>\n",
       "      <td>1755fad7863475346bc6c3773fe055d3</td>\n",
       "      <td>delivered</td>\n",
       "      <td>2018-07-21 12:49:32</td>\n",
       "      <td>2018-07-26 23:31:53</td>\n",
       "      <td>2018-07-24 12:57:00</td>\n",
       "      <td>2018-07-25 23:58:19</td>\n",
       "      <td>2018-07-31</td>\n",
       "    </tr>\n",
       "    <tr>\n",
       "      <th>...</th>\n",
       "      <td>...</td>\n",
       "      <td>...</td>\n",
       "      <td>...</td>\n",
       "      <td>...</td>\n",
       "      <td>...</td>\n",
       "      <td>...</td>\n",
       "      <td>...</td>\n",
       "      <td>...</td>\n",
       "    </tr>\n",
       "    <tr>\n",
       "      <th>99091</th>\n",
       "      <td>240ead1a7284667e0ec71d01f80e4d5e</td>\n",
       "      <td>fcdd7556401aaa1c980f8b67a69f95dc</td>\n",
       "      <td>delivered</td>\n",
       "      <td>2018-07-02 16:30:02</td>\n",
       "      <td>2018-07-05 16:17:59</td>\n",
       "      <td>2018-07-05 14:11:00</td>\n",
       "      <td>2018-07-10 23:21:47</td>\n",
       "      <td>2018-07-24</td>\n",
       "    </tr>\n",
       "    <tr>\n",
       "      <th>99230</th>\n",
       "      <td>78008d03bd8ef7fcf1568728b316553c</td>\n",
       "      <td>043e3254e68daf7256bda1c9c03c2286</td>\n",
       "      <td>delivered</td>\n",
       "      <td>2018-07-03 13:11:13</td>\n",
       "      <td>2018-07-05 16:32:52</td>\n",
       "      <td>2018-07-03 12:57:00</td>\n",
       "      <td>2018-07-10 17:47:39</td>\n",
       "      <td>2018-07-23</td>\n",
       "    </tr>\n",
       "    <tr>\n",
       "      <th>99266</th>\n",
       "      <td>76a948cd55bf22799753720d4545dd2d</td>\n",
       "      <td>3f20a07b28aa252d0502fe7f7eb030a9</td>\n",
       "      <td>delivered</td>\n",
       "      <td>2018-01-30 02:41:30</td>\n",
       "      <td>2018-02-04 23:31:46</td>\n",
       "      <td>2018-01-31 18:11:58</td>\n",
       "      <td>2018-03-18 20:08:50</td>\n",
       "      <td>2018-03-02</td>\n",
       "    </tr>\n",
       "    <tr>\n",
       "      <th>99377</th>\n",
       "      <td>a6bd1f93b7ff72cc348ca07f38ec4bee</td>\n",
       "      <td>6d63fa86bd2f62908ad328325799152f</td>\n",
       "      <td>delivered</td>\n",
       "      <td>2018-04-20 17:28:40</td>\n",
       "      <td>2018-04-24 19:26:10</td>\n",
       "      <td>2018-04-23 17:18:40</td>\n",
       "      <td>2018-04-28 17:38:42</td>\n",
       "      <td>2018-05-15</td>\n",
       "    </tr>\n",
       "    <tr>\n",
       "      <th>99406</th>\n",
       "      <td>7fd85cb0143de098a4c5ab5a57bfbd91</td>\n",
       "      <td>d32034dfc685b1ae15dd4c78eace868e</td>\n",
       "      <td>delivered</td>\n",
       "      <td>2017-05-04 21:05:28</td>\n",
       "      <td>2017-05-09 22:33:28</td>\n",
       "      <td>2017-05-09 17:02:58</td>\n",
       "      <td>2017-05-18 06:34:38</td>\n",
       "      <td>2017-06-01</td>\n",
       "    </tr>\n",
       "  </tbody>\n",
       "</table>\n",
       "<p>1854 rows × 8 columns</p>\n",
       "</div>"
      ],
      "text/plain": [
       "                               order_id                       customer_id  \\\n",
       "15     dcb36b511fcac050b97cd5c05de84dc3  3b6828a50ffe546942b7a473d70ac0fc   \n",
       "20     203096f03d82e0dffbc41ebc2e2bcfb7  d2b091571da224a1b36412c18bc3bbfe   \n",
       "64     688052146432ef8253587b930b01a06d  81e08b08e5ed4472008030d70327c71f   \n",
       "102    a5474c0071dd5d1074e12d417078bbd0  ef15b3240b2083e0487762ee2978d2b8   \n",
       "199    58d4c4747ee059eeeb865b349b41f53a  1755fad7863475346bc6c3773fe055d3   \n",
       "...                                 ...                               ...   \n",
       "99091  240ead1a7284667e0ec71d01f80e4d5e  fcdd7556401aaa1c980f8b67a69f95dc   \n",
       "99230  78008d03bd8ef7fcf1568728b316553c  043e3254e68daf7256bda1c9c03c2286   \n",
       "99266  76a948cd55bf22799753720d4545dd2d  3f20a07b28aa252d0502fe7f7eb030a9   \n",
       "99377  a6bd1f93b7ff72cc348ca07f38ec4bee  6d63fa86bd2f62908ad328325799152f   \n",
       "99406  7fd85cb0143de098a4c5ab5a57bfbd91  d32034dfc685b1ae15dd4c78eace868e   \n",
       "\n",
       "      order_status order_purchase_timestamp   order_approved_at  \\\n",
       "15       delivered      2018-06-07 19:03:12 2018-06-12 23:31:02   \n",
       "20       delivered      2017-09-18 14:31:30 2017-09-19 04:04:09   \n",
       "64       delivered      2018-04-22 08:48:13 2018-04-24 18:25:22   \n",
       "102      delivered      2018-07-30 22:41:44 2018-08-01 02:50:15   \n",
       "199      delivered      2018-07-21 12:49:32 2018-07-26 23:31:53   \n",
       "...            ...                      ...                 ...   \n",
       "99091    delivered      2018-07-02 16:30:02 2018-07-05 16:17:59   \n",
       "99230    delivered      2018-07-03 13:11:13 2018-07-05 16:32:52   \n",
       "99266    delivered      2018-01-30 02:41:30 2018-02-04 23:31:46   \n",
       "99377    delivered      2018-04-20 17:28:40 2018-04-24 19:26:10   \n",
       "99406    delivered      2017-05-04 21:05:28 2017-05-09 22:33:28   \n",
       "\n",
       "      order_delivered_carrier_date order_delivered_customer_date  \\\n",
       "15             2018-06-11 14:54:00           2018-06-21 15:34:32   \n",
       "20             2017-10-06 17:50:03           2017-10-09 22:23:46   \n",
       "64             2018-04-23 19:19:14           2018-04-24 19:31:58   \n",
       "102            2018-08-02 10:35:00           2018-08-03 19:28:47   \n",
       "199            2018-07-24 12:57:00           2018-07-25 23:58:19   \n",
       "...                            ...                           ...   \n",
       "99091          2018-07-05 14:11:00           2018-07-10 23:21:47   \n",
       "99230          2018-07-03 12:57:00           2018-07-10 17:47:39   \n",
       "99266          2018-01-31 18:11:58           2018-03-18 20:08:50   \n",
       "99377          2018-04-23 17:18:40           2018-04-28 17:38:42   \n",
       "99406          2017-05-09 17:02:58           2017-05-18 06:34:38   \n",
       "\n",
       "      order_estimated_delivery_date  \n",
       "15                       2018-07-04  \n",
       "20                       2017-09-28  \n",
       "64                       2018-05-15  \n",
       "102                      2018-08-02  \n",
       "199                      2018-07-31  \n",
       "...                             ...  \n",
       "99091                    2018-07-24  \n",
       "99230                    2018-07-23  \n",
       "99266                    2018-03-02  \n",
       "99377                    2018-05-15  \n",
       "99406                    2017-06-01  \n",
       "\n",
       "[1854 rows x 8 columns]"
      ]
     },
     "execution_count": 55,
     "metadata": {},
     "output_type": "execute_result"
    }
   ],
   "source": [
    "wrong_order = orders_df[\n",
    "    (orders_df['order_purchase_timestamp'] > orders_df['order_approved_at']) |\n",
    "    (orders_df['order_approved_at'] > orders_df['order_delivered_carrier_date']) |\n",
    "    (orders_df['order_delivered_carrier_date'] > orders_df['order_delivered_customer_date'])|\n",
    "    (orders_df['order_delivered_carrier_date'] > orders_df['order_estimated_delivery_date'])\n",
    "]\n",
    "wrong_order"
   ]
  },
  {
   "cell_type": "markdown",
   "metadata": {
    "id": "Oz3OJOUifomJ"
   },
   "source": [
    "Terdapat banyak sekali data yang salah. Oleh karena itu, kita akan mengubahnya dengan mengubah value yang salah tersebut dengan datetime orders sebelumnya.\n",
    "\n",
    "Misal, ada kesalahan pada order_approved_at. Maka datanya aan diubah dengan data order_purchase_timestamp"
   ]
  },
  {
   "cell_type": "code",
   "execution_count": 56,
   "metadata": {
    "id": "vuc8eBGQgBNq"
   },
   "outputs": [],
   "source": [
    "orders_df.loc[orders_df['order_purchase_timestamp'] > orders_df['order_approved_at'], 'order_approved_at'] = orders_df['order_purchase_timestamp']\n",
    "orders_df.loc[orders_df['order_approved_at'] > orders_df['order_delivered_carrier_date'], 'order_delivered_carrier_date'] = orders_df['order_approved_at']\n",
    "orders_df.loc[orders_df['order_delivered_carrier_date'] > orders_df['order_delivered_customer_date'], 'order_delivered_customer_date'] = orders_df['order_delivered_carrier_date']\n",
    "orders_df.loc[orders_df['order_delivered_carrier_date'] > orders_df['order_estimated_delivery_date'], 'order_estimated_delivery_date'] = orders_df['order_delivered_carrier_date']"
   ]
  },
  {
   "cell_type": "code",
   "execution_count": 57,
   "metadata": {
    "colab": {
     "base_uri": "https://localhost:8080/",
     "height": 109
    },
    "id": "qYxmUe_riVLc",
    "outputId": "0c331a3e-f84e-4950-94a3-bb65f0320b8b"
   },
   "outputs": [
    {
     "data": {
      "text/html": [
       "<div>\n",
       "<style scoped>\n",
       "    .dataframe tbody tr th:only-of-type {\n",
       "        vertical-align: middle;\n",
       "    }\n",
       "\n",
       "    .dataframe tbody tr th {\n",
       "        vertical-align: top;\n",
       "    }\n",
       "\n",
       "    .dataframe thead th {\n",
       "        text-align: right;\n",
       "    }\n",
       "</style>\n",
       "<table border=\"1\" class=\"dataframe\">\n",
       "  <thead>\n",
       "    <tr style=\"text-align: right;\">\n",
       "      <th></th>\n",
       "      <th>order_id</th>\n",
       "      <th>customer_id</th>\n",
       "      <th>order_status</th>\n",
       "      <th>order_purchase_timestamp</th>\n",
       "      <th>order_approved_at</th>\n",
       "      <th>order_delivered_carrier_date</th>\n",
       "      <th>order_delivered_customer_date</th>\n",
       "      <th>order_estimated_delivery_date</th>\n",
       "    </tr>\n",
       "  </thead>\n",
       "  <tbody>\n",
       "  </tbody>\n",
       "</table>\n",
       "</div>"
      ],
      "text/plain": [
       "Empty DataFrame\n",
       "Columns: [order_id, customer_id, order_status, order_purchase_timestamp, order_approved_at, order_delivered_carrier_date, order_delivered_customer_date, order_estimated_delivery_date]\n",
       "Index: []"
      ]
     },
     "execution_count": 57,
     "metadata": {},
     "output_type": "execute_result"
    }
   ],
   "source": [
    "wrong_order = orders_df[\n",
    "    (orders_df['order_purchase_timestamp'] > orders_df['order_approved_at']) |\n",
    "    (orders_df['order_approved_at'] > orders_df['order_delivered_carrier_date']) |\n",
    "    (orders_df['order_delivered_carrier_date'] > orders_df['order_delivered_customer_date'])|\n",
    "    (orders_df['order_delivered_carrier_date'] > orders_df['order_estimated_delivery_date'])\n",
    "]\n",
    "wrong_order"
   ]
  },
  {
   "cell_type": "markdown",
   "metadata": {
    "id": "kffBHeLkmAkj"
   },
   "source": [
    "Data yang salah tersebut sudah tidak ada."
   ]
  },
  {
   "cell_type": "markdown",
   "metadata": {
    "id": "NrxiIOoHFaUQ"
   },
   "source": [
    "#### Mengatasi Missing Value\n",
    "Beberapa dataset yang memiliki missing value:\n",
    "1. Orders: order_approved_ad, order_delivered_carrier_date, dan order_delivery_customer_date.\n",
    "2. Products: product_category_namet_id"
   ]
  },
  {
   "cell_type": "code",
   "execution_count": 58,
   "metadata": {
    "colab": {
     "base_uri": "https://localhost:8080/"
    },
    "id": "0Vzx-lAoOva5",
    "outputId": "8b01e9d6-3ccd-416c-e207-cfac627b1333"
   },
   "outputs": [
    {
     "data": {
      "text/plain": [
       "order_id                            0\n",
       "customer_id                         0\n",
       "order_status                        0\n",
       "order_purchase_timestamp            0\n",
       "order_approved_at                  19\n",
       "order_delivered_carrier_date      624\n",
       "order_delivered_customer_date    1737\n",
       "order_estimated_delivery_date       0\n",
       "dtype: int64"
      ]
     },
     "execution_count": 58,
     "metadata": {},
     "output_type": "execute_result"
    }
   ],
   "source": [
    "# 2. Dataset orders\n",
    "orders_df.isna().sum()"
   ]
  },
  {
   "cell_type": "markdown",
   "metadata": {
    "id": "ZSOWvg6xQd74"
   },
   "source": [
    "Kita akan mengisi value yang kosong itu dengan value dari kolom sebelumnya."
   ]
  },
  {
   "cell_type": "code",
   "execution_count": 59,
   "metadata": {
    "id": "baX0UTUQQ8Xe"
   },
   "outputs": [],
   "source": [
    "orders_df.loc[orders_df['order_approved_at'].isna(), 'order_approved_at'] = orders_df['order_purchase_timestamp']\n",
    "orders_df.loc[orders_df['order_delivered_carrier_date'].isna(), 'order_delivered_carrier_date'] = orders_df['order_approved_at']\n",
    "orders_df.loc[orders_df['order_delivered_customer_date'].isna(), 'order_delivered_customer_date'] = orders_df['order_delivered_carrier_date']"
   ]
  },
  {
   "cell_type": "code",
   "execution_count": 60,
   "metadata": {
    "colab": {
     "base_uri": "https://localhost:8080/"
    },
    "id": "R-UanlaSSfYS",
    "outputId": "293d783b-a799-4923-b2c8-5e3d11c34dcb"
   },
   "outputs": [
    {
     "data": {
      "text/plain": [
       "order_id                         0\n",
       "customer_id                      0\n",
       "order_status                     0\n",
       "order_purchase_timestamp         0\n",
       "order_approved_at                0\n",
       "order_delivered_carrier_date     0\n",
       "order_delivered_customer_date    0\n",
       "order_estimated_delivery_date    0\n",
       "dtype: int64"
      ]
     },
     "execution_count": 60,
     "metadata": {},
     "output_type": "execute_result"
    }
   ],
   "source": [
    "orders_df.isna().sum()"
   ]
  },
  {
   "cell_type": "markdown",
   "metadata": {
    "id": "BDICl10sSijy"
   },
   "source": [
    "Data sudah bersih, tidak terdapat missing value lagi."
   ]
  },
  {
   "cell_type": "code",
   "execution_count": 61,
   "metadata": {
    "colab": {
     "base_uri": "https://localhost:8080/"
    },
    "id": "4yZHEeXCTBmg",
    "outputId": "78fadb6a-dab4-4645-d284-50bbf0d30c61"
   },
   "outputs": [
    {
     "data": {
      "text/plain": [
       "product_id                 0\n",
       "product_category_name    610\n",
       "dtype: int64"
      ]
     },
     "execution_count": 61,
     "metadata": {},
     "output_type": "execute_result"
    }
   ],
   "source": [
    "# 3. Dataset Products\n",
    "products_df.isna().sum()"
   ]
  },
  {
   "cell_type": "markdown",
   "metadata": {
    "id": "ZiKL_aMBcJTX"
   },
   "source": [
    "Jika dilihat dari dataset ini, dataset sudah tidak bisa di isi lagi missing value nya (karena category nama harus akurat), maka kita akan hapus saja semua data yang terdapat missing valuenya."
   ]
  },
  {
   "cell_type": "code",
   "execution_count": 62,
   "metadata": {
    "id": "Co6c0T6McXnQ"
   },
   "outputs": [],
   "source": [
    "products_df = products_df.dropna()"
   ]
  },
  {
   "cell_type": "code",
   "execution_count": 63,
   "metadata": {
    "colab": {
     "base_uri": "https://localhost:8080/"
    },
    "id": "rGYBtffRchOJ",
    "outputId": "03211db7-dbb0-4e03-d0fe-9edc6b19d9e3"
   },
   "outputs": [
    {
     "data": {
      "text/plain": [
       "product_id               0\n",
       "product_category_name    0\n",
       "dtype: int64"
      ]
     },
     "execution_count": 63,
     "metadata": {},
     "output_type": "execute_result"
    }
   ],
   "source": [
    "products_df.isna().sum()"
   ]
  },
  {
   "cell_type": "markdown",
   "metadata": {
    "id": "i1bG5Jg1gwwz"
   },
   "source": [
    "#### Memperbaiki Inaccuracy_value atau Outliers"
   ]
  },
  {
   "cell_type": "markdown",
   "metadata": {
    "id": "xcoo4On66FFo"
   },
   "source": [
    "#####  order_items_df\n",
    "\n",
    "1. Pemeriksaan outliers pada kolom price dan freight_value.\n",
    "2. Merge antara products_df dengan product_category_df, untuk melihat nama (in English) dari product tersebut. -> products_in_english_df\n",
    "3. Merge antara order_items_df dengan products_in_english_df agar dapat melihat apakah data tersebut memang betul outliers atau tidak. --> order_items_product_df\n"
   ]
  },
  {
   "cell_type": "code",
   "execution_count": 64,
   "metadata": {
    "colab": {
     "base_uri": "https://localhost:8080/"
    },
    "id": "DxNfc2wQ6ELJ",
    "outputId": "43335ad3-54ac-47b0-9407-8afbe8eb1397"
   },
   "outputs": [
    {
     "data": {
      "text/html": [
       "<div>\n",
       "<style scoped>\n",
       "    .dataframe tbody tr th:only-of-type {\n",
       "        vertical-align: middle;\n",
       "    }\n",
       "\n",
       "    .dataframe tbody tr th {\n",
       "        vertical-align: top;\n",
       "    }\n",
       "\n",
       "    .dataframe thead th {\n",
       "        text-align: right;\n",
       "    }\n",
       "</style>\n",
       "<table border=\"1\" class=\"dataframe\">\n",
       "  <thead>\n",
       "    <tr style=\"text-align: right;\">\n",
       "      <th></th>\n",
       "      <th>order_id</th>\n",
       "      <th>order_item_id</th>\n",
       "      <th>product_id</th>\n",
       "      <th>seller_id</th>\n",
       "      <th>price</th>\n",
       "      <th>freight_value</th>\n",
       "    </tr>\n",
       "  </thead>\n",
       "  <tbody>\n",
       "    <tr>\n",
       "      <th>3556</th>\n",
       "      <td>0812eb902a67711a1cb742b3cdaa65ae</td>\n",
       "      <td>1</td>\n",
       "      <td>489ae2aa008f021502940f251d4cce7f</td>\n",
       "      <td>e3b4998c7a498169dc7bce44e6bb6277</td>\n",
       "      <td>6735.0</td>\n",
       "      <td>194.31</td>\n",
       "    </tr>\n",
       "    <tr>\n",
       "      <th>112233</th>\n",
       "      <td>fefacc66af859508bf1a7934eab1e97f</td>\n",
       "      <td>1</td>\n",
       "      <td>69c590f7ffc7bf8db97190b6cb6ed62e</td>\n",
       "      <td>80ceebb4ee9b31afb6c6a916a574a1e2</td>\n",
       "      <td>6729.0</td>\n",
       "      <td>193.21</td>\n",
       "    </tr>\n",
       "    <tr>\n",
       "      <th>107841</th>\n",
       "      <td>f5136e38d1a14a4dbd87dff67da82701</td>\n",
       "      <td>1</td>\n",
       "      <td>1bdf5e6731585cf01aa8169c7028d6ad</td>\n",
       "      <td>ee27a8f15b1dded4d213a468ba4eb391</td>\n",
       "      <td>6499.0</td>\n",
       "      <td>227.66</td>\n",
       "    </tr>\n",
       "    <tr>\n",
       "      <th>74336</th>\n",
       "      <td>a96610ab360d42a2e5335a3998b4718a</td>\n",
       "      <td>1</td>\n",
       "      <td>a6492cc69376c469ab6f61d8f44de961</td>\n",
       "      <td>59417c56835dd8e2e72f91f809cd4092</td>\n",
       "      <td>4799.0</td>\n",
       "      <td>151.34</td>\n",
       "    </tr>\n",
       "    <tr>\n",
       "      <th>11249</th>\n",
       "      <td>199af31afc78c699f0dbf71fb178d4d4</td>\n",
       "      <td>1</td>\n",
       "      <td>c3ed642d592594bb648ff4a04cee2747</td>\n",
       "      <td>59417c56835dd8e2e72f91f809cd4092</td>\n",
       "      <td>4690.0</td>\n",
       "      <td>74.34</td>\n",
       "    </tr>\n",
       "  </tbody>\n",
       "</table>\n",
       "</div>"
      ],
      "text/plain": [
       "                                order_id  order_item_id  \\\n",
       "3556    0812eb902a67711a1cb742b3cdaa65ae              1   \n",
       "112233  fefacc66af859508bf1a7934eab1e97f              1   \n",
       "107841  f5136e38d1a14a4dbd87dff67da82701              1   \n",
       "74336   a96610ab360d42a2e5335a3998b4718a              1   \n",
       "11249   199af31afc78c699f0dbf71fb178d4d4              1   \n",
       "\n",
       "                              product_id                         seller_id  \\\n",
       "3556    489ae2aa008f021502940f251d4cce7f  e3b4998c7a498169dc7bce44e6bb6277   \n",
       "112233  69c590f7ffc7bf8db97190b6cb6ed62e  80ceebb4ee9b31afb6c6a916a574a1e2   \n",
       "107841  1bdf5e6731585cf01aa8169c7028d6ad  ee27a8f15b1dded4d213a468ba4eb391   \n",
       "74336   a6492cc69376c469ab6f61d8f44de961  59417c56835dd8e2e72f91f809cd4092   \n",
       "11249   c3ed642d592594bb648ff4a04cee2747  59417c56835dd8e2e72f91f809cd4092   \n",
       "\n",
       "         price  freight_value  \n",
       "3556    6735.0         194.31  \n",
       "112233  6729.0         193.21  \n",
       "107841  6499.0         227.66  \n",
       "74336   4799.0         151.34  \n",
       "11249   4690.0          74.34  "
      ]
     },
     "execution_count": 64,
     "metadata": {},
     "output_type": "execute_result"
    }
   ],
   "source": [
    "order_items_df.nlargest(5, 'price')"
   ]
  },
  {
   "cell_type": "markdown",
   "metadata": {
    "id": "ELlKGAmU9q7m"
   },
   "source": [
    "Dapat dilihat bahwa memang banyak data yang mempunyai harga yang mahal. Mari kita cek untuk harga yang paling murah"
   ]
  },
  {
   "cell_type": "code",
   "execution_count": 65,
   "metadata": {
    "colab": {
     "base_uri": "https://localhost:8080/"
    },
    "id": "OCW3Yzd490cG",
    "outputId": "f06e12ee-753b-4b49-e04b-cb043bb2f900"
   },
   "outputs": [
    {
     "data": {
      "text/html": [
       "<div>\n",
       "<style scoped>\n",
       "    .dataframe tbody tr th:only-of-type {\n",
       "        vertical-align: middle;\n",
       "    }\n",
       "\n",
       "    .dataframe tbody tr th {\n",
       "        vertical-align: top;\n",
       "    }\n",
       "\n",
       "    .dataframe thead th {\n",
       "        text-align: right;\n",
       "    }\n",
       "</style>\n",
       "<table border=\"1\" class=\"dataframe\">\n",
       "  <thead>\n",
       "    <tr style=\"text-align: right;\">\n",
       "      <th></th>\n",
       "      <th>order_id</th>\n",
       "      <th>order_item_id</th>\n",
       "      <th>product_id</th>\n",
       "      <th>seller_id</th>\n",
       "      <th>price</th>\n",
       "      <th>freight_value</th>\n",
       "    </tr>\n",
       "  </thead>\n",
       "  <tbody>\n",
       "    <tr>\n",
       "      <th>27652</th>\n",
       "      <td>3ee6513ae7ea23bdfab5b9ab60bffcb5</td>\n",
       "      <td>1</td>\n",
       "      <td>8a3254bee785a526d548a81a9bc3c9be</td>\n",
       "      <td>96804ea39d96eb908e7c3afdb671bb9e</td>\n",
       "      <td>0.85</td>\n",
       "      <td>18.23</td>\n",
       "    </tr>\n",
       "    <tr>\n",
       "      <th>48625</th>\n",
       "      <td>6e864b3f0ec71031117ad4cf46b7f2a1</td>\n",
       "      <td>1</td>\n",
       "      <td>8a3254bee785a526d548a81a9bc3c9be</td>\n",
       "      <td>96804ea39d96eb908e7c3afdb671bb9e</td>\n",
       "      <td>0.85</td>\n",
       "      <td>18.23</td>\n",
       "    </tr>\n",
       "    <tr>\n",
       "      <th>87081</th>\n",
       "      <td>c5bdd8ef3c0ec420232e668302179113</td>\n",
       "      <td>2</td>\n",
       "      <td>8a3254bee785a526d548a81a9bc3c9be</td>\n",
       "      <td>96804ea39d96eb908e7c3afdb671bb9e</td>\n",
       "      <td>0.85</td>\n",
       "      <td>22.30</td>\n",
       "    </tr>\n",
       "    <tr>\n",
       "      <th>57297</th>\n",
       "      <td>8272b63d03f5f79c56e9e4120aec44ef</td>\n",
       "      <td>1</td>\n",
       "      <td>270516a3f41dc035aa87d220228f844c</td>\n",
       "      <td>2709af9587499e95e803a6498a5a56e9</td>\n",
       "      <td>1.20</td>\n",
       "      <td>7.89</td>\n",
       "    </tr>\n",
       "    <tr>\n",
       "      <th>57298</th>\n",
       "      <td>8272b63d03f5f79c56e9e4120aec44ef</td>\n",
       "      <td>2</td>\n",
       "      <td>05b515fdc76e888aada3c6d66c201dff</td>\n",
       "      <td>2709af9587499e95e803a6498a5a56e9</td>\n",
       "      <td>1.20</td>\n",
       "      <td>7.89</td>\n",
       "    </tr>\n",
       "  </tbody>\n",
       "</table>\n",
       "</div>"
      ],
      "text/plain": [
       "                               order_id  order_item_id  \\\n",
       "27652  3ee6513ae7ea23bdfab5b9ab60bffcb5              1   \n",
       "48625  6e864b3f0ec71031117ad4cf46b7f2a1              1   \n",
       "87081  c5bdd8ef3c0ec420232e668302179113              2   \n",
       "57297  8272b63d03f5f79c56e9e4120aec44ef              1   \n",
       "57298  8272b63d03f5f79c56e9e4120aec44ef              2   \n",
       "\n",
       "                             product_id                         seller_id  \\\n",
       "27652  8a3254bee785a526d548a81a9bc3c9be  96804ea39d96eb908e7c3afdb671bb9e   \n",
       "48625  8a3254bee785a526d548a81a9bc3c9be  96804ea39d96eb908e7c3afdb671bb9e   \n",
       "87081  8a3254bee785a526d548a81a9bc3c9be  96804ea39d96eb908e7c3afdb671bb9e   \n",
       "57297  270516a3f41dc035aa87d220228f844c  2709af9587499e95e803a6498a5a56e9   \n",
       "57298  05b515fdc76e888aada3c6d66c201dff  2709af9587499e95e803a6498a5a56e9   \n",
       "\n",
       "       price  freight_value  \n",
       "27652   0.85          18.23  \n",
       "48625   0.85          18.23  \n",
       "87081   0.85          22.30  \n",
       "57297   1.20           7.89  \n",
       "57298   1.20           7.89  "
      ]
     },
     "execution_count": 65,
     "metadata": {},
     "output_type": "execute_result"
    }
   ],
   "source": [
    "order_items_df.nsmallest(5, 'price')"
   ]
  },
  {
   "cell_type": "markdown",
   "metadata": {
    "id": "hArBiO7HAY4S"
   },
   "source": [
    "Kita belum bisa memastikan bahwa data itu outliers atau bukan, karena takutnya memang ada harga product yang mahal. Coba kita merge dahulu dengan product."
   ]
  },
  {
   "cell_type": "code",
   "execution_count": 66,
   "metadata": {
    "id": "3r2rDVzECh3P"
   },
   "outputs": [],
   "source": [
    "products_in_english_df = pd.merge(\n",
    "    left=products_df,\n",
    "    right=product_category_df,\n",
    "    how='left',\n",
    "    left_on='product_category_name',\n",
    "    right_on='product_category_name'\n",
    ")"
   ]
  },
  {
   "cell_type": "code",
   "execution_count": 67,
   "metadata": {
    "colab": {
     "base_uri": "https://localhost:8080/"
    },
    "id": "BjI_qLSAAr-s",
    "outputId": "d75295ca-e9ca-4e63-b954-343070aac2b1"
   },
   "outputs": [
    {
     "data": {
      "text/html": [
       "<div>\n",
       "<style scoped>\n",
       "    .dataframe tbody tr th:only-of-type {\n",
       "        vertical-align: middle;\n",
       "    }\n",
       "\n",
       "    .dataframe tbody tr th {\n",
       "        vertical-align: top;\n",
       "    }\n",
       "\n",
       "    .dataframe thead th {\n",
       "        text-align: right;\n",
       "    }\n",
       "</style>\n",
       "<table border=\"1\" class=\"dataframe\">\n",
       "  <thead>\n",
       "    <tr style=\"text-align: right;\">\n",
       "      <th></th>\n",
       "      <th>order_id</th>\n",
       "      <th>order_item_id</th>\n",
       "      <th>product_id</th>\n",
       "      <th>seller_id</th>\n",
       "      <th>price</th>\n",
       "      <th>freight_value</th>\n",
       "      <th>product_category_name</th>\n",
       "      <th>product_category_name_english</th>\n",
       "    </tr>\n",
       "  </thead>\n",
       "  <tbody>\n",
       "    <tr>\n",
       "      <th>3556</th>\n",
       "      <td>0812eb902a67711a1cb742b3cdaa65ae</td>\n",
       "      <td>1</td>\n",
       "      <td>489ae2aa008f021502940f251d4cce7f</td>\n",
       "      <td>e3b4998c7a498169dc7bce44e6bb6277</td>\n",
       "      <td>6735.0</td>\n",
       "      <td>194.31</td>\n",
       "      <td>utilidades_domesticas</td>\n",
       "      <td>housewares</td>\n",
       "    </tr>\n",
       "    <tr>\n",
       "      <th>112233</th>\n",
       "      <td>fefacc66af859508bf1a7934eab1e97f</td>\n",
       "      <td>1</td>\n",
       "      <td>69c590f7ffc7bf8db97190b6cb6ed62e</td>\n",
       "      <td>80ceebb4ee9b31afb6c6a916a574a1e2</td>\n",
       "      <td>6729.0</td>\n",
       "      <td>193.21</td>\n",
       "      <td>pcs</td>\n",
       "      <td>computers</td>\n",
       "    </tr>\n",
       "    <tr>\n",
       "      <th>107841</th>\n",
       "      <td>f5136e38d1a14a4dbd87dff67da82701</td>\n",
       "      <td>1</td>\n",
       "      <td>1bdf5e6731585cf01aa8169c7028d6ad</td>\n",
       "      <td>ee27a8f15b1dded4d213a468ba4eb391</td>\n",
       "      <td>6499.0</td>\n",
       "      <td>227.66</td>\n",
       "      <td>artes</td>\n",
       "      <td>art</td>\n",
       "    </tr>\n",
       "    <tr>\n",
       "      <th>74336</th>\n",
       "      <td>a96610ab360d42a2e5335a3998b4718a</td>\n",
       "      <td>1</td>\n",
       "      <td>a6492cc69376c469ab6f61d8f44de961</td>\n",
       "      <td>59417c56835dd8e2e72f91f809cd4092</td>\n",
       "      <td>4799.0</td>\n",
       "      <td>151.34</td>\n",
       "      <td>eletroportateis</td>\n",
       "      <td>small_appliances</td>\n",
       "    </tr>\n",
       "    <tr>\n",
       "      <th>11249</th>\n",
       "      <td>199af31afc78c699f0dbf71fb178d4d4</td>\n",
       "      <td>1</td>\n",
       "      <td>c3ed642d592594bb648ff4a04cee2747</td>\n",
       "      <td>59417c56835dd8e2e72f91f809cd4092</td>\n",
       "      <td>4690.0</td>\n",
       "      <td>74.34</td>\n",
       "      <td>eletroportateis</td>\n",
       "      <td>small_appliances</td>\n",
       "    </tr>\n",
       "  </tbody>\n",
       "</table>\n",
       "</div>"
      ],
      "text/plain": [
       "                                order_id  order_item_id  \\\n",
       "3556    0812eb902a67711a1cb742b3cdaa65ae              1   \n",
       "112233  fefacc66af859508bf1a7934eab1e97f              1   \n",
       "107841  f5136e38d1a14a4dbd87dff67da82701              1   \n",
       "74336   a96610ab360d42a2e5335a3998b4718a              1   \n",
       "11249   199af31afc78c699f0dbf71fb178d4d4              1   \n",
       "\n",
       "                              product_id                         seller_id  \\\n",
       "3556    489ae2aa008f021502940f251d4cce7f  e3b4998c7a498169dc7bce44e6bb6277   \n",
       "112233  69c590f7ffc7bf8db97190b6cb6ed62e  80ceebb4ee9b31afb6c6a916a574a1e2   \n",
       "107841  1bdf5e6731585cf01aa8169c7028d6ad  ee27a8f15b1dded4d213a468ba4eb391   \n",
       "74336   a6492cc69376c469ab6f61d8f44de961  59417c56835dd8e2e72f91f809cd4092   \n",
       "11249   c3ed642d592594bb648ff4a04cee2747  59417c56835dd8e2e72f91f809cd4092   \n",
       "\n",
       "         price  freight_value  product_category_name  \\\n",
       "3556    6735.0         194.31  utilidades_domesticas   \n",
       "112233  6729.0         193.21                    pcs   \n",
       "107841  6499.0         227.66                  artes   \n",
       "74336   4799.0         151.34        eletroportateis   \n",
       "11249   4690.0          74.34        eletroportateis   \n",
       "\n",
       "       product_category_name_english  \n",
       "3556                      housewares  \n",
       "112233                     computers  \n",
       "107841                           art  \n",
       "74336               small_appliances  \n",
       "11249               small_appliances  "
      ]
     },
     "execution_count": 67,
     "metadata": {},
     "output_type": "execute_result"
    }
   ],
   "source": [
    "order_items_product_df = pd.merge(\n",
    "    left=order_items_df,\n",
    "    right=products_in_english_df,\n",
    "    how='left',\n",
    "    left_on='product_id',\n",
    "    right_on='product_id'\n",
    ")\n",
    "descending_order_products = order_items_product_df.sort_values(by='price', ascending=False)\n",
    "descending_order_products.head()"
   ]
  },
  {
   "cell_type": "code",
   "execution_count": 68,
   "metadata": {
    "colab": {
     "base_uri": "https://localhost:8080/"
    },
    "id": "4KBlvyfyCJBk",
    "outputId": "054cd949-9c98-4229-c19c-209ab1c80d3f"
   },
   "outputs": [
    {
     "data": {
      "text/html": [
       "<div>\n",
       "<style scoped>\n",
       "    .dataframe tbody tr th:only-of-type {\n",
       "        vertical-align: middle;\n",
       "    }\n",
       "\n",
       "    .dataframe tbody tr th {\n",
       "        vertical-align: top;\n",
       "    }\n",
       "\n",
       "    .dataframe thead th {\n",
       "        text-align: right;\n",
       "    }\n",
       "</style>\n",
       "<table border=\"1\" class=\"dataframe\">\n",
       "  <thead>\n",
       "    <tr style=\"text-align: right;\">\n",
       "      <th></th>\n",
       "      <th>order_id</th>\n",
       "      <th>order_item_id</th>\n",
       "      <th>product_id</th>\n",
       "      <th>seller_id</th>\n",
       "      <th>price</th>\n",
       "      <th>freight_value</th>\n",
       "      <th>product_category_name</th>\n",
       "      <th>product_category_name_english</th>\n",
       "    </tr>\n",
       "  </thead>\n",
       "  <tbody>\n",
       "    <tr>\n",
       "      <th>27652</th>\n",
       "      <td>3ee6513ae7ea23bdfab5b9ab60bffcb5</td>\n",
       "      <td>1</td>\n",
       "      <td>8a3254bee785a526d548a81a9bc3c9be</td>\n",
       "      <td>96804ea39d96eb908e7c3afdb671bb9e</td>\n",
       "      <td>0.85</td>\n",
       "      <td>18.23</td>\n",
       "      <td>construcao_ferramentas_construcao</td>\n",
       "      <td>construction_tools_construction</td>\n",
       "    </tr>\n",
       "    <tr>\n",
       "      <th>87081</th>\n",
       "      <td>c5bdd8ef3c0ec420232e668302179113</td>\n",
       "      <td>2</td>\n",
       "      <td>8a3254bee785a526d548a81a9bc3c9be</td>\n",
       "      <td>96804ea39d96eb908e7c3afdb671bb9e</td>\n",
       "      <td>0.85</td>\n",
       "      <td>22.30</td>\n",
       "      <td>construcao_ferramentas_construcao</td>\n",
       "      <td>construction_tools_construction</td>\n",
       "    </tr>\n",
       "    <tr>\n",
       "      <th>48625</th>\n",
       "      <td>6e864b3f0ec71031117ad4cf46b7f2a1</td>\n",
       "      <td>1</td>\n",
       "      <td>8a3254bee785a526d548a81a9bc3c9be</td>\n",
       "      <td>96804ea39d96eb908e7c3afdb671bb9e</td>\n",
       "      <td>0.85</td>\n",
       "      <td>18.23</td>\n",
       "      <td>construcao_ferramentas_construcao</td>\n",
       "      <td>construction_tools_construction</td>\n",
       "    </tr>\n",
       "    <tr>\n",
       "      <th>57297</th>\n",
       "      <td>8272b63d03f5f79c56e9e4120aec44ef</td>\n",
       "      <td>1</td>\n",
       "      <td>270516a3f41dc035aa87d220228f844c</td>\n",
       "      <td>2709af9587499e95e803a6498a5a56e9</td>\n",
       "      <td>1.20</td>\n",
       "      <td>7.89</td>\n",
       "      <td>beleza_saude</td>\n",
       "      <td>health_beauty</td>\n",
       "    </tr>\n",
       "    <tr>\n",
       "      <th>57302</th>\n",
       "      <td>8272b63d03f5f79c56e9e4120aec44ef</td>\n",
       "      <td>6</td>\n",
       "      <td>05b515fdc76e888aada3c6d66c201dff</td>\n",
       "      <td>2709af9587499e95e803a6498a5a56e9</td>\n",
       "      <td>1.20</td>\n",
       "      <td>7.89</td>\n",
       "      <td>beleza_saude</td>\n",
       "      <td>health_beauty</td>\n",
       "    </tr>\n",
       "    <tr>\n",
       "      <th>57303</th>\n",
       "      <td>8272b63d03f5f79c56e9e4120aec44ef</td>\n",
       "      <td>7</td>\n",
       "      <td>05b515fdc76e888aada3c6d66c201dff</td>\n",
       "      <td>2709af9587499e95e803a6498a5a56e9</td>\n",
       "      <td>1.20</td>\n",
       "      <td>7.89</td>\n",
       "      <td>beleza_saude</td>\n",
       "      <td>health_beauty</td>\n",
       "    </tr>\n",
       "    <tr>\n",
       "      <th>57304</th>\n",
       "      <td>8272b63d03f5f79c56e9e4120aec44ef</td>\n",
       "      <td>8</td>\n",
       "      <td>05b515fdc76e888aada3c6d66c201dff</td>\n",
       "      <td>2709af9587499e95e803a6498a5a56e9</td>\n",
       "      <td>1.20</td>\n",
       "      <td>7.89</td>\n",
       "      <td>beleza_saude</td>\n",
       "      <td>health_beauty</td>\n",
       "    </tr>\n",
       "    <tr>\n",
       "      <th>57305</th>\n",
       "      <td>8272b63d03f5f79c56e9e4120aec44ef</td>\n",
       "      <td>9</td>\n",
       "      <td>05b515fdc76e888aada3c6d66c201dff</td>\n",
       "      <td>2709af9587499e95e803a6498a5a56e9</td>\n",
       "      <td>1.20</td>\n",
       "      <td>7.89</td>\n",
       "      <td>beleza_saude</td>\n",
       "      <td>health_beauty</td>\n",
       "    </tr>\n",
       "    <tr>\n",
       "      <th>57306</th>\n",
       "      <td>8272b63d03f5f79c56e9e4120aec44ef</td>\n",
       "      <td>10</td>\n",
       "      <td>05b515fdc76e888aada3c6d66c201dff</td>\n",
       "      <td>2709af9587499e95e803a6498a5a56e9</td>\n",
       "      <td>1.20</td>\n",
       "      <td>7.89</td>\n",
       "      <td>beleza_saude</td>\n",
       "      <td>health_beauty</td>\n",
       "    </tr>\n",
       "    <tr>\n",
       "      <th>57307</th>\n",
       "      <td>8272b63d03f5f79c56e9e4120aec44ef</td>\n",
       "      <td>11</td>\n",
       "      <td>05b515fdc76e888aada3c6d66c201dff</td>\n",
       "      <td>2709af9587499e95e803a6498a5a56e9</td>\n",
       "      <td>1.20</td>\n",
       "      <td>7.89</td>\n",
       "      <td>beleza_saude</td>\n",
       "      <td>health_beauty</td>\n",
       "    </tr>\n",
       "  </tbody>\n",
       "</table>\n",
       "</div>"
      ],
      "text/plain": [
       "                               order_id  order_item_id  \\\n",
       "27652  3ee6513ae7ea23bdfab5b9ab60bffcb5              1   \n",
       "87081  c5bdd8ef3c0ec420232e668302179113              2   \n",
       "48625  6e864b3f0ec71031117ad4cf46b7f2a1              1   \n",
       "57297  8272b63d03f5f79c56e9e4120aec44ef              1   \n",
       "57302  8272b63d03f5f79c56e9e4120aec44ef              6   \n",
       "57303  8272b63d03f5f79c56e9e4120aec44ef              7   \n",
       "57304  8272b63d03f5f79c56e9e4120aec44ef              8   \n",
       "57305  8272b63d03f5f79c56e9e4120aec44ef              9   \n",
       "57306  8272b63d03f5f79c56e9e4120aec44ef             10   \n",
       "57307  8272b63d03f5f79c56e9e4120aec44ef             11   \n",
       "\n",
       "                             product_id                         seller_id  \\\n",
       "27652  8a3254bee785a526d548a81a9bc3c9be  96804ea39d96eb908e7c3afdb671bb9e   \n",
       "87081  8a3254bee785a526d548a81a9bc3c9be  96804ea39d96eb908e7c3afdb671bb9e   \n",
       "48625  8a3254bee785a526d548a81a9bc3c9be  96804ea39d96eb908e7c3afdb671bb9e   \n",
       "57297  270516a3f41dc035aa87d220228f844c  2709af9587499e95e803a6498a5a56e9   \n",
       "57302  05b515fdc76e888aada3c6d66c201dff  2709af9587499e95e803a6498a5a56e9   \n",
       "57303  05b515fdc76e888aada3c6d66c201dff  2709af9587499e95e803a6498a5a56e9   \n",
       "57304  05b515fdc76e888aada3c6d66c201dff  2709af9587499e95e803a6498a5a56e9   \n",
       "57305  05b515fdc76e888aada3c6d66c201dff  2709af9587499e95e803a6498a5a56e9   \n",
       "57306  05b515fdc76e888aada3c6d66c201dff  2709af9587499e95e803a6498a5a56e9   \n",
       "57307  05b515fdc76e888aada3c6d66c201dff  2709af9587499e95e803a6498a5a56e9   \n",
       "\n",
       "       price  freight_value              product_category_name  \\\n",
       "27652   0.85          18.23  construcao_ferramentas_construcao   \n",
       "87081   0.85          22.30  construcao_ferramentas_construcao   \n",
       "48625   0.85          18.23  construcao_ferramentas_construcao   \n",
       "57297   1.20           7.89                       beleza_saude   \n",
       "57302   1.20           7.89                       beleza_saude   \n",
       "57303   1.20           7.89                       beleza_saude   \n",
       "57304   1.20           7.89                       beleza_saude   \n",
       "57305   1.20           7.89                       beleza_saude   \n",
       "57306   1.20           7.89                       beleza_saude   \n",
       "57307   1.20           7.89                       beleza_saude   \n",
       "\n",
       "         product_category_name_english  \n",
       "27652  construction_tools_construction  \n",
       "87081  construction_tools_construction  \n",
       "48625  construction_tools_construction  \n",
       "57297                    health_beauty  \n",
       "57302                    health_beauty  \n",
       "57303                    health_beauty  \n",
       "57304                    health_beauty  \n",
       "57305                    health_beauty  \n",
       "57306                    health_beauty  \n",
       "57307                    health_beauty  "
      ]
     },
     "execution_count": 68,
     "metadata": {},
     "output_type": "execute_result"
    }
   ],
   "source": [
    "ascending_order_products = order_items_product_df.sort_values(by='price', ascending=True)\n",
    "ascending_order_products.head(10)"
   ]
  },
  {
   "cell_type": "markdown",
   "metadata": {
    "id": "xz-CZG-5C9gK"
   },
   "source": [
    "**Kesimpulan:**\n",
    "\n",
    "Dapat dilihat bahwa memang tidak ada outliers pada data order_items baik price maupun freight_value. Freight_value yang tinggi mungkin dapat disebabkan karena jarak pengiriman yang jauh. Untuk kolom order_item_id, karena memang banyak item product, maka memiliki banyak order_item_id."
   ]
  },
  {
   "cell_type": "markdown",
   "metadata": {
    "id": "utKBC7UCDNNE"
   },
   "source": [
    "##### order_payments_df\n",
    "\n",
    "1. Untuk mengetahui apakah ada outliers pada payment_value, payment sequential, dan payment_installments, kita akan merge pada order_items_product_df --> order_payments_items_products_df.\n",
    "2. Data dengan outliers banyak disebabkan karena order_id yang bertumpuk, sehingga kita harus menyatukan order_id yang memiliki value yang sama --> result_order_payments_items_product_df."
   ]
  },
  {
   "cell_type": "code",
   "execution_count": 69,
   "metadata": {
    "colab": {
     "base_uri": "https://localhost:8080/"
    },
    "id": "KlYewQX4JVRr",
    "outputId": "511f9992-dd2f-4de0-91b1-7d9ecf54dc6d"
   },
   "outputs": [
    {
     "data": {
      "text/html": [
       "<div>\n",
       "<style scoped>\n",
       "    .dataframe tbody tr th:only-of-type {\n",
       "        vertical-align: middle;\n",
       "    }\n",
       "\n",
       "    .dataframe tbody tr th {\n",
       "        vertical-align: top;\n",
       "    }\n",
       "\n",
       "    .dataframe thead th {\n",
       "        text-align: right;\n",
       "    }\n",
       "</style>\n",
       "<table border=\"1\" class=\"dataframe\">\n",
       "  <thead>\n",
       "    <tr style=\"text-align: right;\">\n",
       "      <th></th>\n",
       "      <th>order_id</th>\n",
       "      <th>payment_sequential</th>\n",
       "      <th>payment_type</th>\n",
       "      <th>payment_installments</th>\n",
       "      <th>payment_value</th>\n",
       "    </tr>\n",
       "  </thead>\n",
       "  <tbody>\n",
       "    <tr>\n",
       "      <th>52107</th>\n",
       "      <td>03caa2c082116e1d31e67e9ae3700499</td>\n",
       "      <td>1</td>\n",
       "      <td>credit_card</td>\n",
       "      <td>1</td>\n",
       "      <td>13664.08</td>\n",
       "    </tr>\n",
       "    <tr>\n",
       "      <th>34370</th>\n",
       "      <td>736e1922ae60d0d6a89247b851902527</td>\n",
       "      <td>1</td>\n",
       "      <td>boleto</td>\n",
       "      <td>1</td>\n",
       "      <td>7274.88</td>\n",
       "    </tr>\n",
       "    <tr>\n",
       "      <th>41419</th>\n",
       "      <td>0812eb902a67711a1cb742b3cdaa65ae</td>\n",
       "      <td>1</td>\n",
       "      <td>credit_card</td>\n",
       "      <td>8</td>\n",
       "      <td>6929.31</td>\n",
       "    </tr>\n",
       "    <tr>\n",
       "      <th>49581</th>\n",
       "      <td>fefacc66af859508bf1a7934eab1e97f</td>\n",
       "      <td>1</td>\n",
       "      <td>boleto</td>\n",
       "      <td>1</td>\n",
       "      <td>6922.21</td>\n",
       "    </tr>\n",
       "    <tr>\n",
       "      <th>85539</th>\n",
       "      <td>f5136e38d1a14a4dbd87dff67da82701</td>\n",
       "      <td>1</td>\n",
       "      <td>boleto</td>\n",
       "      <td>1</td>\n",
       "      <td>6726.66</td>\n",
       "    </tr>\n",
       "  </tbody>\n",
       "</table>\n",
       "</div>"
      ],
      "text/plain": [
       "                               order_id  payment_sequential payment_type  \\\n",
       "52107  03caa2c082116e1d31e67e9ae3700499                   1  credit_card   \n",
       "34370  736e1922ae60d0d6a89247b851902527                   1       boleto   \n",
       "41419  0812eb902a67711a1cb742b3cdaa65ae                   1  credit_card   \n",
       "49581  fefacc66af859508bf1a7934eab1e97f                   1       boleto   \n",
       "85539  f5136e38d1a14a4dbd87dff67da82701                   1       boleto   \n",
       "\n",
       "       payment_installments  payment_value  \n",
       "52107                     1       13664.08  \n",
       "34370                     1        7274.88  \n",
       "41419                     8        6929.31  \n",
       "49581                     1        6922.21  \n",
       "85539                     1        6726.66  "
      ]
     },
     "execution_count": 69,
     "metadata": {},
     "output_type": "execute_result"
    }
   ],
   "source": [
    "order_payments_df.nlargest(5, 'payment_value')"
   ]
  },
  {
   "cell_type": "code",
   "execution_count": 70,
   "metadata": {
    "id": "6iY43pnVC9GM"
   },
   "outputs": [],
   "source": [
    "order_payments_items_products_df = pd.merge(\n",
    "    left=order_items_product_df,\n",
    "    right=order_payments_df,\n",
    "    how='left',\n",
    "    left_on='order_id',\n",
    "    right_on='order_id'\n",
    ")"
   ]
  },
  {
   "cell_type": "code",
   "execution_count": 71,
   "metadata": {
    "colab": {
     "base_uri": "https://localhost:8080/"
    },
    "id": "lPiKJsG1KvQX",
    "outputId": "9793f7fb-9ad4-4680-be4f-7ae6ba884f8c"
   },
   "outputs": [
    {
     "data": {
      "text/html": [
       "<div>\n",
       "<style scoped>\n",
       "    .dataframe tbody tr th:only-of-type {\n",
       "        vertical-align: middle;\n",
       "    }\n",
       "\n",
       "    .dataframe tbody tr th {\n",
       "        vertical-align: top;\n",
       "    }\n",
       "\n",
       "    .dataframe thead th {\n",
       "        text-align: right;\n",
       "    }\n",
       "</style>\n",
       "<table border=\"1\" class=\"dataframe\">\n",
       "  <thead>\n",
       "    <tr style=\"text-align: right;\">\n",
       "      <th></th>\n",
       "      <th>order_id</th>\n",
       "      <th>order_item_id</th>\n",
       "      <th>product_id</th>\n",
       "      <th>seller_id</th>\n",
       "      <th>price</th>\n",
       "      <th>freight_value</th>\n",
       "      <th>product_category_name</th>\n",
       "      <th>product_category_name_english</th>\n",
       "      <th>payment_sequential</th>\n",
       "      <th>payment_type</th>\n",
       "      <th>payment_installments</th>\n",
       "      <th>payment_value</th>\n",
       "    </tr>\n",
       "  </thead>\n",
       "  <tbody>\n",
       "    <tr>\n",
       "      <th>1697</th>\n",
       "      <td>03caa2c082116e1d31e67e9ae3700499</td>\n",
       "      <td>8</td>\n",
       "      <td>5769ef0a239114ac3a854af00df129e4</td>\n",
       "      <td>b37c4c02bda3161a7546a4e6d222d5b2</td>\n",
       "      <td>1680.0</td>\n",
       "      <td>28.01</td>\n",
       "      <td>telefonia_fixa</td>\n",
       "      <td>fixed_telephony</td>\n",
       "      <td>1.0</td>\n",
       "      <td>credit_card</td>\n",
       "      <td>1.0</td>\n",
       "      <td>13664.08</td>\n",
       "    </tr>\n",
       "    <tr>\n",
       "      <th>1696</th>\n",
       "      <td>03caa2c082116e1d31e67e9ae3700499</td>\n",
       "      <td>7</td>\n",
       "      <td>5769ef0a239114ac3a854af00df129e4</td>\n",
       "      <td>b37c4c02bda3161a7546a4e6d222d5b2</td>\n",
       "      <td>1680.0</td>\n",
       "      <td>28.01</td>\n",
       "      <td>telefonia_fixa</td>\n",
       "      <td>fixed_telephony</td>\n",
       "      <td>1.0</td>\n",
       "      <td>credit_card</td>\n",
       "      <td>1.0</td>\n",
       "      <td>13664.08</td>\n",
       "    </tr>\n",
       "    <tr>\n",
       "      <th>1690</th>\n",
       "      <td>03caa2c082116e1d31e67e9ae3700499</td>\n",
       "      <td>1</td>\n",
       "      <td>5769ef0a239114ac3a854af00df129e4</td>\n",
       "      <td>b37c4c02bda3161a7546a4e6d222d5b2</td>\n",
       "      <td>1680.0</td>\n",
       "      <td>28.01</td>\n",
       "      <td>telefonia_fixa</td>\n",
       "      <td>fixed_telephony</td>\n",
       "      <td>1.0</td>\n",
       "      <td>credit_card</td>\n",
       "      <td>1.0</td>\n",
       "      <td>13664.08</td>\n",
       "    </tr>\n",
       "    <tr>\n",
       "      <th>1691</th>\n",
       "      <td>03caa2c082116e1d31e67e9ae3700499</td>\n",
       "      <td>2</td>\n",
       "      <td>5769ef0a239114ac3a854af00df129e4</td>\n",
       "      <td>b37c4c02bda3161a7546a4e6d222d5b2</td>\n",
       "      <td>1680.0</td>\n",
       "      <td>28.01</td>\n",
       "      <td>telefonia_fixa</td>\n",
       "      <td>fixed_telephony</td>\n",
       "      <td>1.0</td>\n",
       "      <td>credit_card</td>\n",
       "      <td>1.0</td>\n",
       "      <td>13664.08</td>\n",
       "    </tr>\n",
       "    <tr>\n",
       "      <th>1692</th>\n",
       "      <td>03caa2c082116e1d31e67e9ae3700499</td>\n",
       "      <td>3</td>\n",
       "      <td>5769ef0a239114ac3a854af00df129e4</td>\n",
       "      <td>b37c4c02bda3161a7546a4e6d222d5b2</td>\n",
       "      <td>1680.0</td>\n",
       "      <td>28.01</td>\n",
       "      <td>telefonia_fixa</td>\n",
       "      <td>fixed_telephony</td>\n",
       "      <td>1.0</td>\n",
       "      <td>credit_card</td>\n",
       "      <td>1.0</td>\n",
       "      <td>13664.08</td>\n",
       "    </tr>\n",
       "    <tr>\n",
       "      <th>1693</th>\n",
       "      <td>03caa2c082116e1d31e67e9ae3700499</td>\n",
       "      <td>4</td>\n",
       "      <td>5769ef0a239114ac3a854af00df129e4</td>\n",
       "      <td>b37c4c02bda3161a7546a4e6d222d5b2</td>\n",
       "      <td>1680.0</td>\n",
       "      <td>28.01</td>\n",
       "      <td>telefonia_fixa</td>\n",
       "      <td>fixed_telephony</td>\n",
       "      <td>1.0</td>\n",
       "      <td>credit_card</td>\n",
       "      <td>1.0</td>\n",
       "      <td>13664.08</td>\n",
       "    </tr>\n",
       "    <tr>\n",
       "      <th>1694</th>\n",
       "      <td>03caa2c082116e1d31e67e9ae3700499</td>\n",
       "      <td>5</td>\n",
       "      <td>5769ef0a239114ac3a854af00df129e4</td>\n",
       "      <td>b37c4c02bda3161a7546a4e6d222d5b2</td>\n",
       "      <td>1680.0</td>\n",
       "      <td>28.01</td>\n",
       "      <td>telefonia_fixa</td>\n",
       "      <td>fixed_telephony</td>\n",
       "      <td>1.0</td>\n",
       "      <td>credit_card</td>\n",
       "      <td>1.0</td>\n",
       "      <td>13664.08</td>\n",
       "    </tr>\n",
       "    <tr>\n",
       "      <th>1695</th>\n",
       "      <td>03caa2c082116e1d31e67e9ae3700499</td>\n",
       "      <td>6</td>\n",
       "      <td>5769ef0a239114ac3a854af00df129e4</td>\n",
       "      <td>b37c4c02bda3161a7546a4e6d222d5b2</td>\n",
       "      <td>1680.0</td>\n",
       "      <td>28.01</td>\n",
       "      <td>telefonia_fixa</td>\n",
       "      <td>fixed_telephony</td>\n",
       "      <td>1.0</td>\n",
       "      <td>credit_card</td>\n",
       "      <td>1.0</td>\n",
       "      <td>13664.08</td>\n",
       "    </tr>\n",
       "    <tr>\n",
       "      <th>53155</th>\n",
       "      <td>736e1922ae60d0d6a89247b851902527</td>\n",
       "      <td>4</td>\n",
       "      <td>19936fa4f614ee0590d3b77ac83fd648</td>\n",
       "      <td>b37c4c02bda3161a7546a4e6d222d5b2</td>\n",
       "      <td>1790.0</td>\n",
       "      <td>28.72</td>\n",
       "      <td>telefonia_fixa</td>\n",
       "      <td>fixed_telephony</td>\n",
       "      <td>1.0</td>\n",
       "      <td>boleto</td>\n",
       "      <td>1.0</td>\n",
       "      <td>7274.88</td>\n",
       "    </tr>\n",
       "    <tr>\n",
       "      <th>53152</th>\n",
       "      <td>736e1922ae60d0d6a89247b851902527</td>\n",
       "      <td>1</td>\n",
       "      <td>19936fa4f614ee0590d3b77ac83fd648</td>\n",
       "      <td>b37c4c02bda3161a7546a4e6d222d5b2</td>\n",
       "      <td>1790.0</td>\n",
       "      <td>28.72</td>\n",
       "      <td>telefonia_fixa</td>\n",
       "      <td>fixed_telephony</td>\n",
       "      <td>1.0</td>\n",
       "      <td>boleto</td>\n",
       "      <td>1.0</td>\n",
       "      <td>7274.88</td>\n",
       "    </tr>\n",
       "  </tbody>\n",
       "</table>\n",
       "</div>"
      ],
      "text/plain": [
       "                               order_id  order_item_id  \\\n",
       "1697   03caa2c082116e1d31e67e9ae3700499              8   \n",
       "1696   03caa2c082116e1d31e67e9ae3700499              7   \n",
       "1690   03caa2c082116e1d31e67e9ae3700499              1   \n",
       "1691   03caa2c082116e1d31e67e9ae3700499              2   \n",
       "1692   03caa2c082116e1d31e67e9ae3700499              3   \n",
       "1693   03caa2c082116e1d31e67e9ae3700499              4   \n",
       "1694   03caa2c082116e1d31e67e9ae3700499              5   \n",
       "1695   03caa2c082116e1d31e67e9ae3700499              6   \n",
       "53155  736e1922ae60d0d6a89247b851902527              4   \n",
       "53152  736e1922ae60d0d6a89247b851902527              1   \n",
       "\n",
       "                             product_id                         seller_id  \\\n",
       "1697   5769ef0a239114ac3a854af00df129e4  b37c4c02bda3161a7546a4e6d222d5b2   \n",
       "1696   5769ef0a239114ac3a854af00df129e4  b37c4c02bda3161a7546a4e6d222d5b2   \n",
       "1690   5769ef0a239114ac3a854af00df129e4  b37c4c02bda3161a7546a4e6d222d5b2   \n",
       "1691   5769ef0a239114ac3a854af00df129e4  b37c4c02bda3161a7546a4e6d222d5b2   \n",
       "1692   5769ef0a239114ac3a854af00df129e4  b37c4c02bda3161a7546a4e6d222d5b2   \n",
       "1693   5769ef0a239114ac3a854af00df129e4  b37c4c02bda3161a7546a4e6d222d5b2   \n",
       "1694   5769ef0a239114ac3a854af00df129e4  b37c4c02bda3161a7546a4e6d222d5b2   \n",
       "1695   5769ef0a239114ac3a854af00df129e4  b37c4c02bda3161a7546a4e6d222d5b2   \n",
       "53155  19936fa4f614ee0590d3b77ac83fd648  b37c4c02bda3161a7546a4e6d222d5b2   \n",
       "53152  19936fa4f614ee0590d3b77ac83fd648  b37c4c02bda3161a7546a4e6d222d5b2   \n",
       "\n",
       "        price  freight_value product_category_name  \\\n",
       "1697   1680.0          28.01        telefonia_fixa   \n",
       "1696   1680.0          28.01        telefonia_fixa   \n",
       "1690   1680.0          28.01        telefonia_fixa   \n",
       "1691   1680.0          28.01        telefonia_fixa   \n",
       "1692   1680.0          28.01        telefonia_fixa   \n",
       "1693   1680.0          28.01        telefonia_fixa   \n",
       "1694   1680.0          28.01        telefonia_fixa   \n",
       "1695   1680.0          28.01        telefonia_fixa   \n",
       "53155  1790.0          28.72        telefonia_fixa   \n",
       "53152  1790.0          28.72        telefonia_fixa   \n",
       "\n",
       "      product_category_name_english  payment_sequential payment_type  \\\n",
       "1697                fixed_telephony                 1.0  credit_card   \n",
       "1696                fixed_telephony                 1.0  credit_card   \n",
       "1690                fixed_telephony                 1.0  credit_card   \n",
       "1691                fixed_telephony                 1.0  credit_card   \n",
       "1692                fixed_telephony                 1.0  credit_card   \n",
       "1693                fixed_telephony                 1.0  credit_card   \n",
       "1694                fixed_telephony                 1.0  credit_card   \n",
       "1695                fixed_telephony                 1.0  credit_card   \n",
       "53155               fixed_telephony                 1.0       boleto   \n",
       "53152               fixed_telephony                 1.0       boleto   \n",
       "\n",
       "       payment_installments  payment_value  \n",
       "1697                    1.0       13664.08  \n",
       "1696                    1.0       13664.08  \n",
       "1690                    1.0       13664.08  \n",
       "1691                    1.0       13664.08  \n",
       "1692                    1.0       13664.08  \n",
       "1693                    1.0       13664.08  \n",
       "1694                    1.0       13664.08  \n",
       "1695                    1.0       13664.08  \n",
       "53155                   1.0        7274.88  \n",
       "53152                   1.0        7274.88  "
      ]
     },
     "execution_count": 71,
     "metadata": {},
     "output_type": "execute_result"
    }
   ],
   "source": [
    "# Berdasarkan Payment value\n",
    "\n",
    "descending_order_payments = order_payments_items_products_df.sort_values(by='payment_value', ascending=False)\n",
    "descending_order_payments.head(10)"
   ]
  },
  {
   "cell_type": "markdown",
   "metadata": {
    "id": "5craxcMuLhfH"
   },
   "source": [
    "Jika dilihat dari order_id, kemungkinan dengan payment_value sebesar itu dikarenakan membeli dengan jumlah yang banyak."
   ]
  },
  {
   "cell_type": "code",
   "execution_count": 72,
   "metadata": {
    "colab": {
     "base_uri": "https://localhost:8080/"
    },
    "id": "vyduY52FMmen",
    "outputId": "9f2d1089-3547-4c7c-f8a3-a10291fe7927"
   },
   "outputs": [
    {
     "data": {
      "text/html": [
       "<div>\n",
       "<style scoped>\n",
       "    .dataframe tbody tr th:only-of-type {\n",
       "        vertical-align: middle;\n",
       "    }\n",
       "\n",
       "    .dataframe tbody tr th {\n",
       "        vertical-align: top;\n",
       "    }\n",
       "\n",
       "    .dataframe thead th {\n",
       "        text-align: right;\n",
       "    }\n",
       "</style>\n",
       "<table border=\"1\" class=\"dataframe\">\n",
       "  <thead>\n",
       "    <tr style=\"text-align: right;\">\n",
       "      <th></th>\n",
       "      <th>order_id</th>\n",
       "      <th>order_item_id</th>\n",
       "      <th>product_id</th>\n",
       "      <th>seller_id</th>\n",
       "      <th>price</th>\n",
       "      <th>freight_value</th>\n",
       "      <th>product_category_name</th>\n",
       "      <th>product_category_name_english</th>\n",
       "      <th>payment_sequential</th>\n",
       "      <th>payment_type</th>\n",
       "      <th>payment_installments</th>\n",
       "      <th>payment_value</th>\n",
       "    </tr>\n",
       "  </thead>\n",
       "  <tbody>\n",
       "    <tr>\n",
       "      <th>count</th>\n",
       "      <td>117604</td>\n",
       "      <td>117604.000000</td>\n",
       "      <td>117604</td>\n",
       "      <td>117604</td>\n",
       "      <td>117604.000000</td>\n",
       "      <td>117604.000000</td>\n",
       "      <td>115906</td>\n",
       "      <td>115881</td>\n",
       "      <td>117601.000000</td>\n",
       "      <td>117601</td>\n",
       "      <td>117601.000000</td>\n",
       "      <td>117601.000000</td>\n",
       "    </tr>\n",
       "    <tr>\n",
       "      <th>unique</th>\n",
       "      <td>98666</td>\n",
       "      <td>NaN</td>\n",
       "      <td>32951</td>\n",
       "      <td>3095</td>\n",
       "      <td>NaN</td>\n",
       "      <td>NaN</td>\n",
       "      <td>73</td>\n",
       "      <td>71</td>\n",
       "      <td>NaN</td>\n",
       "      <td>4</td>\n",
       "      <td>NaN</td>\n",
       "      <td>NaN</td>\n",
       "    </tr>\n",
       "    <tr>\n",
       "      <th>top</th>\n",
       "      <td>895ab968e7bb0d5659d16cd74cd1650c</td>\n",
       "      <td>NaN</td>\n",
       "      <td>aca2eb7d00ea1a7b8ebd4e68314663af</td>\n",
       "      <td>4a3ca9315b744ce9f8e9374361493884</td>\n",
       "      <td>NaN</td>\n",
       "      <td>NaN</td>\n",
       "      <td>cama_mesa_banho</td>\n",
       "      <td>bed_bath_table</td>\n",
       "      <td>NaN</td>\n",
       "      <td>credit_card</td>\n",
       "      <td>NaN</td>\n",
       "      <td>NaN</td>\n",
       "    </tr>\n",
       "    <tr>\n",
       "      <th>freq</th>\n",
       "      <td>63</td>\n",
       "      <td>NaN</td>\n",
       "      <td>536</td>\n",
       "      <td>2133</td>\n",
       "      <td>NaN</td>\n",
       "      <td>NaN</td>\n",
       "      <td>11823</td>\n",
       "      <td>11823</td>\n",
       "      <td>NaN</td>\n",
       "      <td>86769</td>\n",
       "      <td>NaN</td>\n",
       "      <td>NaN</td>\n",
       "    </tr>\n",
       "    <tr>\n",
       "      <th>mean</th>\n",
       "      <td>NaN</td>\n",
       "      <td>1.195920</td>\n",
       "      <td>NaN</td>\n",
       "      <td>NaN</td>\n",
       "      <td>120.822849</td>\n",
       "      <td>20.045551</td>\n",
       "      <td>NaN</td>\n",
       "      <td>NaN</td>\n",
       "      <td>1.093528</td>\n",
       "      <td>NaN</td>\n",
       "      <td>2.939482</td>\n",
       "      <td>172.686752</td>\n",
       "    </tr>\n",
       "    <tr>\n",
       "      <th>std</th>\n",
       "      <td>NaN</td>\n",
       "      <td>0.697721</td>\n",
       "      <td>NaN</td>\n",
       "      <td>NaN</td>\n",
       "      <td>184.477367</td>\n",
       "      <td>15.861351</td>\n",
       "      <td>NaN</td>\n",
       "      <td>NaN</td>\n",
       "      <td>0.726692</td>\n",
       "      <td>NaN</td>\n",
       "      <td>2.774223</td>\n",
       "      <td>267.592290</td>\n",
       "    </tr>\n",
       "    <tr>\n",
       "      <th>min</th>\n",
       "      <td>NaN</td>\n",
       "      <td>1.000000</td>\n",
       "      <td>NaN</td>\n",
       "      <td>NaN</td>\n",
       "      <td>0.850000</td>\n",
       "      <td>0.000000</td>\n",
       "      <td>NaN</td>\n",
       "      <td>NaN</td>\n",
       "      <td>1.000000</td>\n",
       "      <td>NaN</td>\n",
       "      <td>0.000000</td>\n",
       "      <td>0.000000</td>\n",
       "    </tr>\n",
       "    <tr>\n",
       "      <th>25%</th>\n",
       "      <td>NaN</td>\n",
       "      <td>1.000000</td>\n",
       "      <td>NaN</td>\n",
       "      <td>NaN</td>\n",
       "      <td>39.900000</td>\n",
       "      <td>13.080000</td>\n",
       "      <td>NaN</td>\n",
       "      <td>NaN</td>\n",
       "      <td>1.000000</td>\n",
       "      <td>NaN</td>\n",
       "      <td>1.000000</td>\n",
       "      <td>60.870000</td>\n",
       "    </tr>\n",
       "    <tr>\n",
       "      <th>50%</th>\n",
       "      <td>NaN</td>\n",
       "      <td>1.000000</td>\n",
       "      <td>NaN</td>\n",
       "      <td>NaN</td>\n",
       "      <td>74.900000</td>\n",
       "      <td>16.290000</td>\n",
       "      <td>NaN</td>\n",
       "      <td>NaN</td>\n",
       "      <td>1.000000</td>\n",
       "      <td>NaN</td>\n",
       "      <td>2.000000</td>\n",
       "      <td>108.210000</td>\n",
       "    </tr>\n",
       "    <tr>\n",
       "      <th>75%</th>\n",
       "      <td>NaN</td>\n",
       "      <td>1.000000</td>\n",
       "      <td>NaN</td>\n",
       "      <td>NaN</td>\n",
       "      <td>134.900000</td>\n",
       "      <td>21.190000</td>\n",
       "      <td>NaN</td>\n",
       "      <td>NaN</td>\n",
       "      <td>1.000000</td>\n",
       "      <td>NaN</td>\n",
       "      <td>4.000000</td>\n",
       "      <td>189.260000</td>\n",
       "    </tr>\n",
       "    <tr>\n",
       "      <th>max</th>\n",
       "      <td>NaN</td>\n",
       "      <td>21.000000</td>\n",
       "      <td>NaN</td>\n",
       "      <td>NaN</td>\n",
       "      <td>6735.000000</td>\n",
       "      <td>409.680000</td>\n",
       "      <td>NaN</td>\n",
       "      <td>NaN</td>\n",
       "      <td>29.000000</td>\n",
       "      <td>NaN</td>\n",
       "      <td>24.000000</td>\n",
       "      <td>13664.080000</td>\n",
       "    </tr>\n",
       "  </tbody>\n",
       "</table>\n",
       "</div>"
      ],
      "text/plain": [
       "                                order_id  order_item_id  \\\n",
       "count                             117604  117604.000000   \n",
       "unique                             98666            NaN   \n",
       "top     895ab968e7bb0d5659d16cd74cd1650c            NaN   \n",
       "freq                                  63            NaN   \n",
       "mean                                 NaN       1.195920   \n",
       "std                                  NaN       0.697721   \n",
       "min                                  NaN       1.000000   \n",
       "25%                                  NaN       1.000000   \n",
       "50%                                  NaN       1.000000   \n",
       "75%                                  NaN       1.000000   \n",
       "max                                  NaN      21.000000   \n",
       "\n",
       "                              product_id                         seller_id  \\\n",
       "count                             117604                            117604   \n",
       "unique                             32951                              3095   \n",
       "top     aca2eb7d00ea1a7b8ebd4e68314663af  4a3ca9315b744ce9f8e9374361493884   \n",
       "freq                                 536                              2133   \n",
       "mean                                 NaN                               NaN   \n",
       "std                                  NaN                               NaN   \n",
       "min                                  NaN                               NaN   \n",
       "25%                                  NaN                               NaN   \n",
       "50%                                  NaN                               NaN   \n",
       "75%                                  NaN                               NaN   \n",
       "max                                  NaN                               NaN   \n",
       "\n",
       "                price  freight_value product_category_name  \\\n",
       "count   117604.000000  117604.000000                115906   \n",
       "unique            NaN            NaN                    73   \n",
       "top               NaN            NaN       cama_mesa_banho   \n",
       "freq              NaN            NaN                 11823   \n",
       "mean       120.822849      20.045551                   NaN   \n",
       "std        184.477367      15.861351                   NaN   \n",
       "min          0.850000       0.000000                   NaN   \n",
       "25%         39.900000      13.080000                   NaN   \n",
       "50%         74.900000      16.290000                   NaN   \n",
       "75%        134.900000      21.190000                   NaN   \n",
       "max       6735.000000     409.680000                   NaN   \n",
       "\n",
       "       product_category_name_english  payment_sequential payment_type  \\\n",
       "count                         115881       117601.000000       117601   \n",
       "unique                            71                 NaN            4   \n",
       "top                   bed_bath_table                 NaN  credit_card   \n",
       "freq                           11823                 NaN        86769   \n",
       "mean                             NaN            1.093528          NaN   \n",
       "std                              NaN            0.726692          NaN   \n",
       "min                              NaN            1.000000          NaN   \n",
       "25%                              NaN            1.000000          NaN   \n",
       "50%                              NaN            1.000000          NaN   \n",
       "75%                              NaN            1.000000          NaN   \n",
       "max                              NaN           29.000000          NaN   \n",
       "\n",
       "        payment_installments  payment_value  \n",
       "count          117601.000000  117601.000000  \n",
       "unique                   NaN            NaN  \n",
       "top                      NaN            NaN  \n",
       "freq                     NaN            NaN  \n",
       "mean                2.939482     172.686752  \n",
       "std                 2.774223     267.592290  \n",
       "min                 0.000000       0.000000  \n",
       "25%                 1.000000      60.870000  \n",
       "50%                 2.000000     108.210000  \n",
       "75%                 4.000000     189.260000  \n",
       "max                24.000000   13664.080000  "
      ]
     },
     "execution_count": 72,
     "metadata": {},
     "output_type": "execute_result"
    }
   ],
   "source": [
    "order_payments_items_products_df.describe(include='all')"
   ]
  },
  {
   "cell_type": "markdown",
   "metadata": {
    "id": "XlRruilWM6w7"
   },
   "source": [
    "Dapat dilihat bahwa adanya perbedaan antara banyaknya order_id dengan value yang unique pada order_id. Maka, kita harus:\n",
    "1. Mengganti order_item_id dengan order_item dan mengambil nilai maksimalnya.\n",
    "2. Menyatukan semua order_id yang sama"
   ]
  },
  {
   "cell_type": "code",
   "execution_count": 73,
   "metadata": {
    "id": "upkE3F3CMbRl"
   },
   "outputs": [],
   "source": [
    "result_order_payments_items_products_df = order_payments_items_products_df.loc[order_payments_items_products_df.groupby('order_id')['order_item_id'].idxmax()]"
   ]
  },
  {
   "cell_type": "code",
   "execution_count": 74,
   "metadata": {
    "colab": {
     "base_uri": "https://localhost:8080/"
    },
    "id": "4fzJguNDM6K6",
    "outputId": "f4d2d87e-1216-4348-b9d7-d66d7b783d06"
   },
   "outputs": [
    {
     "data": {
      "text/html": [
       "<div>\n",
       "<style scoped>\n",
       "    .dataframe tbody tr th:only-of-type {\n",
       "        vertical-align: middle;\n",
       "    }\n",
       "\n",
       "    .dataframe tbody tr th {\n",
       "        vertical-align: top;\n",
       "    }\n",
       "\n",
       "    .dataframe thead th {\n",
       "        text-align: right;\n",
       "    }\n",
       "</style>\n",
       "<table border=\"1\" class=\"dataframe\">\n",
       "  <thead>\n",
       "    <tr style=\"text-align: right;\">\n",
       "      <th></th>\n",
       "      <th>order_id</th>\n",
       "      <th>order_item_id</th>\n",
       "      <th>product_id</th>\n",
       "      <th>seller_id</th>\n",
       "      <th>price</th>\n",
       "      <th>freight_value</th>\n",
       "      <th>product_category_name</th>\n",
       "      <th>product_category_name_english</th>\n",
       "      <th>payment_sequential</th>\n",
       "      <th>payment_type</th>\n",
       "      <th>payment_installments</th>\n",
       "      <th>payment_value</th>\n",
       "    </tr>\n",
       "  </thead>\n",
       "  <tbody>\n",
       "    <tr>\n",
       "      <th>1697</th>\n",
       "      <td>03caa2c082116e1d31e67e9ae3700499</td>\n",
       "      <td>8</td>\n",
       "      <td>5769ef0a239114ac3a854af00df129e4</td>\n",
       "      <td>b37c4c02bda3161a7546a4e6d222d5b2</td>\n",
       "      <td>1680.00</td>\n",
       "      <td>28.01</td>\n",
       "      <td>telefonia_fixa</td>\n",
       "      <td>fixed_telephony</td>\n",
       "      <td>1.0</td>\n",
       "      <td>credit_card</td>\n",
       "      <td>1.0</td>\n",
       "      <td>13664.08</td>\n",
       "    </tr>\n",
       "    <tr>\n",
       "      <th>53155</th>\n",
       "      <td>736e1922ae60d0d6a89247b851902527</td>\n",
       "      <td>4</td>\n",
       "      <td>19936fa4f614ee0590d3b77ac83fd648</td>\n",
       "      <td>b37c4c02bda3161a7546a4e6d222d5b2</td>\n",
       "      <td>1790.00</td>\n",
       "      <td>28.72</td>\n",
       "      <td>telefonia_fixa</td>\n",
       "      <td>fixed_telephony</td>\n",
       "      <td>1.0</td>\n",
       "      <td>boleto</td>\n",
       "      <td>1.0</td>\n",
       "      <td>7274.88</td>\n",
       "    </tr>\n",
       "    <tr>\n",
       "      <th>3669</th>\n",
       "      <td>0812eb902a67711a1cb742b3cdaa65ae</td>\n",
       "      <td>1</td>\n",
       "      <td>489ae2aa008f021502940f251d4cce7f</td>\n",
       "      <td>e3b4998c7a498169dc7bce44e6bb6277</td>\n",
       "      <td>6735.00</td>\n",
       "      <td>194.31</td>\n",
       "      <td>utilidades_domesticas</td>\n",
       "      <td>housewares</td>\n",
       "      <td>1.0</td>\n",
       "      <td>credit_card</td>\n",
       "      <td>8.0</td>\n",
       "      <td>6929.31</td>\n",
       "    </tr>\n",
       "    <tr>\n",
       "      <th>117164</th>\n",
       "      <td>fefacc66af859508bf1a7934eab1e97f</td>\n",
       "      <td>1</td>\n",
       "      <td>69c590f7ffc7bf8db97190b6cb6ed62e</td>\n",
       "      <td>80ceebb4ee9b31afb6c6a916a574a1e2</td>\n",
       "      <td>6729.00</td>\n",
       "      <td>193.21</td>\n",
       "      <td>pcs</td>\n",
       "      <td>computers</td>\n",
       "      <td>1.0</td>\n",
       "      <td>boleto</td>\n",
       "      <td>1.0</td>\n",
       "      <td>6922.21</td>\n",
       "    </tr>\n",
       "    <tr>\n",
       "      <th>112537</th>\n",
       "      <td>f5136e38d1a14a4dbd87dff67da82701</td>\n",
       "      <td>1</td>\n",
       "      <td>1bdf5e6731585cf01aa8169c7028d6ad</td>\n",
       "      <td>ee27a8f15b1dded4d213a468ba4eb391</td>\n",
       "      <td>6499.00</td>\n",
       "      <td>227.66</td>\n",
       "      <td>artes</td>\n",
       "      <td>art</td>\n",
       "      <td>1.0</td>\n",
       "      <td>boleto</td>\n",
       "      <td>1.0</td>\n",
       "      <td>6726.66</td>\n",
       "    </tr>\n",
       "    <tr>\n",
       "      <th>20411</th>\n",
       "      <td>2cc9089445046817a7539d90805e6e5a</td>\n",
       "      <td>6</td>\n",
       "      <td>c183fd5d2abf05873fa6e1014ed9e06c</td>\n",
       "      <td>f08a5b9dd6767129688d001acafc21e5</td>\n",
       "      <td>989.10</td>\n",
       "      <td>24.49</td>\n",
       "      <td>agro_industria_e_comercio</td>\n",
       "      <td>agro_industry_and_commerce</td>\n",
       "      <td>1.0</td>\n",
       "      <td>boleto</td>\n",
       "      <td>1.0</td>\n",
       "      <td>6081.54</td>\n",
       "    </tr>\n",
       "    <tr>\n",
       "      <th>77662</th>\n",
       "      <td>a96610ab360d42a2e5335a3998b4718a</td>\n",
       "      <td>1</td>\n",
       "      <td>a6492cc69376c469ab6f61d8f44de961</td>\n",
       "      <td>59417c56835dd8e2e72f91f809cd4092</td>\n",
       "      <td>4799.00</td>\n",
       "      <td>151.34</td>\n",
       "      <td>eletroportateis</td>\n",
       "      <td>small_appliances</td>\n",
       "      <td>1.0</td>\n",
       "      <td>credit_card</td>\n",
       "      <td>10.0</td>\n",
       "      <td>4950.34</td>\n",
       "    </tr>\n",
       "    <tr>\n",
       "      <th>83002</th>\n",
       "      <td>b4c4b76c642808cbe472a32b86cddc95</td>\n",
       "      <td>2</td>\n",
       "      <td>3db0b74faf0d26a6b252528659d6b849</td>\n",
       "      <td>c4f7fee5b0db50e87766f5a4d1b1b758</td>\n",
       "      <td>2299.95</td>\n",
       "      <td>104.77</td>\n",
       "      <td>cool_stuff</td>\n",
       "      <td>cool_stuff</td>\n",
       "      <td>1.0</td>\n",
       "      <td>credit_card</td>\n",
       "      <td>5.0</td>\n",
       "      <td>4809.44</td>\n",
       "    </tr>\n",
       "    <tr>\n",
       "      <th>11716</th>\n",
       "      <td>199af31afc78c699f0dbf71fb178d4d4</td>\n",
       "      <td>1</td>\n",
       "      <td>c3ed642d592594bb648ff4a04cee2747</td>\n",
       "      <td>59417c56835dd8e2e72f91f809cd4092</td>\n",
       "      <td>4690.00</td>\n",
       "      <td>74.34</td>\n",
       "      <td>eletroportateis</td>\n",
       "      <td>small_appliances</td>\n",
       "      <td>1.0</td>\n",
       "      <td>credit_card</td>\n",
       "      <td>8.0</td>\n",
       "      <td>4764.34</td>\n",
       "    </tr>\n",
       "    <tr>\n",
       "      <th>64931</th>\n",
       "      <td>8dbc85d1447242f3b127dda390d56e19</td>\n",
       "      <td>1</td>\n",
       "      <td>259037a6a41845e455183f89c5035f18</td>\n",
       "      <td>c72de06d72748d1a0dfb2125be43ba63</td>\n",
       "      <td>4590.00</td>\n",
       "      <td>91.78</td>\n",
       "      <td>pcs</td>\n",
       "      <td>computers</td>\n",
       "      <td>1.0</td>\n",
       "      <td>credit_card</td>\n",
       "      <td>8.0</td>\n",
       "      <td>4681.78</td>\n",
       "    </tr>\n",
       "  </tbody>\n",
       "</table>\n",
       "</div>"
      ],
      "text/plain": [
       "                                order_id  order_item_id  \\\n",
       "1697    03caa2c082116e1d31e67e9ae3700499              8   \n",
       "53155   736e1922ae60d0d6a89247b851902527              4   \n",
       "3669    0812eb902a67711a1cb742b3cdaa65ae              1   \n",
       "117164  fefacc66af859508bf1a7934eab1e97f              1   \n",
       "112537  f5136e38d1a14a4dbd87dff67da82701              1   \n",
       "20411   2cc9089445046817a7539d90805e6e5a              6   \n",
       "77662   a96610ab360d42a2e5335a3998b4718a              1   \n",
       "83002   b4c4b76c642808cbe472a32b86cddc95              2   \n",
       "11716   199af31afc78c699f0dbf71fb178d4d4              1   \n",
       "64931   8dbc85d1447242f3b127dda390d56e19              1   \n",
       "\n",
       "                              product_id                         seller_id  \\\n",
       "1697    5769ef0a239114ac3a854af00df129e4  b37c4c02bda3161a7546a4e6d222d5b2   \n",
       "53155   19936fa4f614ee0590d3b77ac83fd648  b37c4c02bda3161a7546a4e6d222d5b2   \n",
       "3669    489ae2aa008f021502940f251d4cce7f  e3b4998c7a498169dc7bce44e6bb6277   \n",
       "117164  69c590f7ffc7bf8db97190b6cb6ed62e  80ceebb4ee9b31afb6c6a916a574a1e2   \n",
       "112537  1bdf5e6731585cf01aa8169c7028d6ad  ee27a8f15b1dded4d213a468ba4eb391   \n",
       "20411   c183fd5d2abf05873fa6e1014ed9e06c  f08a5b9dd6767129688d001acafc21e5   \n",
       "77662   a6492cc69376c469ab6f61d8f44de961  59417c56835dd8e2e72f91f809cd4092   \n",
       "83002   3db0b74faf0d26a6b252528659d6b849  c4f7fee5b0db50e87766f5a4d1b1b758   \n",
       "11716   c3ed642d592594bb648ff4a04cee2747  59417c56835dd8e2e72f91f809cd4092   \n",
       "64931   259037a6a41845e455183f89c5035f18  c72de06d72748d1a0dfb2125be43ba63   \n",
       "\n",
       "          price  freight_value      product_category_name  \\\n",
       "1697    1680.00          28.01             telefonia_fixa   \n",
       "53155   1790.00          28.72             telefonia_fixa   \n",
       "3669    6735.00         194.31      utilidades_domesticas   \n",
       "117164  6729.00         193.21                        pcs   \n",
       "112537  6499.00         227.66                      artes   \n",
       "20411    989.10          24.49  agro_industria_e_comercio   \n",
       "77662   4799.00         151.34            eletroportateis   \n",
       "83002   2299.95         104.77                 cool_stuff   \n",
       "11716   4690.00          74.34            eletroportateis   \n",
       "64931   4590.00          91.78                        pcs   \n",
       "\n",
       "       product_category_name_english  payment_sequential payment_type  \\\n",
       "1697                 fixed_telephony                 1.0  credit_card   \n",
       "53155                fixed_telephony                 1.0       boleto   \n",
       "3669                      housewares                 1.0  credit_card   \n",
       "117164                     computers                 1.0       boleto   \n",
       "112537                           art                 1.0       boleto   \n",
       "20411     agro_industry_and_commerce                 1.0       boleto   \n",
       "77662               small_appliances                 1.0  credit_card   \n",
       "83002                     cool_stuff                 1.0  credit_card   \n",
       "11716               small_appliances                 1.0  credit_card   \n",
       "64931                      computers                 1.0  credit_card   \n",
       "\n",
       "        payment_installments  payment_value  \n",
       "1697                     1.0       13664.08  \n",
       "53155                    1.0        7274.88  \n",
       "3669                     8.0        6929.31  \n",
       "117164                   1.0        6922.21  \n",
       "112537                   1.0        6726.66  \n",
       "20411                    1.0        6081.54  \n",
       "77662                   10.0        4950.34  \n",
       "83002                    5.0        4809.44  \n",
       "11716                    8.0        4764.34  \n",
       "64931                    8.0        4681.78  "
      ]
     },
     "execution_count": 74,
     "metadata": {},
     "output_type": "execute_result"
    }
   ],
   "source": [
    "result_order_payments_items_products_df.sort_values(by='payment_value', ascending=False).head(10)"
   ]
  },
  {
   "cell_type": "markdown",
   "metadata": {
    "id": "_UtouyWGPaTr"
   },
   "source": [
    "**Kesimpulan:**\n",
    "Problem masalah terselesaikan. Payment_value yang tinggi disebabkan karena order_id yang menumpuk."
   ]
  },
  {
   "cell_type": "code",
   "execution_count": 75,
   "metadata": {
    "colab": {
     "base_uri": "https://localhost:8080/"
    },
    "id": "f_LR6idJPxDj",
    "outputId": "3419d5da-ba8e-4b2a-aa22-43226c63102d"
   },
   "outputs": [
    {
     "data": {
      "text/plain": [
       "array([ 1.,  2.,  5.,  3.,  7.,  6.,  4.,  8., 10., 14., 17.,  9., nan,\n",
       "       19., 11., 27., 15.])"
      ]
     },
     "execution_count": 75,
     "metadata": {},
     "output_type": "execute_result"
    }
   ],
   "source": [
    "# Berdasarkan Payment sequential\n",
    "result_order_payments_items_products_df['payment_sequential'].unique()"
   ]
  },
  {
   "cell_type": "markdown",
   "metadata": {
    "id": "UFFjK4eSRvIa"
   },
   "source": [
    "Ternyata terdapat missing value. Hal ini dapat disebabkan karena penggabungan dataset (merge). Caranya adalah, kita akan menghapus semua missing value"
   ]
  },
  {
   "cell_type": "code",
   "execution_count": 76,
   "metadata": {
    "colab": {
     "base_uri": "https://localhost:8080/"
    },
    "id": "rKVQSur-RdTc",
    "outputId": "0362d998-61df-4d9e-df03-c647d7779e42"
   },
   "outputs": [
    {
     "data": {
      "text/plain": [
       "order_id                            0\n",
       "order_item_id                       0\n",
       "product_id                          0\n",
       "seller_id                           0\n",
       "price                               0\n",
       "freight_value                       0\n",
       "product_category_name            1418\n",
       "product_category_name_english    1440\n",
       "payment_sequential                  1\n",
       "payment_type                        1\n",
       "payment_installments                1\n",
       "payment_value                       1\n",
       "dtype: int64"
      ]
     },
     "execution_count": 76,
     "metadata": {},
     "output_type": "execute_result"
    }
   ],
   "source": [
    "result_order_payments_items_products_df.isna().sum()"
   ]
  },
  {
   "cell_type": "code",
   "execution_count": 77,
   "metadata": {
    "colab": {
     "base_uri": "https://localhost:8080/"
    },
    "id": "4zmXy9KLR4uX",
    "outputId": "a98898cc-66d8-421d-91ef-f2794397bbf0"
   },
   "outputs": [
    {
     "data": {
      "text/plain": [
       "order_id                         0\n",
       "order_item_id                    0\n",
       "product_id                       0\n",
       "seller_id                        0\n",
       "price                            0\n",
       "freight_value                    0\n",
       "product_category_name            0\n",
       "product_category_name_english    0\n",
       "payment_sequential               0\n",
       "payment_type                     0\n",
       "payment_installments             0\n",
       "payment_value                    0\n",
       "dtype: int64"
      ]
     },
     "execution_count": 77,
     "metadata": {},
     "output_type": "execute_result"
    }
   ],
   "source": [
    "result_order_payments_items_products_df.dropna(inplace=True)\n",
    "result_order_payments_items_products_df.isna().sum()"
   ]
  },
  {
   "cell_type": "markdown",
   "metadata": {
    "id": "5IFAleqyRqaL"
   },
   "source": [
    "Sudah tidak terdapat missing value."
   ]
  },
  {
   "cell_type": "code",
   "execution_count": 78,
   "metadata": {
    "colab": {
     "base_uri": "https://localhost:8080/"
    },
    "id": "UTAVmRumUy8V",
    "outputId": "f146e7d6-58bc-4940-fa32-aab5cfaed7c6"
   },
   "outputs": [
    {
     "data": {
      "text/html": [
       "<div>\n",
       "<style scoped>\n",
       "    .dataframe tbody tr th:only-of-type {\n",
       "        vertical-align: middle;\n",
       "    }\n",
       "\n",
       "    .dataframe tbody tr th {\n",
       "        vertical-align: top;\n",
       "    }\n",
       "\n",
       "    .dataframe thead th {\n",
       "        text-align: right;\n",
       "    }\n",
       "</style>\n",
       "<table border=\"1\" class=\"dataframe\">\n",
       "  <thead>\n",
       "    <tr style=\"text-align: right;\">\n",
       "      <th></th>\n",
       "      <th>order_id</th>\n",
       "      <th>order_item_id</th>\n",
       "      <th>product_id</th>\n",
       "      <th>seller_id</th>\n",
       "      <th>price</th>\n",
       "      <th>freight_value</th>\n",
       "      <th>product_category_name</th>\n",
       "      <th>product_category_name_english</th>\n",
       "      <th>payment_sequential</th>\n",
       "      <th>payment_type</th>\n",
       "      <th>payment_installments</th>\n",
       "      <th>payment_value</th>\n",
       "    </tr>\n",
       "  </thead>\n",
       "  <tbody>\n",
       "    <tr>\n",
       "      <th>114980</th>\n",
       "      <td>fa65dad1b0e818e3ccc5cb0e39231352</td>\n",
       "      <td>1</td>\n",
       "      <td>1aecdb5fa3add74e385f25c6c527a462</td>\n",
       "      <td>06532f10282704ef4c69168b914b77be</td>\n",
       "      <td>392.55</td>\n",
       "      <td>65.44</td>\n",
       "      <td>ferramentas_jardim</td>\n",
       "      <td>garden_tools</td>\n",
       "      <td>27.0</td>\n",
       "      <td>voucher</td>\n",
       "      <td>1.0</td>\n",
       "      <td>66.02</td>\n",
       "    </tr>\n",
       "    <tr>\n",
       "      <th>94177</th>\n",
       "      <td>ccf804e764ed5650cd8759557269dc13</td>\n",
       "      <td>1</td>\n",
       "      <td>8d37ee446981d3790967d0268d6cfc81</td>\n",
       "      <td>1900267e848ceeba8fa32d80c1a5f5a8</td>\n",
       "      <td>49.99</td>\n",
       "      <td>12.69</td>\n",
       "      <td>cama_mesa_banho</td>\n",
       "      <td>bed_bath_table</td>\n",
       "      <td>19.0</td>\n",
       "      <td>voucher</td>\n",
       "      <td>1.0</td>\n",
       "      <td>1.68</td>\n",
       "    </tr>\n",
       "    <tr>\n",
       "      <th>63021</th>\n",
       "      <td>895ab968e7bb0d5659d16cd74cd1650c</td>\n",
       "      <td>3</td>\n",
       "      <td>5ddab10d5e0a23acb99acf56b62b3276</td>\n",
       "      <td>3d0cd21d41671c46f82cd11176bf7277</td>\n",
       "      <td>83.80</td>\n",
       "      <td>5.12</td>\n",
       "      <td>utilidades_domesticas</td>\n",
       "      <td>housewares</td>\n",
       "      <td>17.0</td>\n",
       "      <td>voucher</td>\n",
       "      <td>1.0</td>\n",
       "      <td>16.70</td>\n",
       "    </tr>\n",
       "    <tr>\n",
       "      <th>117085</th>\n",
       "      <td>fedcd9f7ccdc8cba3a18defedd1a5547</td>\n",
       "      <td>2</td>\n",
       "      <td>0554911df28fda9fd668ce5ba5949695</td>\n",
       "      <td>7c67e1448b00f6e969d365cea6b010ab</td>\n",
       "      <td>79.99</td>\n",
       "      <td>22.88</td>\n",
       "      <td>moveis_escritorio</td>\n",
       "      <td>office_furniture</td>\n",
       "      <td>15.0</td>\n",
       "      <td>voucher</td>\n",
       "      <td>1.0</td>\n",
       "      <td>10.66</td>\n",
       "    </tr>\n",
       "    <tr>\n",
       "      <th>18402</th>\n",
       "      <td>285c2e15bebd4ac83635ccc563dc71f4</td>\n",
       "      <td>1</td>\n",
       "      <td>bdc3291ab242ec1effc8eb0987850268</td>\n",
       "      <td>dbd66278cbfe1aa1000f90a217ca4695</td>\n",
       "      <td>29.00</td>\n",
       "      <td>11.85</td>\n",
       "      <td>eletronicos</td>\n",
       "      <td>electronics</td>\n",
       "      <td>14.0</td>\n",
       "      <td>voucher</td>\n",
       "      <td>1.0</td>\n",
       "      <td>1.75</td>\n",
       "    </tr>\n",
       "    <tr>\n",
       "      <th>...</th>\n",
       "      <td>...</td>\n",
       "      <td>...</td>\n",
       "      <td>...</td>\n",
       "      <td>...</td>\n",
       "      <td>...</td>\n",
       "      <td>...</td>\n",
       "      <td>...</td>\n",
       "      <td>...</td>\n",
       "      <td>...</td>\n",
       "      <td>...</td>\n",
       "      <td>...</td>\n",
       "      <td>...</td>\n",
       "    </tr>\n",
       "    <tr>\n",
       "      <th>39802</th>\n",
       "      <td>56203d7ad8ce86a53281778d2dd2c9b7</td>\n",
       "      <td>1</td>\n",
       "      <td>e0d64dcfaa3b6db5c54ca298ae101d05</td>\n",
       "      <td>7e93a43ef30c4f03f38b393420bc753a</td>\n",
       "      <td>255.61</td>\n",
       "      <td>28.05</td>\n",
       "      <td>relogios_presentes</td>\n",
       "      <td>watches_gifts</td>\n",
       "      <td>1.0</td>\n",
       "      <td>credit_card</td>\n",
       "      <td>8.0</td>\n",
       "      <td>283.66</td>\n",
       "    </tr>\n",
       "    <tr>\n",
       "      <th>39801</th>\n",
       "      <td>56203ab8c919f019d69bac51794e296d</td>\n",
       "      <td>2</td>\n",
       "      <td>fd0f7402731790468090d7895cf61c0f</td>\n",
       "      <td>4e17c65a516f69d023a2ae78b84f28d6</td>\n",
       "      <td>69.90</td>\n",
       "      <td>15.21</td>\n",
       "      <td>perfumaria</td>\n",
       "      <td>perfumery</td>\n",
       "      <td>1.0</td>\n",
       "      <td>credit_card</td>\n",
       "      <td>10.0</td>\n",
       "      <td>163.22</td>\n",
       "    </tr>\n",
       "    <tr>\n",
       "      <th>39799</th>\n",
       "      <td>561f746a88df51356713157ec83fd020</td>\n",
       "      <td>2</td>\n",
       "      <td>01d4157fd9738ea81038316ae4cfc192</td>\n",
       "      <td>7ad32824caee82087b3e2e5f33b1bf32</td>\n",
       "      <td>56.00</td>\n",
       "      <td>12.83</td>\n",
       "      <td>cama_mesa_banho</td>\n",
       "      <td>bed_bath_table</td>\n",
       "      <td>1.0</td>\n",
       "      <td>credit_card</td>\n",
       "      <td>5.0</td>\n",
       "      <td>137.66</td>\n",
       "    </tr>\n",
       "    <tr>\n",
       "      <th>39797</th>\n",
       "      <td>561f47f3e381d23b5ba7853460adf093</td>\n",
       "      <td>1</td>\n",
       "      <td>da0bb22eb8eb2bce31a3784570528efb</td>\n",
       "      <td>3d871de0142ce09b7081e2b9d1733cb1</td>\n",
       "      <td>79.00</td>\n",
       "      <td>38.10</td>\n",
       "      <td>papelaria</td>\n",
       "      <td>stationery</td>\n",
       "      <td>1.0</td>\n",
       "      <td>credit_card</td>\n",
       "      <td>2.0</td>\n",
       "      <td>117.10</td>\n",
       "    </tr>\n",
       "    <tr>\n",
       "      <th>117603</th>\n",
       "      <td>fffe41c64501cc87c801fd61db3f6244</td>\n",
       "      <td>1</td>\n",
       "      <td>350688d9dc1e75ff97be326363655e01</td>\n",
       "      <td>f7ccf836d21b2fb1de37564105216cc1</td>\n",
       "      <td>43.00</td>\n",
       "      <td>12.79</td>\n",
       "      <td>cama_mesa_banho</td>\n",
       "      <td>bed_bath_table</td>\n",
       "      <td>1.0</td>\n",
       "      <td>credit_card</td>\n",
       "      <td>1.0</td>\n",
       "      <td>55.79</td>\n",
       "    </tr>\n",
       "  </tbody>\n",
       "</table>\n",
       "<p>97225 rows × 12 columns</p>\n",
       "</div>"
      ],
      "text/plain": [
       "                                order_id  order_item_id  \\\n",
       "114980  fa65dad1b0e818e3ccc5cb0e39231352              1   \n",
       "94177   ccf804e764ed5650cd8759557269dc13              1   \n",
       "63021   895ab968e7bb0d5659d16cd74cd1650c              3   \n",
       "117085  fedcd9f7ccdc8cba3a18defedd1a5547              2   \n",
       "18402   285c2e15bebd4ac83635ccc563dc71f4              1   \n",
       "...                                  ...            ...   \n",
       "39802   56203d7ad8ce86a53281778d2dd2c9b7              1   \n",
       "39801   56203ab8c919f019d69bac51794e296d              2   \n",
       "39799   561f746a88df51356713157ec83fd020              2   \n",
       "39797   561f47f3e381d23b5ba7853460adf093              1   \n",
       "117603  fffe41c64501cc87c801fd61db3f6244              1   \n",
       "\n",
       "                              product_id                         seller_id  \\\n",
       "114980  1aecdb5fa3add74e385f25c6c527a462  06532f10282704ef4c69168b914b77be   \n",
       "94177   8d37ee446981d3790967d0268d6cfc81  1900267e848ceeba8fa32d80c1a5f5a8   \n",
       "63021   5ddab10d5e0a23acb99acf56b62b3276  3d0cd21d41671c46f82cd11176bf7277   \n",
       "117085  0554911df28fda9fd668ce5ba5949695  7c67e1448b00f6e969d365cea6b010ab   \n",
       "18402   bdc3291ab242ec1effc8eb0987850268  dbd66278cbfe1aa1000f90a217ca4695   \n",
       "...                                  ...                               ...   \n",
       "39802   e0d64dcfaa3b6db5c54ca298ae101d05  7e93a43ef30c4f03f38b393420bc753a   \n",
       "39801   fd0f7402731790468090d7895cf61c0f  4e17c65a516f69d023a2ae78b84f28d6   \n",
       "39799   01d4157fd9738ea81038316ae4cfc192  7ad32824caee82087b3e2e5f33b1bf32   \n",
       "39797   da0bb22eb8eb2bce31a3784570528efb  3d871de0142ce09b7081e2b9d1733cb1   \n",
       "117603  350688d9dc1e75ff97be326363655e01  f7ccf836d21b2fb1de37564105216cc1   \n",
       "\n",
       "         price  freight_value  product_category_name  \\\n",
       "114980  392.55          65.44     ferramentas_jardim   \n",
       "94177    49.99          12.69        cama_mesa_banho   \n",
       "63021    83.80           5.12  utilidades_domesticas   \n",
       "117085   79.99          22.88      moveis_escritorio   \n",
       "18402    29.00          11.85            eletronicos   \n",
       "...        ...            ...                    ...   \n",
       "39802   255.61          28.05     relogios_presentes   \n",
       "39801    69.90          15.21             perfumaria   \n",
       "39799    56.00          12.83        cama_mesa_banho   \n",
       "39797    79.00          38.10              papelaria   \n",
       "117603   43.00          12.79        cama_mesa_banho   \n",
       "\n",
       "       product_category_name_english  payment_sequential payment_type  \\\n",
       "114980                  garden_tools                27.0      voucher   \n",
       "94177                 bed_bath_table                19.0      voucher   \n",
       "63021                     housewares                17.0      voucher   \n",
       "117085              office_furniture                15.0      voucher   \n",
       "18402                    electronics                14.0      voucher   \n",
       "...                              ...                 ...          ...   \n",
       "39802                  watches_gifts                 1.0  credit_card   \n",
       "39801                      perfumery                 1.0  credit_card   \n",
       "39799                 bed_bath_table                 1.0  credit_card   \n",
       "39797                     stationery                 1.0  credit_card   \n",
       "117603                bed_bath_table                 1.0  credit_card   \n",
       "\n",
       "        payment_installments  payment_value  \n",
       "114980                   1.0          66.02  \n",
       "94177                    1.0           1.68  \n",
       "63021                    1.0          16.70  \n",
       "117085                   1.0          10.66  \n",
       "18402                    1.0           1.75  \n",
       "...                      ...            ...  \n",
       "39802                    8.0         283.66  \n",
       "39801                   10.0         163.22  \n",
       "39799                    5.0         137.66  \n",
       "39797                    2.0         117.10  \n",
       "117603                   1.0          55.79  \n",
       "\n",
       "[97225 rows x 12 columns]"
      ]
     },
     "execution_count": 78,
     "metadata": {},
     "output_type": "execute_result"
    }
   ],
   "source": [
    "result_order_payments_items_products_df.sort_values(by='payment_sequential', ascending=False)"
   ]
  },
  {
   "cell_type": "markdown",
   "metadata": {
    "id": "AQ1WNJ-kWjNH"
   },
   "source": [
    "**Kesimpulan:**\n",
    "\n",
    "Payment_sequential yang tinggi kemungkinan karena proses pembayaran atau urutan pembayarannya yang terbilang cukup banyak. Dan untuk payment_installment (pembayaran cicilan) tergantung dari kesepakatan awal pembelian. Jadi tidak mempengaruhi data outlier atau inaccuracy data jika < 100."
   ]
  },
  {
   "cell_type": "markdown",
   "metadata": {
    "id": "gp-Y6wU38DC1"
   },
   "source": [
    "## Exploratory Data Analysis (EDA)"
   ]
  },
  {
   "cell_type": "markdown",
   "metadata": {
    "id": "MW7WF2kr8DC1"
   },
   "source": [
    "### Explore ..."
   ]
  },
  {
   "cell_type": "markdown",
   "metadata": {
    "id": "Qk1EFhqF_5o-"
   },
   "source": [
    "#### Eksplorasi semua Dataset orders dengan Dataset product"
   ]
  },
  {
   "cell_type": "markdown",
   "metadata": {
    "id": "J52moEbNHF4E"
   },
   "source": [
    "##### Menyatukan dataset orders"
   ]
  },
  {
   "cell_type": "code",
   "execution_count": 79,
   "metadata": {
    "id": "e9CQCZjk8DC2"
   },
   "outputs": [],
   "source": [
    "orders_item_df = pd.merge(\n",
    "    left=orders_df,\n",
    "    right=order_items_df,\n",
    "    how='left',\n",
    "    left_on='order_id',\n",
    "    right_on='order_id'\n",
    ")\n",
    "orders_payment_df = pd.merge(\n",
    "    left=orders_item_df,\n",
    "    right=order_payments_df,\n",
    "    how='left',\n",
    "    left_on='order_id',\n",
    "    right_on='order_id'\n",
    ")\n",
    "\n",
    "all_orders_df = pd.merge(\n",
    "    left=orders_payment_df,\n",
    "    right=order_reviews_df,\n",
    "    how='left',\n",
    "    left_on='order_id',\n",
    "    right_on='order_id'\n",
    ")"
   ]
  },
  {
   "cell_type": "code",
   "execution_count": 80,
   "metadata": {
    "colab": {
     "base_uri": "https://localhost:8080/"
    },
    "id": "iO27z87nCzPB",
    "outputId": "62a0b8b8-d7ec-4f50-bc66-7a650942d664"
   },
   "outputs": [
    {
     "name": "stdout",
     "output_type": "stream",
     "text": [
      "<class 'pandas.core.frame.DataFrame'>\n",
      "RangeIndex: 117741 entries, 0 to 117740\n",
      "Data columns (total 19 columns):\n",
      " #   Column                         Non-Null Count   Dtype         \n",
      "---  ------                         --------------   -----         \n",
      " 0   order_id                       117741 non-null  object        \n",
      " 1   customer_id                    117741 non-null  object        \n",
      " 2   order_status                   117741 non-null  object        \n",
      " 3   order_purchase_timestamp       117741 non-null  datetime64[ns]\n",
      " 4   order_approved_at              117741 non-null  datetime64[ns]\n",
      " 5   order_delivered_carrier_date   117741 non-null  datetime64[ns]\n",
      " 6   order_delivered_customer_date  117741 non-null  datetime64[ns]\n",
      " 7   order_estimated_delivery_date  117741 non-null  datetime64[ns]\n",
      " 8   order_item_id                  117733 non-null  float64       \n",
      " 9   product_id                     117733 non-null  object        \n",
      " 10  seller_id                      117733 non-null  object        \n",
      " 11  price                          117733 non-null  float64       \n",
      " 12  freight_value                  117733 non-null  float64       \n",
      " 13  payment_sequential             117738 non-null  float64       \n",
      " 14  payment_type                   117738 non-null  object        \n",
      " 15  payment_installments           117738 non-null  float64       \n",
      " 16  payment_value                  117738 non-null  float64       \n",
      " 17  review_id                      116778 non-null  object        \n",
      " 18  review_score                   116778 non-null  float64       \n",
      "dtypes: datetime64[ns](5), float64(7), object(7)\n",
      "memory usage: 17.1+ MB\n"
     ]
    }
   ],
   "source": [
    "all_orders_df.info()"
   ]
  },
  {
   "cell_type": "markdown",
   "metadata": {
    "id": "uF5UhutuDAmp"
   },
   "source": [
    "Karena penyatuan, akan menghasilkan banyaknya missing value. Oleh karena itu, perlu untuk membersihkan missing value tersebut"
   ]
  },
  {
   "cell_type": "code",
   "execution_count": 81,
   "metadata": {
    "colab": {
     "base_uri": "https://localhost:8080/"
    },
    "id": "sU135O8DDRZj",
    "outputId": "a7b0edae-2e5a-465d-acfc-82b9be59a1e7"
   },
   "outputs": [
    {
     "data": {
      "text/plain": [
       "order_id                           0\n",
       "customer_id                        0\n",
       "order_status                       0\n",
       "order_purchase_timestamp           0\n",
       "order_approved_at                  0\n",
       "order_delivered_carrier_date       0\n",
       "order_delivered_customer_date      0\n",
       "order_estimated_delivery_date      0\n",
       "order_item_id                      8\n",
       "product_id                         8\n",
       "seller_id                          8\n",
       "price                              8\n",
       "freight_value                      8\n",
       "payment_sequential                 3\n",
       "payment_type                       3\n",
       "payment_installments               3\n",
       "payment_value                      3\n",
       "review_id                        963\n",
       "review_score                     963\n",
       "dtype: int64"
      ]
     },
     "execution_count": 81,
     "metadata": {},
     "output_type": "execute_result"
    }
   ],
   "source": [
    "all_orders_df.isna().sum()"
   ]
  },
  {
   "cell_type": "code",
   "execution_count": 82,
   "metadata": {
    "id": "9N7URzDSDaJO"
   },
   "outputs": [],
   "source": [
    "all_orders_df.dropna(inplace=True)"
   ]
  },
  {
   "cell_type": "code",
   "execution_count": 83,
   "metadata": {
    "colab": {
     "base_uri": "https://localhost:8080/"
    },
    "id": "ln83a3YUEgom",
    "outputId": "9ef9c0de-9ee5-446c-920b-9dc22ed9a69f"
   },
   "outputs": [
    {
     "data": {
      "text/plain": [
       "order_id                         0\n",
       "customer_id                      0\n",
       "order_status                     0\n",
       "order_purchase_timestamp         0\n",
       "order_approved_at                0\n",
       "order_delivered_carrier_date     0\n",
       "order_delivered_customer_date    0\n",
       "order_estimated_delivery_date    0\n",
       "order_item_id                    0\n",
       "product_id                       0\n",
       "seller_id                        0\n",
       "price                            0\n",
       "freight_value                    0\n",
       "payment_sequential               0\n",
       "payment_type                     0\n",
       "payment_installments             0\n",
       "payment_value                    0\n",
       "review_id                        0\n",
       "review_score                     0\n",
       "dtype: int64"
      ]
     },
     "execution_count": 83,
     "metadata": {},
     "output_type": "execute_result"
    }
   ],
   "source": [
    "all_orders_df.isna().sum()"
   ]
  },
  {
   "cell_type": "code",
   "execution_count": 84,
   "metadata": {
    "id": "h-pVKyrcCIDd"
   },
   "outputs": [],
   "source": [
    "all_orders_df = all_orders_df.loc[all_orders_df.groupby('order_id')['order_item_id'].idxmax()]"
   ]
  },
  {
   "cell_type": "markdown",
   "metadata": {
    "id": "nc4j4tuhE6Vg"
   },
   "source": [
    "Lalu, karena kita sudah mengubah order_item_id dengan order_item_id yang paling besar, maka kita namakan order_item_id dengan sum_order"
   ]
  },
  {
   "cell_type": "code",
   "execution_count": 85,
   "metadata": {
    "colab": {
     "base_uri": "https://localhost:8080/"
    },
    "id": "WhUbzR26FUGE",
    "outputId": "59bd7984-4fcd-4f69-ac43-711b5277595a"
   },
   "outputs": [
    {
     "data": {
      "text/html": [
       "<div>\n",
       "<style scoped>\n",
       "    .dataframe tbody tr th:only-of-type {\n",
       "        vertical-align: middle;\n",
       "    }\n",
       "\n",
       "    .dataframe tbody tr th {\n",
       "        vertical-align: top;\n",
       "    }\n",
       "\n",
       "    .dataframe thead th {\n",
       "        text-align: right;\n",
       "    }\n",
       "</style>\n",
       "<table border=\"1\" class=\"dataframe\">\n",
       "  <thead>\n",
       "    <tr style=\"text-align: right;\">\n",
       "      <th></th>\n",
       "      <th>order_id</th>\n",
       "      <th>customer_id</th>\n",
       "      <th>order_status</th>\n",
       "      <th>order_purchase_timestamp</th>\n",
       "      <th>order_approved_at</th>\n",
       "      <th>order_delivered_carrier_date</th>\n",
       "      <th>order_delivered_customer_date</th>\n",
       "      <th>order_estimated_delivery_date</th>\n",
       "      <th>qty_order</th>\n",
       "      <th>product_id</th>\n",
       "      <th>seller_id</th>\n",
       "      <th>price</th>\n",
       "      <th>freight_value</th>\n",
       "      <th>payment_sequential</th>\n",
       "      <th>payment_type</th>\n",
       "      <th>payment_installments</th>\n",
       "      <th>payment_value</th>\n",
       "      <th>review_id</th>\n",
       "      <th>review_score</th>\n",
       "    </tr>\n",
       "  </thead>\n",
       "  <tbody>\n",
       "    <tr>\n",
       "      <th>100791</th>\n",
       "      <td>00010242fe8c5a6d1ba2dd792cb16214</td>\n",
       "      <td>3ce436f183e68e07877b285a838db11a</td>\n",
       "      <td>delivered</td>\n",
       "      <td>2017-09-13 08:59:02</td>\n",
       "      <td>2017-09-13 09:45:35</td>\n",
       "      <td>2017-09-19 18:34:16</td>\n",
       "      <td>2017-09-20 23:43:48</td>\n",
       "      <td>2017-09-29</td>\n",
       "      <td>1.0</td>\n",
       "      <td>4244733e06e7ecb4970a6e2683c13e61</td>\n",
       "      <td>48436dade18ac8b2bce089ec2a041202</td>\n",
       "      <td>58.90</td>\n",
       "      <td>13.29</td>\n",
       "      <td>1.0</td>\n",
       "      <td>credit_card</td>\n",
       "      <td>2.0</td>\n",
       "      <td>72.19</td>\n",
       "      <td>97ca439bc427b48bc1cd7177abe71365</td>\n",
       "      <td>5.0</td>\n",
       "    </tr>\n",
       "    <tr>\n",
       "      <th>84943</th>\n",
       "      <td>00018f77f2f0320c557190d7a144bdd3</td>\n",
       "      <td>f6dd3ec061db4e3987629fe6b26e5cce</td>\n",
       "      <td>delivered</td>\n",
       "      <td>2017-04-26 10:53:06</td>\n",
       "      <td>2017-04-26 11:05:13</td>\n",
       "      <td>2017-05-04 14:35:00</td>\n",
       "      <td>2017-05-12 16:04:24</td>\n",
       "      <td>2017-05-15</td>\n",
       "      <td>1.0</td>\n",
       "      <td>e5f2d52b802189ee658865ca93d83a8f</td>\n",
       "      <td>dd7ddc04e1b6c2c614352b383efe2d36</td>\n",
       "      <td>239.90</td>\n",
       "      <td>19.93</td>\n",
       "      <td>1.0</td>\n",
       "      <td>credit_card</td>\n",
       "      <td>3.0</td>\n",
       "      <td>259.83</td>\n",
       "      <td>7b07bacd811c4117b742569b04ce3580</td>\n",
       "      <td>4.0</td>\n",
       "    </tr>\n",
       "    <tr>\n",
       "      <th>7382</th>\n",
       "      <td>000229ec398224ef6ca0657da4fc703e</td>\n",
       "      <td>6489ae5e4333f3693df5ad4372dab6d3</td>\n",
       "      <td>delivered</td>\n",
       "      <td>2018-01-14 14:33:31</td>\n",
       "      <td>2018-01-14 14:48:30</td>\n",
       "      <td>2018-01-16 12:36:48</td>\n",
       "      <td>2018-01-22 13:19:16</td>\n",
       "      <td>2018-02-05</td>\n",
       "      <td>1.0</td>\n",
       "      <td>c777355d18b72b67abbeef9df44fd0fd</td>\n",
       "      <td>5b51032eddd242adc84c38acab88f23d</td>\n",
       "      <td>199.00</td>\n",
       "      <td>17.87</td>\n",
       "      <td>1.0</td>\n",
       "      <td>credit_card</td>\n",
       "      <td>5.0</td>\n",
       "      <td>216.87</td>\n",
       "      <td>0c5b33dea94867d1ac402749e5438e8b</td>\n",
       "      <td>5.0</td>\n",
       "    </tr>\n",
       "    <tr>\n",
       "      <th>26645</th>\n",
       "      <td>00024acbcdf0a6daa1e931b038114c75</td>\n",
       "      <td>d4eb9395c8c0431ee92fce09860c5a06</td>\n",
       "      <td>delivered</td>\n",
       "      <td>2018-08-08 10:00:35</td>\n",
       "      <td>2018-08-08 10:10:18</td>\n",
       "      <td>2018-08-10 13:28:00</td>\n",
       "      <td>2018-08-14 13:32:39</td>\n",
       "      <td>2018-08-20</td>\n",
       "      <td>1.0</td>\n",
       "      <td>7634da152a4610f1595efa32f14722fc</td>\n",
       "      <td>9d7a1d34a5052409006425275ba1c2b4</td>\n",
       "      <td>12.99</td>\n",
       "      <td>12.79</td>\n",
       "      <td>1.0</td>\n",
       "      <td>credit_card</td>\n",
       "      <td>2.0</td>\n",
       "      <td>25.78</td>\n",
       "      <td>f4028d019cb58564807486a6aaf33817</td>\n",
       "      <td>4.0</td>\n",
       "    </tr>\n",
       "    <tr>\n",
       "      <th>6141</th>\n",
       "      <td>00042b26cf59d7ce69dfabb4e55b4fd9</td>\n",
       "      <td>58dbd0b2d70206bf40e62cd34e84d795</td>\n",
       "      <td>delivered</td>\n",
       "      <td>2017-02-04 13:57:51</td>\n",
       "      <td>2017-02-04 14:10:13</td>\n",
       "      <td>2017-02-16 09:46:09</td>\n",
       "      <td>2017-03-01 16:42:31</td>\n",
       "      <td>2017-03-17</td>\n",
       "      <td>1.0</td>\n",
       "      <td>ac6c3623068f30de03045865e4e10089</td>\n",
       "      <td>df560393f3a51e74553ab94004ba5c87</td>\n",
       "      <td>199.90</td>\n",
       "      <td>18.14</td>\n",
       "      <td>1.0</td>\n",
       "      <td>credit_card</td>\n",
       "      <td>3.0</td>\n",
       "      <td>218.04</td>\n",
       "      <td>940144190dcba6351888cafa43f3a3a5</td>\n",
       "      <td>5.0</td>\n",
       "    </tr>\n",
       "  </tbody>\n",
       "</table>\n",
       "</div>"
      ],
      "text/plain": [
       "                                order_id                       customer_id  \\\n",
       "100791  00010242fe8c5a6d1ba2dd792cb16214  3ce436f183e68e07877b285a838db11a   \n",
       "84943   00018f77f2f0320c557190d7a144bdd3  f6dd3ec061db4e3987629fe6b26e5cce   \n",
       "7382    000229ec398224ef6ca0657da4fc703e  6489ae5e4333f3693df5ad4372dab6d3   \n",
       "26645   00024acbcdf0a6daa1e931b038114c75  d4eb9395c8c0431ee92fce09860c5a06   \n",
       "6141    00042b26cf59d7ce69dfabb4e55b4fd9  58dbd0b2d70206bf40e62cd34e84d795   \n",
       "\n",
       "       order_status order_purchase_timestamp   order_approved_at  \\\n",
       "100791    delivered      2017-09-13 08:59:02 2017-09-13 09:45:35   \n",
       "84943     delivered      2017-04-26 10:53:06 2017-04-26 11:05:13   \n",
       "7382      delivered      2018-01-14 14:33:31 2018-01-14 14:48:30   \n",
       "26645     delivered      2018-08-08 10:00:35 2018-08-08 10:10:18   \n",
       "6141      delivered      2017-02-04 13:57:51 2017-02-04 14:10:13   \n",
       "\n",
       "       order_delivered_carrier_date order_delivered_customer_date  \\\n",
       "100791          2017-09-19 18:34:16           2017-09-20 23:43:48   \n",
       "84943           2017-05-04 14:35:00           2017-05-12 16:04:24   \n",
       "7382            2018-01-16 12:36:48           2018-01-22 13:19:16   \n",
       "26645           2018-08-10 13:28:00           2018-08-14 13:32:39   \n",
       "6141            2017-02-16 09:46:09           2017-03-01 16:42:31   \n",
       "\n",
       "       order_estimated_delivery_date  qty_order  \\\n",
       "100791                    2017-09-29        1.0   \n",
       "84943                     2017-05-15        1.0   \n",
       "7382                      2018-02-05        1.0   \n",
       "26645                     2018-08-20        1.0   \n",
       "6141                      2017-03-17        1.0   \n",
       "\n",
       "                              product_id                         seller_id  \\\n",
       "100791  4244733e06e7ecb4970a6e2683c13e61  48436dade18ac8b2bce089ec2a041202   \n",
       "84943   e5f2d52b802189ee658865ca93d83a8f  dd7ddc04e1b6c2c614352b383efe2d36   \n",
       "7382    c777355d18b72b67abbeef9df44fd0fd  5b51032eddd242adc84c38acab88f23d   \n",
       "26645   7634da152a4610f1595efa32f14722fc  9d7a1d34a5052409006425275ba1c2b4   \n",
       "6141    ac6c3623068f30de03045865e4e10089  df560393f3a51e74553ab94004ba5c87   \n",
       "\n",
       "         price  freight_value  payment_sequential payment_type  \\\n",
       "100791   58.90          13.29                 1.0  credit_card   \n",
       "84943   239.90          19.93                 1.0  credit_card   \n",
       "7382    199.00          17.87                 1.0  credit_card   \n",
       "26645    12.99          12.79                 1.0  credit_card   \n",
       "6141    199.90          18.14                 1.0  credit_card   \n",
       "\n",
       "        payment_installments  payment_value                         review_id  \\\n",
       "100791                   2.0          72.19  97ca439bc427b48bc1cd7177abe71365   \n",
       "84943                    3.0         259.83  7b07bacd811c4117b742569b04ce3580   \n",
       "7382                     5.0         216.87  0c5b33dea94867d1ac402749e5438e8b   \n",
       "26645                    2.0          25.78  f4028d019cb58564807486a6aaf33817   \n",
       "6141                     3.0         218.04  940144190dcba6351888cafa43f3a3a5   \n",
       "\n",
       "        review_score  \n",
       "100791           5.0  \n",
       "84943            4.0  \n",
       "7382             5.0  \n",
       "26645            4.0  \n",
       "6141             5.0  "
      ]
     },
     "execution_count": 85,
     "metadata": {},
     "output_type": "execute_result"
    }
   ],
   "source": [
    "all_orders_df.rename(columns={'order_item_id': 'qty_order'}, inplace=True)\n",
    "all_orders_df.head(5)"
   ]
  },
  {
   "cell_type": "markdown",
   "metadata": {
    "id": "0XcFec2QF3tU"
   },
   "source": [
    "##### Menyatukan products"
   ]
  },
  {
   "cell_type": "code",
   "execution_count": 86,
   "metadata": {},
   "outputs": [],
   "source": [
    "products_df = pd.merge(\n",
    "    left=products_df,\n",
    "    right=product_category_df,\n",
    "    how='left',\n",
    "    left_on='product_category_name',\n",
    "    right_on='product_category_name'\n",
    ")"
   ]
  },
  {
   "cell_type": "code",
   "execution_count": 87,
   "metadata": {},
   "outputs": [
    {
     "data": {
      "text/plain": [
       "product_id                        0\n",
       "product_category_name             0\n",
       "product_category_name_english    13\n",
       "dtype: int64"
      ]
     },
     "execution_count": 87,
     "metadata": {},
     "output_type": "execute_result"
    }
   ],
   "source": [
    "products_df.isna().sum()"
   ]
  },
  {
   "cell_type": "code",
   "execution_count": 88,
   "metadata": {},
   "outputs": [],
   "source": [
    "products_df.dropna(inplace=True)"
   ]
  },
  {
   "cell_type": "markdown",
   "metadata": {},
   "source": [
    "##### Menyatukan dataset order dan dataset products"
   ]
  },
  {
   "cell_type": "code",
   "execution_count": 89,
   "metadata": {
    "id": "ZK6tDYKpGcp-"
   },
   "outputs": [],
   "source": [
    "orders_products_df = pd.merge(\n",
    "    left=all_orders_df,\n",
    "    right=products_df,\n",
    "    how='left',\n",
    "    left_on='product_id',\n",
    "    right_on='product_id'\n",
    ")"
   ]
  },
  {
   "cell_type": "code",
   "execution_count": 90,
   "metadata": {
    "colab": {
     "base_uri": "https://localhost:8080/"
    },
    "id": "4iVjohaEGtfr",
    "outputId": "cd19913e-a6c0-4a85-df5e-bf88d715b94d"
   },
   "outputs": [
    {
     "data": {
      "text/plain": [
       "order_id                            0\n",
       "customer_id                         0\n",
       "order_status                        0\n",
       "order_purchase_timestamp            0\n",
       "order_approved_at                   0\n",
       "order_delivered_carrier_date        0\n",
       "order_delivered_customer_date       0\n",
       "order_estimated_delivery_date       0\n",
       "qty_order                           0\n",
       "product_id                          0\n",
       "seller_id                           0\n",
       "price                               0\n",
       "freight_value                       0\n",
       "payment_sequential                  0\n",
       "payment_type                        0\n",
       "payment_installments                0\n",
       "payment_value                       0\n",
       "review_id                           0\n",
       "review_score                        0\n",
       "product_category_name            1414\n",
       "product_category_name_english    1414\n",
       "dtype: int64"
      ]
     },
     "execution_count": 90,
     "metadata": {},
     "output_type": "execute_result"
    }
   ],
   "source": [
    "orders_products_df.isna().sum()"
   ]
  },
  {
   "cell_type": "markdown",
   "metadata": {
    "id": "7nhfX1xCG329"
   },
   "source": [
    "Terdapat missing value karena penyatuan dataset. Kita akan hapus missing value tersebut"
   ]
  },
  {
   "cell_type": "code",
   "execution_count": 91,
   "metadata": {
    "id": "U3V8ZtXFKfCu"
   },
   "outputs": [],
   "source": [
    "orders_products_df.dropna(inplace=True)"
   ]
  },
  {
   "cell_type": "code",
   "execution_count": 92,
   "metadata": {
    "colab": {
     "base_uri": "https://localhost:8080/"
    },
    "id": "9Qne1KORKkBt",
    "outputId": "c7126a4c-ddce-4f29-814f-f15385a7263d"
   },
   "outputs": [
    {
     "data": {
      "text/plain": [
       "order_id                         0\n",
       "customer_id                      0\n",
       "order_status                     0\n",
       "order_purchase_timestamp         0\n",
       "order_approved_at                0\n",
       "order_delivered_carrier_date     0\n",
       "order_delivered_customer_date    0\n",
       "order_estimated_delivery_date    0\n",
       "qty_order                        0\n",
       "product_id                       0\n",
       "seller_id                        0\n",
       "price                            0\n",
       "freight_value                    0\n",
       "payment_sequential               0\n",
       "payment_type                     0\n",
       "payment_installments             0\n",
       "payment_value                    0\n",
       "review_id                        0\n",
       "review_score                     0\n",
       "product_category_name            0\n",
       "product_category_name_english    0\n",
       "dtype: int64"
      ]
     },
     "execution_count": 92,
     "metadata": {},
     "output_type": "execute_result"
    }
   ],
   "source": [
    "orders_products_df.isna().sum()"
   ]
  },
  {
   "cell_type": "markdown",
   "metadata": {
    "id": "vha0aq01PH0f"
   },
   "source": [
    "##### Melihat product mana yang mempunyai review score tertinggi dan terendah"
   ]
  },
  {
   "cell_type": "code",
   "execution_count": 93,
   "metadata": {
    "colab": {
     "base_uri": "https://localhost:8080/"
    },
    "id": "64MZhPWxPguK",
    "outputId": "c84587c2-6369-4260-fc35-b7f5e0cc46f3"
   },
   "outputs": [
    {
     "data": {
      "text/html": [
       "<div>\n",
       "<style scoped>\n",
       "    .dataframe tbody tr th:only-of-type {\n",
       "        vertical-align: middle;\n",
       "    }\n",
       "\n",
       "    .dataframe tbody tr th {\n",
       "        vertical-align: top;\n",
       "    }\n",
       "\n",
       "    .dataframe thead th {\n",
       "        text-align: right;\n",
       "    }\n",
       "</style>\n",
       "<table border=\"1\" class=\"dataframe\">\n",
       "  <thead>\n",
       "    <tr style=\"text-align: right;\">\n",
       "      <th></th>\n",
       "      <th>product_id</th>\n",
       "      <th>qty_order</th>\n",
       "      <th>review_score</th>\n",
       "    </tr>\n",
       "    <tr>\n",
       "      <th>product_category_name_english</th>\n",
       "      <th></th>\n",
       "      <th></th>\n",
       "      <th></th>\n",
       "    </tr>\n",
       "  </thead>\n",
       "  <tbody>\n",
       "    <tr>\n",
       "      <th>cds_dvds_musicals</th>\n",
       "      <td>1</td>\n",
       "      <td>14.0</td>\n",
       "      <td>4.666667</td>\n",
       "    </tr>\n",
       "    <tr>\n",
       "      <th>flowers</th>\n",
       "      <td>14</td>\n",
       "      <td>29.0</td>\n",
       "      <td>4.538462</td>\n",
       "    </tr>\n",
       "    <tr>\n",
       "      <th>books_general_interest</th>\n",
       "      <td>205</td>\n",
       "      <td>543.0</td>\n",
       "      <td>4.503006</td>\n",
       "    </tr>\n",
       "    <tr>\n",
       "      <th>costruction_tools_tools</th>\n",
       "      <td>39</td>\n",
       "      <td>99.0</td>\n",
       "      <td>4.425532</td>\n",
       "    </tr>\n",
       "    <tr>\n",
       "      <th>books_technical</th>\n",
       "      <td>122</td>\n",
       "      <td>262.0</td>\n",
       "      <td>4.421260</td>\n",
       "    </tr>\n",
       "    <tr>\n",
       "      <th>...</th>\n",
       "      <td>...</td>\n",
       "      <td>...</td>\n",
       "      <td>...</td>\n",
       "    </tr>\n",
       "    <tr>\n",
       "      <th>furniture_mattress_and_upholstery</th>\n",
       "      <td>10</td>\n",
       "      <td>38.0</td>\n",
       "      <td>3.815789</td>\n",
       "    </tr>\n",
       "    <tr>\n",
       "      <th>fashion_male_clothing</th>\n",
       "      <td>83</td>\n",
       "      <td>129.0</td>\n",
       "      <td>3.752294</td>\n",
       "    </tr>\n",
       "    <tr>\n",
       "      <th>fashio_female_clothing</th>\n",
       "      <td>25</td>\n",
       "      <td>47.0</td>\n",
       "      <td>3.736842</td>\n",
       "    </tr>\n",
       "    <tr>\n",
       "      <th>office_furniture</th>\n",
       "      <td>303</td>\n",
       "      <td>1684.0</td>\n",
       "      <td>3.627389</td>\n",
       "    </tr>\n",
       "    <tr>\n",
       "      <th>security_and_services</th>\n",
       "      <td>2</td>\n",
       "      <td>2.0</td>\n",
       "      <td>2.500000</td>\n",
       "    </tr>\n",
       "  </tbody>\n",
       "</table>\n",
       "<p>71 rows × 3 columns</p>\n",
       "</div>"
      ],
      "text/plain": [
       "                                   product_id  qty_order  review_score\n",
       "product_category_name_english                                         \n",
       "cds_dvds_musicals                           1       14.0      4.666667\n",
       "flowers                                    14       29.0      4.538462\n",
       "books_general_interest                    205      543.0      4.503006\n",
       "costruction_tools_tools                    39       99.0      4.425532\n",
       "books_technical                           122      262.0      4.421260\n",
       "...                                       ...        ...           ...\n",
       "furniture_mattress_and_upholstery          10       38.0      3.815789\n",
       "fashion_male_clothing                      83      129.0      3.752294\n",
       "fashio_female_clothing                     25       47.0      3.736842\n",
       "office_furniture                          303     1684.0      3.627389\n",
       "security_and_services                       2        2.0      2.500000\n",
       "\n",
       "[71 rows x 3 columns]"
      ]
     },
     "execution_count": 93,
     "metadata": {},
     "output_type": "execute_result"
    }
   ],
   "source": [
    "orders_products_df.groupby(by='product_category_name_english').agg({\n",
    "    'product_id':'nunique',\n",
    "    'qty_order':'sum',\n",
    "    'review_score':'mean'\n",
    "}).sort_values(by=['review_score','qty_order'], ascending=False)"
   ]
  },
  {
   "cell_type": "markdown",
   "metadata": {
    "id": "Z9GDYi9LP3PB"
   },
   "source": [
    "Dapat dilihat bahwa: \r\n",
    "1. Review score tertinggi adalah product dengan category cds_dvds_musicals dengan score 4,6.nTtotal order sebanyak 46 orders dan hanya memiliki 1 jenis product.\r\n",
    "2. Review score terendah adalah product dengan category security_and_services dengan score 5. T total order sebanyak 2 orders dan memiliki 2 jenis product."
   ]
  },
  {
   "cell_type": "markdown",
   "metadata": {
    "id": "7RYVrglMiyQG"
   },
   "source": [
    "##### Melihat rentang waktu\r\n",
    "\r\n",
    "1. Rentang waktu antara pesanan dibuat dan disetujui,\r\n",
    "2. Rentang waktu dari persetujuan hingga penyerahan ke jasa pengiriman,\r\n",
    "3. Rentang waktu pengiriman,\r\n",
    "4. Rentang waktu antara estingan orderan sampai ke tangan customer,\r\n",
    "5. Rentang waktu dari tanggal pemesanan hingga orderan sampai ke tangan customer"
   ]
  },
  {
   "cell_type": "code",
   "execution_count": 94,
   "metadata": {},
   "outputs": [
    {
     "data": {
      "text/plain": [
       "array(['delivered', 'shipped', 'invoiced', 'processing', 'approved'],\n",
       "      dtype=object)"
      ]
     },
     "execution_count": 94,
     "metadata": {},
     "output_type": "execute_result"
    }
   ],
   "source": [
    "orders_products_df.order_status.unique()"
   ]
  },
  {
   "cell_type": "code",
   "execution_count": 95,
   "metadata": {
    "colab": {
     "base_uri": "https://localhost:8080/"
    },
    "id": "HZBPVKSojMA1",
    "outputId": "104c332e-4312-4edd-fdf3-b57a60373821"
   },
   "outputs": [
    {
     "name": "stdout",
     "output_type": "stream",
     "text": [
      "<class 'pandas.core.frame.DataFrame'>\n",
      "Index: 96052 entries, 0 to 97465\n",
      "Data columns (total 21 columns):\n",
      " #   Column                         Non-Null Count  Dtype         \n",
      "---  ------                         --------------  -----         \n",
      " 0   order_id                       96052 non-null  object        \n",
      " 1   customer_id                    96052 non-null  object        \n",
      " 2   order_status                   96052 non-null  object        \n",
      " 3   order_purchase_timestamp       96052 non-null  datetime64[ns]\n",
      " 4   order_approved_at              96052 non-null  datetime64[ns]\n",
      " 5   order_delivered_carrier_date   96052 non-null  datetime64[ns]\n",
      " 6   order_delivered_customer_date  96052 non-null  datetime64[ns]\n",
      " 7   order_estimated_delivery_date  96052 non-null  datetime64[ns]\n",
      " 8   qty_order                      96052 non-null  float64       \n",
      " 9   product_id                     96052 non-null  object        \n",
      " 10  seller_id                      96052 non-null  object        \n",
      " 11  price                          96052 non-null  float64       \n",
      " 12  freight_value                  96052 non-null  float64       \n",
      " 13  payment_sequential             96052 non-null  float64       \n",
      " 14  payment_type                   96052 non-null  object        \n",
      " 15  payment_installments           96052 non-null  float64       \n",
      " 16  payment_value                  96052 non-null  float64       \n",
      " 17  review_id                      96052 non-null  object        \n",
      " 18  review_score                   96052 non-null  float64       \n",
      " 19  product_category_name          96052 non-null  object        \n",
      " 20  product_category_name_english  96052 non-null  object        \n",
      "dtypes: datetime64[ns](5), float64(7), object(9)\n",
      "memory usage: 16.1+ MB\n"
     ]
    }
   ],
   "source": [
    "orders_products_df.info()"
   ]
  },
  {
   "cell_type": "code",
   "execution_count": 96,
   "metadata": {
    "colab": {
     "base_uri": "https://localhost:8080/"
    },
    "id": "f4cwnYu0keW3",
    "outputId": "1f582d7e-6c34-4905-a755-21de74b11978"
   },
   "outputs": [],
   "source": [
    "# Rentang waktu antara pesanan dibuat dan disetujui \n",
    "orders_products_copy = orders_products_df.copy()\n",
    "apply_time = orders_products_copy['order_approved_at'] - orders_products_copy['order_purchase_timestamp']\n",
    "apply_time = apply_time.apply(lambda x: x.total_seconds())\n",
    "orders_products_df['apply_time'] = round(apply_time/86400)"
   ]
  },
  {
   "cell_type": "code",
   "execution_count": 97,
   "metadata": {},
   "outputs": [],
   "source": [
    "# Rentang waktu dari persetujuan hingga penyerahan ke jasa pengiriman\n",
    "shipped_time = orders_products_copy.loc[orders_products_copy['order_status'] != 'created']\n",
    "shipped_time = shipped_time['order_delivered_carrier_date'] - shipped_time['order_approved_at']\n",
    "shipped_time = shipped_time.apply(lambda x: x.total_seconds())\n",
    "orders_products_df['shipped_time'] = round(shipped_time/86400)"
   ]
  },
  {
   "cell_type": "code",
   "execution_count": 98,
   "metadata": {},
   "outputs": [],
   "source": [
    "# Rentang waktu pengiriman\n",
    "customer_gets_order = orders_products_copy.loc[~orders_products_copy['order_status'].isin(['created', 'processing', 'approved', 'invoiced'])]\n",
    "customer_gets_order = customer_gets_order['order_delivered_customer_date'] - customer_gets_order['order_delivered_carrier_date']\n",
    "customer_gets_order = customer_gets_order.apply(lambda x: x.total_seconds())\n",
    "orders_products_df['customer_gets_order'] = round(customer_gets_order/86400)"
   ]
  },
  {
   "cell_type": "code",
   "execution_count": 99,
   "metadata": {},
   "outputs": [],
   "source": [
    "# Rentang waktu antara estimasi orderan dari pemesanan\n",
    "estimated_range = orders_products_copy.loc[~orders_products_copy['order_status'].isin(['created', 'processing', 'approved', 'invoiced'])]\n",
    "estimed_range = estimated_range['order_estimated_delivery_date'] - estimated_range['order_delivered_carrier_date']\n",
    "estimed_range = estimed_range.apply(lambda x: x.total_seconds())\n",
    "orders_products_df['estimated_range'] = round(estimed_range/86400)"
   ]
  },
  {
   "cell_type": "code",
   "execution_count": 100,
   "metadata": {},
   "outputs": [],
   "source": [
    "# Rentang waktu dari tanggal pemesanan hingga orderan sampai ke tangan customer\n",
    "range_order = orders_products_copy['order_delivered_customer_date'] - orders_products_copy['order_purchase_timestamp']\n",
    "range_order = range_order.apply(lambda x: x.total_seconds())\n",
    "orders_products_df['range_order'] = round(range_order/86400)"
   ]
  },
  {
   "cell_type": "code",
   "execution_count": 101,
   "metadata": {
    "colab": {
     "base_uri": "https://localhost:8080/"
    },
    "id": "BSXwEBIFl0qP",
    "outputId": "9847f4d9-ec98-41d8-c1ff-c35baf31d611"
   },
   "outputs": [
    {
     "data": {
      "text/html": [
       "<div>\n",
       "<style scoped>\n",
       "    .dataframe tbody tr th:only-of-type {\n",
       "        vertical-align: middle;\n",
       "    }\n",
       "\n",
       "    .dataframe tbody tr th {\n",
       "        vertical-align: top;\n",
       "    }\n",
       "\n",
       "    .dataframe thead th {\n",
       "        text-align: right;\n",
       "    }\n",
       "</style>\n",
       "<table border=\"1\" class=\"dataframe\">\n",
       "  <thead>\n",
       "    <tr style=\"text-align: right;\">\n",
       "      <th></th>\n",
       "      <th>apply_time</th>\n",
       "      <th>shipped_time</th>\n",
       "      <th>customer_gets_order</th>\n",
       "      <th>estimated_range</th>\n",
       "      <th>range_order</th>\n",
       "    </tr>\n",
       "  </thead>\n",
       "  <tbody>\n",
       "    <tr>\n",
       "      <th>mean</th>\n",
       "      <td>0.423083</td>\n",
       "      <td>2.789354</td>\n",
       "      <td>9.148929</td>\n",
       "      <td>20.383018</td>\n",
       "      <td>12.309145</td>\n",
       "    </tr>\n",
       "    <tr>\n",
       "      <th>min</th>\n",
       "      <td>0.000000</td>\n",
       "      <td>0.000000</td>\n",
       "      <td>0.000000</td>\n",
       "      <td>0.000000</td>\n",
       "      <td>0.000000</td>\n",
       "    </tr>\n",
       "    <tr>\n",
       "      <th>max</th>\n",
       "      <td>60.000000</td>\n",
       "      <td>107.000000</td>\n",
       "      <td>205.000000</td>\n",
       "      <td>148.000000</td>\n",
       "      <td>208.000000</td>\n",
       "    </tr>\n",
       "  </tbody>\n",
       "</table>\n",
       "</div>"
      ],
      "text/plain": [
       "      apply_time  shipped_time  customer_gets_order  estimated_range  \\\n",
       "mean    0.423083      2.789354             9.148929        20.383018   \n",
       "min     0.000000      0.000000             0.000000         0.000000   \n",
       "max    60.000000    107.000000           205.000000       148.000000   \n",
       "\n",
       "      range_order  \n",
       "mean    12.309145  \n",
       "min      0.000000  \n",
       "max    208.000000  "
      ]
     },
     "execution_count": 101,
     "metadata": {},
     "output_type": "execute_result"
    }
   ],
   "source": [
    "orders_products_df.agg({\n",
    "    'apply_time':['mean', 'min', 'max'],\n",
    "    'shipped_time':['mean', 'min', 'max'],\n",
    "    'customer_gets_order':['mean', 'min', 'max'],\n",
    "    'estimated_range':['mean','min','max'],\n",
    "    'range_order':['mean', 'min', 'max']\n",
    "})"
   ]
  },
  {
   "cell_type": "markdown",
   "metadata": {
    "id": "0Eb3imijmqiW"
   },
   "source": [
    "**Kesimpulan:**\r\n",
    "1. Rentang waktu antara pesanan dibuat dan disetujui adalah 0 sampai 60 hari, dengan rata-rata kurang dari 1 hari (0,23 hari).\r\n",
    "2. Rentang waktu dari persetujuan hingga penyerahan ke jasa pengiriman adalah 0 sampai 107 hari, dengan rata-rata 2-3 hari (7883 hari).\r\n",
    "3. Rentang waktu pengiriman adalah 0 hingga 205 hari, dengan rata-rata 9 har9,14,98 hari).\r\n",
    "4. Rentang waktu antara estimasi orderan sampai ke tangan customer adalah 0 - 148 hari, dengan rata-rata estimasi pengiriman 20-21 hari380,42 hari).\r\n",
    "5. Rentang waktu waktunggal pemesanan hingga orderan sampai ke tangan customer adalah 0 hingga 208 hari (0 kemungkinan karena pesanan tidak jadi atau akibat dari kesalahan input yang tadi sudah dibetu, dengan rata-rata 12 hari (12,30 hari)kan)."
   ]
  },
  {
   "cell_type": "markdown",
   "metadata": {},
   "source": [
    "##### Melihat rating penilaian dari jumlah order."
   ]
  },
  {
   "cell_type": "code",
   "execution_count": 102,
   "metadata": {},
   "outputs": [
    {
     "data": {
      "text/plain": [
       "array(['delivered', 'shipped', 'invoiced', 'processing', 'approved'],\n",
       "      dtype=object)"
      ]
     },
     "execution_count": 102,
     "metadata": {},
     "output_type": "execute_result"
    }
   ],
   "source": [
    "orders_products_df.order_status.unique()"
   ]
  },
  {
   "cell_type": "code",
   "execution_count": 103,
   "metadata": {},
   "outputs": [
    {
     "data": {
      "text/html": [
       "<div>\n",
       "<style scoped>\n",
       "    .dataframe tbody tr th:only-of-type {\n",
       "        vertical-align: middle;\n",
       "    }\n",
       "\n",
       "    .dataframe tbody tr th {\n",
       "        vertical-align: top;\n",
       "    }\n",
       "\n",
       "    .dataframe thead tr th {\n",
       "        text-align: left;\n",
       "    }\n",
       "\n",
       "    .dataframe thead tr:last-of-type th {\n",
       "        text-align: right;\n",
       "    }\n",
       "</style>\n",
       "<table border=\"1\" class=\"dataframe\">\n",
       "  <thead>\n",
       "    <tr>\n",
       "      <th></th>\n",
       "      <th>qty_order</th>\n",
       "      <th>product_category_name_english</th>\n",
       "      <th colspan=\"2\" halign=\"left\">payment_value</th>\n",
       "    </tr>\n",
       "    <tr>\n",
       "      <th></th>\n",
       "      <th>sum</th>\n",
       "      <th>unique</th>\n",
       "      <th>min</th>\n",
       "      <th>max</th>\n",
       "    </tr>\n",
       "    <tr>\n",
       "      <th>review_score</th>\n",
       "      <th></th>\n",
       "      <th></th>\n",
       "      <th></th>\n",
       "      <th></th>\n",
       "    </tr>\n",
       "  </thead>\n",
       "  <tbody>\n",
       "    <tr>\n",
       "      <th>5.0</th>\n",
       "      <td>62284.0</td>\n",
       "      <td>[cool_stuff, furniture_decor, garden_tools, he...</td>\n",
       "      <td>0.01</td>\n",
       "      <td>6929.31</td>\n",
       "    </tr>\n",
       "    <tr>\n",
       "      <th>4.0</th>\n",
       "      <td>20887.0</td>\n",
       "      <td>[pet_shop, perfumery, housewares, telephony, b...</td>\n",
       "      <td>0.01</td>\n",
       "      <td>4764.34</td>\n",
       "    </tr>\n",
       "    <tr>\n",
       "      <th>1.0</th>\n",
       "      <td>13438.0</td>\n",
       "      <td>[health_beauty, perfumery, bed_bath_table, com...</td>\n",
       "      <td>0.09</td>\n",
       "      <td>13664.08</td>\n",
       "    </tr>\n",
       "    <tr>\n",
       "      <th>3.0</th>\n",
       "      <td>9227.0</td>\n",
       "      <td>[cool_stuff, bed_bath_table, telephony, perfum...</td>\n",
       "      <td>0.44</td>\n",
       "      <td>3242.84</td>\n",
       "    </tr>\n",
       "    <tr>\n",
       "      <th>2.0</th>\n",
       "      <td>3742.0</td>\n",
       "      <td>[furniture_decor, bed_bath_table, office_furni...</td>\n",
       "      <td>0.17</td>\n",
       "      <td>3358.24</td>\n",
       "    </tr>\n",
       "  </tbody>\n",
       "</table>\n",
       "</div>"
      ],
      "text/plain": [
       "             qty_order                      product_category_name_english  \\\n",
       "                   sum                                             unique   \n",
       "review_score                                                                \n",
       "5.0            62284.0  [cool_stuff, furniture_decor, garden_tools, he...   \n",
       "4.0            20887.0  [pet_shop, perfumery, housewares, telephony, b...   \n",
       "1.0            13438.0  [health_beauty, perfumery, bed_bath_table, com...   \n",
       "3.0             9227.0  [cool_stuff, bed_bath_table, telephony, perfum...   \n",
       "2.0             3742.0  [furniture_decor, bed_bath_table, office_furni...   \n",
       "\n",
       "             payment_value            \n",
       "                       min       max  \n",
       "review_score                          \n",
       "5.0                   0.01   6929.31  \n",
       "4.0                   0.01   4764.34  \n",
       "1.0                   0.09  13664.08  \n",
       "3.0                   0.44   3242.84  \n",
       "2.0                   0.17   3358.24  "
      ]
     },
     "execution_count": 103,
     "metadata": {},
     "output_type": "execute_result"
    }
   ],
   "source": [
    "orders_products_df.groupby(by='review_score').agg({\n",
    "    'qty_order': 'sum',\n",
    "    'product_category_name_english': 'unique',\n",
    "    'payment_value': ['min', 'max']\n",
    "}).sort_values(('qty_order', 'sum'), ascending=False)"
   ]
  },
  {
   "cell_type": "markdown",
   "metadata": {},
   "source": [
    "Dapat dilihat bahwa ada 62.284 order/pesanan yang memberikan rating 5, dan 20.887 order yang memberikan rating 4, dan 13.438 order yang memberikan rating 1. Artinya, perlu ada evaluasi dan perbaikan pada product product_category_name_english yang memiliki rating 1 agar kedepannya tidak terdapat banyak orang yang kecewa terhadap produk tersebut dan tidak menurunkan rating dari product tersebut. "
   ]
  },
  {
   "cell_type": "markdown",
   "metadata": {
    "id": "QJsniarHhGo9"
   },
   "source": [
    "#### Menyatukan dataset customer\n",
    "\n",
    "Mengubah kolom customer_zip_code_prefix dan geolocation_zip_code_prefix dengan zip_code_prefix"
   ]
  },
  {
   "cell_type": "code",
   "execution_count": 104,
   "metadata": {},
   "outputs": [],
   "source": [
    "geolocation_df.rename(columns={'geolocation_zip_code_prefix': 'zip_code_prefix'}, inplace=True)\n",
    "customers_df.rename(columns={'customer_zip_code_prefix': 'zip_code_prefix'}, inplace=True)"
   ]
  },
  {
   "cell_type": "code",
   "execution_count": 105,
   "metadata": {
    "id": "FW2HGWbKhXVq"
   },
   "outputs": [],
   "source": [
    "customers_df = pd.merge(\n",
    "    left=customers_df,\n",
    "    right=geolocation_df,\n",
    "    how='left',\n",
    "    left_on='zip_code_prefix',\n",
    "    right_on='zip_code_prefix'\n",
    ")"
   ]
  },
  {
   "cell_type": "code",
   "execution_count": 106,
   "metadata": {},
   "outputs": [
    {
     "name": "stdout",
     "output_type": "stream",
     "text": [
      "<class 'pandas.core.frame.DataFrame'>\n",
      "RangeIndex: 10328006 entries, 0 to 10328005\n",
      "Data columns (total 9 columns):\n",
      " #   Column              Dtype  \n",
      "---  ------              -----  \n",
      " 0   customer_id         object \n",
      " 1   customer_unique_id  object \n",
      " 2   zip_code_prefix     int64  \n",
      " 3   customer_city       object \n",
      " 4   customer_state      object \n",
      " 5   geolocation_lat     float64\n",
      " 6   geolocation_lng     float64\n",
      " 7   geolocation_city    object \n",
      " 8   geolocation_state   object \n",
      "dtypes: float64(2), int64(1), object(6)\n",
      "memory usage: 709.2+ MB\n"
     ]
    }
   ],
   "source": [
    "customers_df.info()"
   ]
  },
  {
   "cell_type": "code",
   "execution_count": 107,
   "metadata": {},
   "outputs": [
    {
     "data": {
      "text/plain": [
       "customer_id             0\n",
       "customer_unique_id      0\n",
       "zip_code_prefix         0\n",
       "customer_city           0\n",
       "customer_state          0\n",
       "geolocation_lat       278\n",
       "geolocation_lng       278\n",
       "geolocation_city      278\n",
       "geolocation_state     278\n",
       "dtype: int64"
      ]
     },
     "execution_count": 107,
     "metadata": {},
     "output_type": "execute_result"
    }
   ],
   "source": [
    "customers_df.isna().sum()"
   ]
  },
  {
   "cell_type": "code",
   "execution_count": 108,
   "metadata": {},
   "outputs": [
    {
     "data": {
      "text/html": [
       "<div>\n",
       "<style scoped>\n",
       "    .dataframe tbody tr th:only-of-type {\n",
       "        vertical-align: middle;\n",
       "    }\n",
       "\n",
       "    .dataframe tbody tr th {\n",
       "        vertical-align: top;\n",
       "    }\n",
       "\n",
       "    .dataframe thead th {\n",
       "        text-align: right;\n",
       "    }\n",
       "</style>\n",
       "<table border=\"1\" class=\"dataframe\">\n",
       "  <thead>\n",
       "    <tr style=\"text-align: right;\">\n",
       "      <th></th>\n",
       "      <th>customer_id</th>\n",
       "      <th>customer_unique_id</th>\n",
       "      <th>zip_code_prefix</th>\n",
       "      <th>customer_city</th>\n",
       "      <th>customer_state</th>\n",
       "      <th>geolocation_lat</th>\n",
       "      <th>geolocation_lng</th>\n",
       "      <th>geolocation_city</th>\n",
       "      <th>geolocation_state</th>\n",
       "    </tr>\n",
       "  </thead>\n",
       "  <tbody>\n",
       "    <tr>\n",
       "      <th>0</th>\n",
       "      <td>06b8999e2fba1a1fbc88172c00ba8bc7</td>\n",
       "      <td>861eff4711a542e4b93843c6dd7febb0</td>\n",
       "      <td>14409</td>\n",
       "      <td>franca</td>\n",
       "      <td>SP</td>\n",
       "      <td>-20.509897</td>\n",
       "      <td>-47.397866</td>\n",
       "      <td>franca</td>\n",
       "      <td>SP</td>\n",
       "    </tr>\n",
       "    <tr>\n",
       "      <th>1</th>\n",
       "      <td>06b8999e2fba1a1fbc88172c00ba8bc7</td>\n",
       "      <td>861eff4711a542e4b93843c6dd7febb0</td>\n",
       "      <td>14409</td>\n",
       "      <td>franca</td>\n",
       "      <td>SP</td>\n",
       "      <td>-20.497396</td>\n",
       "      <td>-47.399241</td>\n",
       "      <td>franca</td>\n",
       "      <td>SP</td>\n",
       "    </tr>\n",
       "    <tr>\n",
       "      <th>2</th>\n",
       "      <td>06b8999e2fba1a1fbc88172c00ba8bc7</td>\n",
       "      <td>861eff4711a542e4b93843c6dd7febb0</td>\n",
       "      <td>14409</td>\n",
       "      <td>franca</td>\n",
       "      <td>SP</td>\n",
       "      <td>-20.510459</td>\n",
       "      <td>-47.399553</td>\n",
       "      <td>franca</td>\n",
       "      <td>SP</td>\n",
       "    </tr>\n",
       "    <tr>\n",
       "      <th>3</th>\n",
       "      <td>06b8999e2fba1a1fbc88172c00ba8bc7</td>\n",
       "      <td>861eff4711a542e4b93843c6dd7febb0</td>\n",
       "      <td>14409</td>\n",
       "      <td>franca</td>\n",
       "      <td>SP</td>\n",
       "      <td>-20.480940</td>\n",
       "      <td>-47.394161</td>\n",
       "      <td>franca</td>\n",
       "      <td>SP</td>\n",
       "    </tr>\n",
       "    <tr>\n",
       "      <th>4</th>\n",
       "      <td>06b8999e2fba1a1fbc88172c00ba8bc7</td>\n",
       "      <td>861eff4711a542e4b93843c6dd7febb0</td>\n",
       "      <td>14409</td>\n",
       "      <td>franca</td>\n",
       "      <td>SP</td>\n",
       "      <td>-20.515413</td>\n",
       "      <td>-47.398194</td>\n",
       "      <td>franca</td>\n",
       "      <td>SP</td>\n",
       "    </tr>\n",
       "    <tr>\n",
       "      <th>...</th>\n",
       "      <td>...</td>\n",
       "      <td>...</td>\n",
       "      <td>...</td>\n",
       "      <td>...</td>\n",
       "      <td>...</td>\n",
       "      <td>...</td>\n",
       "      <td>...</td>\n",
       "      <td>...</td>\n",
       "      <td>...</td>\n",
       "    </tr>\n",
       "    <tr>\n",
       "      <th>10328001</th>\n",
       "      <td>274fa6071e5e17fe303b9748641082c8</td>\n",
       "      <td>84732c5050c01db9b23e19ba39899398</td>\n",
       "      <td>6703</td>\n",
       "      <td>cotia</td>\n",
       "      <td>SP</td>\n",
       "      <td>-23.598092</td>\n",
       "      <td>-46.904582</td>\n",
       "      <td>cotia</td>\n",
       "      <td>SP</td>\n",
       "    </tr>\n",
       "    <tr>\n",
       "      <th>10328002</th>\n",
       "      <td>274fa6071e5e17fe303b9748641082c8</td>\n",
       "      <td>84732c5050c01db9b23e19ba39899398</td>\n",
       "      <td>6703</td>\n",
       "      <td>cotia</td>\n",
       "      <td>SP</td>\n",
       "      <td>-23.594171</td>\n",
       "      <td>-46.908091</td>\n",
       "      <td>cotia</td>\n",
       "      <td>SP</td>\n",
       "    </tr>\n",
       "    <tr>\n",
       "      <th>10328003</th>\n",
       "      <td>274fa6071e5e17fe303b9748641082c8</td>\n",
       "      <td>84732c5050c01db9b23e19ba39899398</td>\n",
       "      <td>6703</td>\n",
       "      <td>cotia</td>\n",
       "      <td>SP</td>\n",
       "      <td>-23.599369</td>\n",
       "      <td>-46.905603</td>\n",
       "      <td>cotia</td>\n",
       "      <td>SP</td>\n",
       "    </tr>\n",
       "    <tr>\n",
       "      <th>10328004</th>\n",
       "      <td>274fa6071e5e17fe303b9748641082c8</td>\n",
       "      <td>84732c5050c01db9b23e19ba39899398</td>\n",
       "      <td>6703</td>\n",
       "      <td>cotia</td>\n",
       "      <td>SP</td>\n",
       "      <td>-23.584425</td>\n",
       "      <td>-46.892014</td>\n",
       "      <td>cotia</td>\n",
       "      <td>SP</td>\n",
       "    </tr>\n",
       "    <tr>\n",
       "      <th>10328005</th>\n",
       "      <td>274fa6071e5e17fe303b9748641082c8</td>\n",
       "      <td>84732c5050c01db9b23e19ba39899398</td>\n",
       "      <td>6703</td>\n",
       "      <td>cotia</td>\n",
       "      <td>SP</td>\n",
       "      <td>-23.595022</td>\n",
       "      <td>-46.918546</td>\n",
       "      <td>cotia</td>\n",
       "      <td>SP</td>\n",
       "    </tr>\n",
       "  </tbody>\n",
       "</table>\n",
       "<p>10327728 rows × 9 columns</p>\n",
       "</div>"
      ],
      "text/plain": [
       "                               customer_id                customer_unique_id  \\\n",
       "0         06b8999e2fba1a1fbc88172c00ba8bc7  861eff4711a542e4b93843c6dd7febb0   \n",
       "1         06b8999e2fba1a1fbc88172c00ba8bc7  861eff4711a542e4b93843c6dd7febb0   \n",
       "2         06b8999e2fba1a1fbc88172c00ba8bc7  861eff4711a542e4b93843c6dd7febb0   \n",
       "3         06b8999e2fba1a1fbc88172c00ba8bc7  861eff4711a542e4b93843c6dd7febb0   \n",
       "4         06b8999e2fba1a1fbc88172c00ba8bc7  861eff4711a542e4b93843c6dd7febb0   \n",
       "...                                    ...                               ...   \n",
       "10328001  274fa6071e5e17fe303b9748641082c8  84732c5050c01db9b23e19ba39899398   \n",
       "10328002  274fa6071e5e17fe303b9748641082c8  84732c5050c01db9b23e19ba39899398   \n",
       "10328003  274fa6071e5e17fe303b9748641082c8  84732c5050c01db9b23e19ba39899398   \n",
       "10328004  274fa6071e5e17fe303b9748641082c8  84732c5050c01db9b23e19ba39899398   \n",
       "10328005  274fa6071e5e17fe303b9748641082c8  84732c5050c01db9b23e19ba39899398   \n",
       "\n",
       "          zip_code_prefix customer_city customer_state  geolocation_lat  \\\n",
       "0                   14409        franca             SP       -20.509897   \n",
       "1                   14409        franca             SP       -20.497396   \n",
       "2                   14409        franca             SP       -20.510459   \n",
       "3                   14409        franca             SP       -20.480940   \n",
       "4                   14409        franca             SP       -20.515413   \n",
       "...                   ...           ...            ...              ...   \n",
       "10328001             6703         cotia             SP       -23.598092   \n",
       "10328002             6703         cotia             SP       -23.594171   \n",
       "10328003             6703         cotia             SP       -23.599369   \n",
       "10328004             6703         cotia             SP       -23.584425   \n",
       "10328005             6703         cotia             SP       -23.595022   \n",
       "\n",
       "          geolocation_lng geolocation_city geolocation_state  \n",
       "0              -47.397866           franca                SP  \n",
       "1              -47.399241           franca                SP  \n",
       "2              -47.399553           franca                SP  \n",
       "3              -47.394161           franca                SP  \n",
       "4              -47.398194           franca                SP  \n",
       "...                   ...              ...               ...  \n",
       "10328001       -46.904582            cotia                SP  \n",
       "10328002       -46.908091            cotia                SP  \n",
       "10328003       -46.905603            cotia                SP  \n",
       "10328004       -46.892014            cotia                SP  \n",
       "10328005       -46.918546            cotia                SP  \n",
       "\n",
       "[10327728 rows x 9 columns]"
      ]
     },
     "execution_count": 108,
     "metadata": {},
     "output_type": "execute_result"
    }
   ],
   "source": [
    "customers_df.dropna()"
   ]
  },
  {
   "cell_type": "code",
   "execution_count": 109,
   "metadata": {},
   "outputs": [
    {
     "data": {
      "text/html": [
       "<div>\n",
       "<style scoped>\n",
       "    .dataframe tbody tr th:only-of-type {\n",
       "        vertical-align: middle;\n",
       "    }\n",
       "\n",
       "    .dataframe tbody tr th {\n",
       "        vertical-align: top;\n",
       "    }\n",
       "\n",
       "    .dataframe thead th {\n",
       "        text-align: right;\n",
       "    }\n",
       "</style>\n",
       "<table border=\"1\" class=\"dataframe\">\n",
       "  <thead>\n",
       "    <tr style=\"text-align: right;\">\n",
       "      <th></th>\n",
       "      <th>customer_id</th>\n",
       "      <th>customer_unique_id</th>\n",
       "      <th>zip_code_prefix</th>\n",
       "      <th>customer_city</th>\n",
       "      <th>customer_state</th>\n",
       "      <th>geolocation_lat</th>\n",
       "      <th>geolocation_lng</th>\n",
       "      <th>geolocation_city</th>\n",
       "      <th>geolocation_state</th>\n",
       "    </tr>\n",
       "  </thead>\n",
       "  <tbody>\n",
       "    <tr>\n",
       "      <th>count</th>\n",
       "      <td>10328006</td>\n",
       "      <td>10328006</td>\n",
       "      <td>1.032801e+07</td>\n",
       "      <td>10328006</td>\n",
       "      <td>10328006</td>\n",
       "      <td>1.032773e+07</td>\n",
       "      <td>1.032773e+07</td>\n",
       "      <td>10327728</td>\n",
       "      <td>10327728</td>\n",
       "    </tr>\n",
       "    <tr>\n",
       "      <th>unique</th>\n",
       "      <td>99441</td>\n",
       "      <td>96096</td>\n",
       "      <td>NaN</td>\n",
       "      <td>4119</td>\n",
       "      <td>27</td>\n",
       "      <td>NaN</td>\n",
       "      <td>NaN</td>\n",
       "      <td>5812</td>\n",
       "      <td>27</td>\n",
       "    </tr>\n",
       "    <tr>\n",
       "      <th>top</th>\n",
       "      <td>b71d37b2430a0b3e0bb74cb6e7d52c3c</td>\n",
       "      <td>31d332d20895c5c0baefe55207a0fead</td>\n",
       "      <td>NaN</td>\n",
       "      <td>rio de janeiro</td>\n",
       "      <td>SP</td>\n",
       "      <td>NaN</td>\n",
       "      <td>NaN</td>\n",
       "      <td>rio de janeiro</td>\n",
       "      <td>SP</td>\n",
       "    </tr>\n",
       "    <tr>\n",
       "      <th>freq</th>\n",
       "      <td>779</td>\n",
       "      <td>2181</td>\n",
       "      <td>NaN</td>\n",
       "      <td>940474</td>\n",
       "      <td>3878942</td>\n",
       "      <td>NaN</td>\n",
       "      <td>NaN</td>\n",
       "      <td>940421</td>\n",
       "      <td>3878907</td>\n",
       "    </tr>\n",
       "    <tr>\n",
       "      <th>mean</th>\n",
       "      <td>NaN</td>\n",
       "      <td>NaN</td>\n",
       "      <td>3.428918e+04</td>\n",
       "      <td>NaN</td>\n",
       "      <td>NaN</td>\n",
       "      <td>-2.181000e+01</td>\n",
       "      <td>-4.612746e+01</td>\n",
       "      <td>NaN</td>\n",
       "      <td>NaN</td>\n",
       "    </tr>\n",
       "    <tr>\n",
       "      <th>std</th>\n",
       "      <td>NaN</td>\n",
       "      <td>NaN</td>\n",
       "      <td>2.741553e+04</td>\n",
       "      <td>NaN</td>\n",
       "      <td>NaN</td>\n",
       "      <td>4.464366e+00</td>\n",
       "      <td>3.644221e+00</td>\n",
       "      <td>NaN</td>\n",
       "      <td>NaN</td>\n",
       "    </tr>\n",
       "    <tr>\n",
       "      <th>min</th>\n",
       "      <td>NaN</td>\n",
       "      <td>NaN</td>\n",
       "      <td>1.003000e+03</td>\n",
       "      <td>NaN</td>\n",
       "      <td>NaN</td>\n",
       "      <td>-3.660537e+01</td>\n",
       "      <td>-1.014668e+02</td>\n",
       "      <td>NaN</td>\n",
       "      <td>NaN</td>\n",
       "    </tr>\n",
       "    <tr>\n",
       "      <th>25%</th>\n",
       "      <td>NaN</td>\n",
       "      <td>NaN</td>\n",
       "      <td>1.329000e+04</td>\n",
       "      <td>NaN</td>\n",
       "      <td>NaN</td>\n",
       "      <td>-2.357275e+01</td>\n",
       "      <td>-4.797750e+01</td>\n",
       "      <td>NaN</td>\n",
       "      <td>NaN</td>\n",
       "    </tr>\n",
       "    <tr>\n",
       "      <th>50%</th>\n",
       "      <td>NaN</td>\n",
       "      <td>NaN</td>\n",
       "      <td>2.625500e+04</td>\n",
       "      <td>NaN</td>\n",
       "      <td>NaN</td>\n",
       "      <td>-2.288202e+01</td>\n",
       "      <td>-4.651987e+01</td>\n",
       "      <td>NaN</td>\n",
       "      <td>NaN</td>\n",
       "    </tr>\n",
       "    <tr>\n",
       "      <th>75%</th>\n",
       "      <td>NaN</td>\n",
       "      <td>NaN</td>\n",
       "      <td>3.874000e+04</td>\n",
       "      <td>NaN</td>\n",
       "      <td>NaN</td>\n",
       "      <td>-2.026162e+01</td>\n",
       "      <td>-4.346700e+01</td>\n",
       "      <td>NaN</td>\n",
       "      <td>NaN</td>\n",
       "    </tr>\n",
       "    <tr>\n",
       "      <th>max</th>\n",
       "      <td>NaN</td>\n",
       "      <td>NaN</td>\n",
       "      <td>9.999000e+04</td>\n",
       "      <td>NaN</td>\n",
       "      <td>NaN</td>\n",
       "      <td>4.506593e+01</td>\n",
       "      <td>1.382021e+01</td>\n",
       "      <td>NaN</td>\n",
       "      <td>NaN</td>\n",
       "    </tr>\n",
       "  </tbody>\n",
       "</table>\n",
       "</div>"
      ],
      "text/plain": [
       "                             customer_id                customer_unique_id  \\\n",
       "count                           10328006                          10328006   \n",
       "unique                             99441                             96096   \n",
       "top     b71d37b2430a0b3e0bb74cb6e7d52c3c  31d332d20895c5c0baefe55207a0fead   \n",
       "freq                                 779                              2181   \n",
       "mean                                 NaN                               NaN   \n",
       "std                                  NaN                               NaN   \n",
       "min                                  NaN                               NaN   \n",
       "25%                                  NaN                               NaN   \n",
       "50%                                  NaN                               NaN   \n",
       "75%                                  NaN                               NaN   \n",
       "max                                  NaN                               NaN   \n",
       "\n",
       "        zip_code_prefix   customer_city customer_state  geolocation_lat  \\\n",
       "count      1.032801e+07        10328006       10328006     1.032773e+07   \n",
       "unique              NaN            4119             27              NaN   \n",
       "top                 NaN  rio de janeiro             SP              NaN   \n",
       "freq                NaN          940474        3878942              NaN   \n",
       "mean       3.428918e+04             NaN            NaN    -2.181000e+01   \n",
       "std        2.741553e+04             NaN            NaN     4.464366e+00   \n",
       "min        1.003000e+03             NaN            NaN    -3.660537e+01   \n",
       "25%        1.329000e+04             NaN            NaN    -2.357275e+01   \n",
       "50%        2.625500e+04             NaN            NaN    -2.288202e+01   \n",
       "75%        3.874000e+04             NaN            NaN    -2.026162e+01   \n",
       "max        9.999000e+04             NaN            NaN     4.506593e+01   \n",
       "\n",
       "        geolocation_lng geolocation_city geolocation_state  \n",
       "count      1.032773e+07         10327728          10327728  \n",
       "unique              NaN             5812                27  \n",
       "top                 NaN   rio de janeiro                SP  \n",
       "freq                NaN           940421           3878907  \n",
       "mean      -4.612746e+01              NaN               NaN  \n",
       "std        3.644221e+00              NaN               NaN  \n",
       "min       -1.014668e+02              NaN               NaN  \n",
       "25%       -4.797750e+01              NaN               NaN  \n",
       "50%       -4.651987e+01              NaN               NaN  \n",
       "75%       -4.346700e+01              NaN               NaN  \n",
       "max        1.382021e+01              NaN               NaN  "
      ]
     },
     "execution_count": 109,
     "metadata": {},
     "output_type": "execute_result"
    }
   ],
   "source": [
    "customers_df.describe(include='all')"
   ]
  },
  {
   "cell_type": "markdown",
   "metadata": {},
   "source": [
    "Dapat dilihat bahwa seharusnya customer_id dan customer_unique_id memiliki value yang sama antara count dan uniquenya. Artinya, terdapat customer_id yang memiliki id duplicate. Kita akan menyisakan 1 customer_id pada semua unique value."
   ]
  },
  {
   "cell_type": "code",
   "execution_count": 110,
   "metadata": {},
   "outputs": [],
   "source": [
    "drop_duplicates = customers_df.drop_duplicates('customer_id', keep='first')\n",
    "customers_df = pd.concat([ \n",
    "    drop_duplicates, customers_df[~customers_df.duplicated('customer_id', keep=False)]\n",
    "])\n",
    "customers_df = customers_df.reset_index(drop=True)"
   ]
  },
  {
   "cell_type": "code",
   "execution_count": 111,
   "metadata": {},
   "outputs": [],
   "source": [
    "customers_df = customers_df.drop_duplicates(subset='customer_id', keep='first').reset_index(drop=True)"
   ]
  },
  {
   "cell_type": "code",
   "execution_count": 112,
   "metadata": {},
   "outputs": [
    {
     "data": {
      "text/html": [
       "<div>\n",
       "<style scoped>\n",
       "    .dataframe tbody tr th:only-of-type {\n",
       "        vertical-align: middle;\n",
       "    }\n",
       "\n",
       "    .dataframe tbody tr th {\n",
       "        vertical-align: top;\n",
       "    }\n",
       "\n",
       "    .dataframe thead th {\n",
       "        text-align: right;\n",
       "    }\n",
       "</style>\n",
       "<table border=\"1\" class=\"dataframe\">\n",
       "  <thead>\n",
       "    <tr style=\"text-align: right;\">\n",
       "      <th></th>\n",
       "      <th>customer_id</th>\n",
       "      <th>customer_unique_id</th>\n",
       "      <th>zip_code_prefix</th>\n",
       "      <th>customer_city</th>\n",
       "      <th>customer_state</th>\n",
       "      <th>geolocation_lat</th>\n",
       "      <th>geolocation_lng</th>\n",
       "      <th>geolocation_city</th>\n",
       "      <th>geolocation_state</th>\n",
       "    </tr>\n",
       "  </thead>\n",
       "  <tbody>\n",
       "    <tr>\n",
       "      <th>count</th>\n",
       "      <td>99441</td>\n",
       "      <td>99441</td>\n",
       "      <td>99441.000000</td>\n",
       "      <td>99441</td>\n",
       "      <td>99441</td>\n",
       "      <td>99163.000000</td>\n",
       "      <td>99163.000000</td>\n",
       "      <td>99163</td>\n",
       "      <td>99163</td>\n",
       "    </tr>\n",
       "    <tr>\n",
       "      <th>unique</th>\n",
       "      <td>99441</td>\n",
       "      <td>96096</td>\n",
       "      <td>NaN</td>\n",
       "      <td>4119</td>\n",
       "      <td>27</td>\n",
       "      <td>NaN</td>\n",
       "      <td>NaN</td>\n",
       "      <td>4200</td>\n",
       "      <td>27</td>\n",
       "    </tr>\n",
       "    <tr>\n",
       "      <th>top</th>\n",
       "      <td>06b8999e2fba1a1fbc88172c00ba8bc7</td>\n",
       "      <td>8d50f5eadf50201ccdcedfb9e2ac8455</td>\n",
       "      <td>NaN</td>\n",
       "      <td>sao paulo</td>\n",
       "      <td>SP</td>\n",
       "      <td>NaN</td>\n",
       "      <td>NaN</td>\n",
       "      <td>sao paulo</td>\n",
       "      <td>SP</td>\n",
       "    </tr>\n",
       "    <tr>\n",
       "      <th>freq</th>\n",
       "      <td>1</td>\n",
       "      <td>17</td>\n",
       "      <td>NaN</td>\n",
       "      <td>15540</td>\n",
       "      <td>41746</td>\n",
       "      <td>NaN</td>\n",
       "      <td>NaN</td>\n",
       "      <td>13207</td>\n",
       "      <td>41731</td>\n",
       "    </tr>\n",
       "    <tr>\n",
       "      <th>mean</th>\n",
       "      <td>NaN</td>\n",
       "      <td>NaN</td>\n",
       "      <td>35137.474583</td>\n",
       "      <td>NaN</td>\n",
       "      <td>NaN</td>\n",
       "      <td>-21.192930</td>\n",
       "      <td>-46.176190</td>\n",
       "      <td>NaN</td>\n",
       "      <td>NaN</td>\n",
       "    </tr>\n",
       "    <tr>\n",
       "      <th>std</th>\n",
       "      <td>NaN</td>\n",
       "      <td>NaN</td>\n",
       "      <td>29797.938996</td>\n",
       "      <td>NaN</td>\n",
       "      <td>NaN</td>\n",
       "      <td>5.620584</td>\n",
       "      <td>4.066202</td>\n",
       "      <td>NaN</td>\n",
       "      <td>NaN</td>\n",
       "    </tr>\n",
       "    <tr>\n",
       "      <th>min</th>\n",
       "      <td>NaN</td>\n",
       "      <td>NaN</td>\n",
       "      <td>1003.000000</td>\n",
       "      <td>NaN</td>\n",
       "      <td>NaN</td>\n",
       "      <td>-36.605374</td>\n",
       "      <td>-72.666706</td>\n",
       "      <td>NaN</td>\n",
       "      <td>NaN</td>\n",
       "    </tr>\n",
       "    <tr>\n",
       "      <th>25%</th>\n",
       "      <td>NaN</td>\n",
       "      <td>NaN</td>\n",
       "      <td>11347.000000</td>\n",
       "      <td>NaN</td>\n",
       "      <td>NaN</td>\n",
       "      <td>-23.588296</td>\n",
       "      <td>-48.096342</td>\n",
       "      <td>NaN</td>\n",
       "      <td>NaN</td>\n",
       "    </tr>\n",
       "    <tr>\n",
       "      <th>50%</th>\n",
       "      <td>NaN</td>\n",
       "      <td>NaN</td>\n",
       "      <td>24416.000000</td>\n",
       "      <td>NaN</td>\n",
       "      <td>NaN</td>\n",
       "      <td>-22.926905</td>\n",
       "      <td>-46.630764</td>\n",
       "      <td>NaN</td>\n",
       "      <td>NaN</td>\n",
       "    </tr>\n",
       "    <tr>\n",
       "      <th>75%</th>\n",
       "      <td>NaN</td>\n",
       "      <td>NaN</td>\n",
       "      <td>58900.000000</td>\n",
       "      <td>NaN</td>\n",
       "      <td>NaN</td>\n",
       "      <td>-20.146615</td>\n",
       "      <td>-43.602775</td>\n",
       "      <td>NaN</td>\n",
       "      <td>NaN</td>\n",
       "    </tr>\n",
       "    <tr>\n",
       "      <th>max</th>\n",
       "      <td>NaN</td>\n",
       "      <td>NaN</td>\n",
       "      <td>99990.000000</td>\n",
       "      <td>NaN</td>\n",
       "      <td>NaN</td>\n",
       "      <td>42.184003</td>\n",
       "      <td>-8.577855</td>\n",
       "      <td>NaN</td>\n",
       "      <td>NaN</td>\n",
       "    </tr>\n",
       "  </tbody>\n",
       "</table>\n",
       "</div>"
      ],
      "text/plain": [
       "                             customer_id                customer_unique_id  \\\n",
       "count                              99441                             99441   \n",
       "unique                             99441                             96096   \n",
       "top     06b8999e2fba1a1fbc88172c00ba8bc7  8d50f5eadf50201ccdcedfb9e2ac8455   \n",
       "freq                                   1                                17   \n",
       "mean                                 NaN                               NaN   \n",
       "std                                  NaN                               NaN   \n",
       "min                                  NaN                               NaN   \n",
       "25%                                  NaN                               NaN   \n",
       "50%                                  NaN                               NaN   \n",
       "75%                                  NaN                               NaN   \n",
       "max                                  NaN                               NaN   \n",
       "\n",
       "        zip_code_prefix customer_city customer_state  geolocation_lat  \\\n",
       "count      99441.000000         99441          99441     99163.000000   \n",
       "unique              NaN          4119             27              NaN   \n",
       "top                 NaN     sao paulo             SP              NaN   \n",
       "freq                NaN         15540          41746              NaN   \n",
       "mean       35137.474583           NaN            NaN       -21.192930   \n",
       "std        29797.938996           NaN            NaN         5.620584   \n",
       "min         1003.000000           NaN            NaN       -36.605374   \n",
       "25%        11347.000000           NaN            NaN       -23.588296   \n",
       "50%        24416.000000           NaN            NaN       -22.926905   \n",
       "75%        58900.000000           NaN            NaN       -20.146615   \n",
       "max        99990.000000           NaN            NaN        42.184003   \n",
       "\n",
       "        geolocation_lng geolocation_city geolocation_state  \n",
       "count      99163.000000            99163             99163  \n",
       "unique              NaN             4200                27  \n",
       "top                 NaN        sao paulo                SP  \n",
       "freq                NaN            13207             41731  \n",
       "mean         -46.176190              NaN               NaN  \n",
       "std            4.066202              NaN               NaN  \n",
       "min          -72.666706              NaN               NaN  \n",
       "25%          -48.096342              NaN               NaN  \n",
       "50%          -46.630764              NaN               NaN  \n",
       "75%          -43.602775              NaN               NaN  \n",
       "max           -8.577855              NaN               NaN  "
      ]
     },
     "execution_count": 112,
     "metadata": {},
     "output_type": "execute_result"
    }
   ],
   "source": [
    "customers_df.describe(include='all')"
   ]
  },
  {
   "cell_type": "markdown",
   "metadata": {},
   "source": [
    "#### Menyatukan Dataset Sellers\n",
    "\n",
    "Mengubah kolom seller_zip_code_prefix terlebih dahulu, lalu menyatukannya."
   ]
  },
  {
   "cell_type": "code",
   "execution_count": 113,
   "metadata": {},
   "outputs": [],
   "source": [
    "sellers_df.rename(columns={'seller_zip_code_prefix': 'zip_code_prefix'}, inplace=True)"
   ]
  },
  {
   "cell_type": "code",
   "execution_count": 114,
   "metadata": {},
   "outputs": [],
   "source": [
    "sellers_df = pd.merge(\n",
    "    left=sellers_df,\n",
    "    right=geolocation_df,\n",
    "    how='left',\n",
    "    left_on='zip_code_prefix',\n",
    "    right_on='zip_code_prefix'\n",
    ")"
   ]
  },
  {
   "cell_type": "code",
   "execution_count": 115,
   "metadata": {},
   "outputs": [
    {
     "data": {
      "text/plain": [
       "seller_id            0\n",
       "zip_code_prefix      0\n",
       "seller_city          0\n",
       "seller_state         0\n",
       "geolocation_lat      7\n",
       "geolocation_lng      7\n",
       "geolocation_city     7\n",
       "geolocation_state    7\n",
       "dtype: int64"
      ]
     },
     "execution_count": 115,
     "metadata": {},
     "output_type": "execute_result"
    }
   ],
   "source": [
    "sellers_df.isna().sum()"
   ]
  },
  {
   "cell_type": "code",
   "execution_count": 116,
   "metadata": {},
   "outputs": [],
   "source": [
    "sellers_df.dropna(inplace=True)"
   ]
  },
  {
   "cell_type": "markdown",
   "metadata": {},
   "source": [
    "Pada dataset sellers juga terjadi hal yang sama, yaitu ada sellers id yang tidak unique. Mari kita cek."
   ]
  },
  {
   "cell_type": "code",
   "execution_count": 117,
   "metadata": {},
   "outputs": [
    {
     "data": {
      "text/html": [
       "<div>\n",
       "<style scoped>\n",
       "    .dataframe tbody tr th:only-of-type {\n",
       "        vertical-align: middle;\n",
       "    }\n",
       "\n",
       "    .dataframe tbody tr th {\n",
       "        vertical-align: top;\n",
       "    }\n",
       "\n",
       "    .dataframe thead th {\n",
       "        text-align: right;\n",
       "    }\n",
       "</style>\n",
       "<table border=\"1\" class=\"dataframe\">\n",
       "  <thead>\n",
       "    <tr style=\"text-align: right;\">\n",
       "      <th></th>\n",
       "      <th>seller_id</th>\n",
       "      <th>zip_code_prefix</th>\n",
       "      <th>seller_city</th>\n",
       "      <th>seller_state</th>\n",
       "      <th>geolocation_lat</th>\n",
       "      <th>geolocation_lng</th>\n",
       "      <th>geolocation_city</th>\n",
       "      <th>geolocation_state</th>\n",
       "    </tr>\n",
       "  </thead>\n",
       "  <tbody>\n",
       "    <tr>\n",
       "      <th>count</th>\n",
       "      <td>311789</td>\n",
       "      <td>311789.000000</td>\n",
       "      <td>311789</td>\n",
       "      <td>311789</td>\n",
       "      <td>311789.000000</td>\n",
       "      <td>311789.000000</td>\n",
       "      <td>311789</td>\n",
       "      <td>311789</td>\n",
       "    </tr>\n",
       "    <tr>\n",
       "      <th>unique</th>\n",
       "      <td>3088</td>\n",
       "      <td>NaN</td>\n",
       "      <td>611</td>\n",
       "      <td>23</td>\n",
       "      <td>NaN</td>\n",
       "      <td>NaN</td>\n",
       "      <td>794</td>\n",
       "      <td>22</td>\n",
       "    </tr>\n",
       "    <tr>\n",
       "      <th>top</th>\n",
       "      <td>0afccdb8a34ee5c79f7c06faf2b4d56e</td>\n",
       "      <td>NaN</td>\n",
       "      <td>sao paulo</td>\n",
       "      <td>SP</td>\n",
       "      <td>NaN</td>\n",
       "      <td>NaN</td>\n",
       "      <td>sao paulo</td>\n",
       "      <td>SP</td>\n",
       "    </tr>\n",
       "    <tr>\n",
       "      <th>freq</th>\n",
       "      <td>779</td>\n",
       "      <td>NaN</td>\n",
       "      <td>29032</td>\n",
       "      <td>171859</td>\n",
       "      <td>NaN</td>\n",
       "      <td>NaN</td>\n",
       "      <td>22372</td>\n",
       "      <td>168099</td>\n",
       "    </tr>\n",
       "    <tr>\n",
       "      <th>mean</th>\n",
       "      <td>NaN</td>\n",
       "      <td>33501.248136</td>\n",
       "      <td>NaN</td>\n",
       "      <td>NaN</td>\n",
       "      <td>-22.871844</td>\n",
       "      <td>-47.333297</td>\n",
       "      <td>NaN</td>\n",
       "      <td>NaN</td>\n",
       "    </tr>\n",
       "    <tr>\n",
       "      <th>std</th>\n",
       "      <td>NaN</td>\n",
       "      <td>30394.106560</td>\n",
       "      <td>NaN</td>\n",
       "      <td>NaN</td>\n",
       "      <td>2.840552</td>\n",
       "      <td>2.766167</td>\n",
       "      <td>NaN</td>\n",
       "      <td>NaN</td>\n",
       "    </tr>\n",
       "    <tr>\n",
       "      <th>min</th>\n",
       "      <td>NaN</td>\n",
       "      <td>1001.000000</td>\n",
       "      <td>NaN</td>\n",
       "      <td>NaN</td>\n",
       "      <td>-36.605374</td>\n",
       "      <td>-67.884719</td>\n",
       "      <td>NaN</td>\n",
       "      <td>NaN</td>\n",
       "    </tr>\n",
       "    <tr>\n",
       "      <th>25%</th>\n",
       "      <td>NaN</td>\n",
       "      <td>13160.000000</td>\n",
       "      <td>NaN</td>\n",
       "      <td>NaN</td>\n",
       "      <td>-23.644279</td>\n",
       "      <td>-48.848391</td>\n",
       "      <td>NaN</td>\n",
       "      <td>NaN</td>\n",
       "    </tr>\n",
       "    <tr>\n",
       "      <th>50%</th>\n",
       "      <td>NaN</td>\n",
       "      <td>17580.000000</td>\n",
       "      <td>NaN</td>\n",
       "      <td>NaN</td>\n",
       "      <td>-22.946903</td>\n",
       "      <td>-47.152262</td>\n",
       "      <td>NaN</td>\n",
       "      <td>NaN</td>\n",
       "    </tr>\n",
       "    <tr>\n",
       "      <th>75%</th>\n",
       "      <td>NaN</td>\n",
       "      <td>38405.000000</td>\n",
       "      <td>NaN</td>\n",
       "      <td>NaN</td>\n",
       "      <td>-21.602020</td>\n",
       "      <td>-46.410711</td>\n",
       "      <td>NaN</td>\n",
       "      <td>NaN</td>\n",
       "    </tr>\n",
       "    <tr>\n",
       "      <th>max</th>\n",
       "      <td>NaN</td>\n",
       "      <td>99730.000000</td>\n",
       "      <td>NaN</td>\n",
       "      <td>NaN</td>\n",
       "      <td>-2.484892</td>\n",
       "      <td>-34.847687</td>\n",
       "      <td>NaN</td>\n",
       "      <td>NaN</td>\n",
       "    </tr>\n",
       "  </tbody>\n",
       "</table>\n",
       "</div>"
      ],
      "text/plain": [
       "                               seller_id  zip_code_prefix seller_city  \\\n",
       "count                             311789    311789.000000      311789   \n",
       "unique                              3088              NaN         611   \n",
       "top     0afccdb8a34ee5c79f7c06faf2b4d56e              NaN   sao paulo   \n",
       "freq                                 779              NaN       29032   \n",
       "mean                                 NaN     33501.248136         NaN   \n",
       "std                                  NaN     30394.106560         NaN   \n",
       "min                                  NaN      1001.000000         NaN   \n",
       "25%                                  NaN     13160.000000         NaN   \n",
       "50%                                  NaN     17580.000000         NaN   \n",
       "75%                                  NaN     38405.000000         NaN   \n",
       "max                                  NaN     99730.000000         NaN   \n",
       "\n",
       "       seller_state  geolocation_lat  geolocation_lng geolocation_city  \\\n",
       "count        311789    311789.000000    311789.000000           311789   \n",
       "unique           23              NaN              NaN              794   \n",
       "top              SP              NaN              NaN        sao paulo   \n",
       "freq         171859              NaN              NaN            22372   \n",
       "mean            NaN       -22.871844       -47.333297              NaN   \n",
       "std             NaN         2.840552         2.766167              NaN   \n",
       "min             NaN       -36.605374       -67.884719              NaN   \n",
       "25%             NaN       -23.644279       -48.848391              NaN   \n",
       "50%             NaN       -22.946903       -47.152262              NaN   \n",
       "75%             NaN       -21.602020       -46.410711              NaN   \n",
       "max             NaN        -2.484892       -34.847687              NaN   \n",
       "\n",
       "       geolocation_state  \n",
       "count             311789  \n",
       "unique                22  \n",
       "top                   SP  \n",
       "freq              168099  \n",
       "mean                 NaN  \n",
       "std                  NaN  \n",
       "min                  NaN  \n",
       "25%                  NaN  \n",
       "50%                  NaN  \n",
       "75%                  NaN  \n",
       "max                  NaN  "
      ]
     },
     "execution_count": 117,
     "metadata": {},
     "output_type": "execute_result"
    }
   ],
   "source": [
    "sellers_df.describe(include='all')"
   ]
  },
  {
   "cell_type": "markdown",
   "metadata": {},
   "source": [
    "Kita akan menyatukan seller_id yang sama."
   ]
  },
  {
   "cell_type": "code",
   "execution_count": 118,
   "metadata": {},
   "outputs": [],
   "source": [
    "drop_duplicates = sellers_df.drop_duplicates('seller_id', keep='first')\n",
    "sellers_df = pd.concat([ \n",
    "    drop_duplicates, sellers_df[~sellers_df.duplicated('seller_id', keep=False)]\n",
    "])\n",
    "sellers_df = sellers_df.reset_index(drop=True)"
   ]
  },
  {
   "cell_type": "code",
   "execution_count": 119,
   "metadata": {},
   "outputs": [],
   "source": [
    "sellers_df = sellers_df.drop_duplicates(subset='seller_id', keep='first').reset_index(drop=True)"
   ]
  },
  {
   "cell_type": "code",
   "execution_count": 120,
   "metadata": {},
   "outputs": [
    {
     "data": {
      "text/html": [
       "<div>\n",
       "<style scoped>\n",
       "    .dataframe tbody tr th:only-of-type {\n",
       "        vertical-align: middle;\n",
       "    }\n",
       "\n",
       "    .dataframe tbody tr th {\n",
       "        vertical-align: top;\n",
       "    }\n",
       "\n",
       "    .dataframe thead th {\n",
       "        text-align: right;\n",
       "    }\n",
       "</style>\n",
       "<table border=\"1\" class=\"dataframe\">\n",
       "  <thead>\n",
       "    <tr style=\"text-align: right;\">\n",
       "      <th></th>\n",
       "      <th>seller_id</th>\n",
       "      <th>zip_code_prefix</th>\n",
       "      <th>seller_city</th>\n",
       "      <th>seller_state</th>\n",
       "      <th>geolocation_lat</th>\n",
       "      <th>geolocation_lng</th>\n",
       "      <th>geolocation_city</th>\n",
       "      <th>geolocation_state</th>\n",
       "    </tr>\n",
       "  </thead>\n",
       "  <tbody>\n",
       "    <tr>\n",
       "      <th>count</th>\n",
       "      <td>3088</td>\n",
       "      <td>3088.000000</td>\n",
       "      <td>3088</td>\n",
       "      <td>3088</td>\n",
       "      <td>3088.000000</td>\n",
       "      <td>3088.000000</td>\n",
       "      <td>3088</td>\n",
       "      <td>3088</td>\n",
       "    </tr>\n",
       "    <tr>\n",
       "      <th>unique</th>\n",
       "      <td>3088</td>\n",
       "      <td>NaN</td>\n",
       "      <td>611</td>\n",
       "      <td>23</td>\n",
       "      <td>NaN</td>\n",
       "      <td>NaN</td>\n",
       "      <td>595</td>\n",
       "      <td>22</td>\n",
       "    </tr>\n",
       "    <tr>\n",
       "      <th>top</th>\n",
       "      <td>3442f8959a84dea7ee197c632cb2df15</td>\n",
       "      <td>NaN</td>\n",
       "      <td>sao paulo</td>\n",
       "      <td>SP</td>\n",
       "      <td>NaN</td>\n",
       "      <td>NaN</td>\n",
       "      <td>sao paulo</td>\n",
       "      <td>SP</td>\n",
       "    </tr>\n",
       "    <tr>\n",
       "      <th>freq</th>\n",
       "      <td>1</td>\n",
       "      <td>NaN</td>\n",
       "      <td>693</td>\n",
       "      <td>1847</td>\n",
       "      <td>NaN</td>\n",
       "      <td>NaN</td>\n",
       "      <td>566</td>\n",
       "      <td>1814</td>\n",
       "    </tr>\n",
       "    <tr>\n",
       "      <th>mean</th>\n",
       "      <td>NaN</td>\n",
       "      <td>32245.904145</td>\n",
       "      <td>NaN</td>\n",
       "      <td>NaN</td>\n",
       "      <td>-23.052636</td>\n",
       "      <td>-47.369528</td>\n",
       "      <td>NaN</td>\n",
       "      <td>NaN</td>\n",
       "    </tr>\n",
       "    <tr>\n",
       "      <th>std</th>\n",
       "      <td>NaN</td>\n",
       "      <td>32697.325786</td>\n",
       "      <td>NaN</td>\n",
       "      <td>NaN</td>\n",
       "      <td>3.192324</td>\n",
       "      <td>2.833707</td>\n",
       "      <td>NaN</td>\n",
       "      <td>NaN</td>\n",
       "    </tr>\n",
       "    <tr>\n",
       "      <th>min</th>\n",
       "      <td>NaN</td>\n",
       "      <td>1001.000000</td>\n",
       "      <td>NaN</td>\n",
       "      <td>NaN</td>\n",
       "      <td>-36.605374</td>\n",
       "      <td>-67.809656</td>\n",
       "      <td>NaN</td>\n",
       "      <td>NaN</td>\n",
       "    </tr>\n",
       "    <tr>\n",
       "      <th>25%</th>\n",
       "      <td>NaN</td>\n",
       "      <td>7092.500000</td>\n",
       "      <td>NaN</td>\n",
       "      <td>NaN</td>\n",
       "      <td>-23.652529</td>\n",
       "      <td>-49.071508</td>\n",
       "      <td>NaN</td>\n",
       "      <td>NaN</td>\n",
       "    </tr>\n",
       "    <tr>\n",
       "      <th>50%</th>\n",
       "      <td>NaN</td>\n",
       "      <td>14940.000000</td>\n",
       "      <td>NaN</td>\n",
       "      <td>NaN</td>\n",
       "      <td>-23.488377</td>\n",
       "      <td>-46.796328</td>\n",
       "      <td>NaN</td>\n",
       "      <td>NaN</td>\n",
       "    </tr>\n",
       "    <tr>\n",
       "      <th>75%</th>\n",
       "      <td>NaN</td>\n",
       "      <td>63150.000000</td>\n",
       "      <td>NaN</td>\n",
       "      <td>NaN</td>\n",
       "      <td>-22.275718</td>\n",
       "      <td>-46.523298</td>\n",
       "      <td>NaN</td>\n",
       "      <td>NaN</td>\n",
       "    </tr>\n",
       "    <tr>\n",
       "      <th>max</th>\n",
       "      <td>NaN</td>\n",
       "      <td>99730.000000</td>\n",
       "      <td>NaN</td>\n",
       "      <td>NaN</td>\n",
       "      <td>-2.546079</td>\n",
       "      <td>-34.847856</td>\n",
       "      <td>NaN</td>\n",
       "      <td>NaN</td>\n",
       "    </tr>\n",
       "  </tbody>\n",
       "</table>\n",
       "</div>"
      ],
      "text/plain": [
       "                               seller_id  zip_code_prefix seller_city  \\\n",
       "count                               3088      3088.000000        3088   \n",
       "unique                              3088              NaN         611   \n",
       "top     3442f8959a84dea7ee197c632cb2df15              NaN   sao paulo   \n",
       "freq                                   1              NaN         693   \n",
       "mean                                 NaN     32245.904145         NaN   \n",
       "std                                  NaN     32697.325786         NaN   \n",
       "min                                  NaN      1001.000000         NaN   \n",
       "25%                                  NaN      7092.500000         NaN   \n",
       "50%                                  NaN     14940.000000         NaN   \n",
       "75%                                  NaN     63150.000000         NaN   \n",
       "max                                  NaN     99730.000000         NaN   \n",
       "\n",
       "       seller_state  geolocation_lat  geolocation_lng geolocation_city  \\\n",
       "count          3088      3088.000000      3088.000000             3088   \n",
       "unique           23              NaN              NaN              595   \n",
       "top              SP              NaN              NaN        sao paulo   \n",
       "freq           1847              NaN              NaN              566   \n",
       "mean            NaN       -23.052636       -47.369528              NaN   \n",
       "std             NaN         3.192324         2.833707              NaN   \n",
       "min             NaN       -36.605374       -67.809656              NaN   \n",
       "25%             NaN       -23.652529       -49.071508              NaN   \n",
       "50%             NaN       -23.488377       -46.796328              NaN   \n",
       "75%             NaN       -22.275718       -46.523298              NaN   \n",
       "max             NaN        -2.546079       -34.847856              NaN   \n",
       "\n",
       "       geolocation_state  \n",
       "count               3088  \n",
       "unique                22  \n",
       "top                   SP  \n",
       "freq                1814  \n",
       "mean                 NaN  \n",
       "std                  NaN  \n",
       "min                  NaN  \n",
       "25%                  NaN  \n",
       "50%                  NaN  \n",
       "75%                  NaN  \n",
       "max                  NaN  "
      ]
     },
     "execution_count": 120,
     "metadata": {},
     "output_type": "execute_result"
    }
   ],
   "source": [
    "sellers_df.describe(include='all')"
   ]
  },
  {
   "cell_type": "markdown",
   "metadata": {},
   "source": [
    "Data sudah di perbaiki. Lalu, selanjutnya adalah menggabungkan semua dataset"
   ]
  },
  {
   "cell_type": "markdown",
   "metadata": {},
   "source": [
    "#### Eksplorasi Semua Dataset"
   ]
  },
  {
   "cell_type": "markdown",
   "metadata": {},
   "source": [
    "##### Menggabungkan semua dataset"
   ]
  },
  {
   "cell_type": "code",
   "execution_count": 121,
   "metadata": {},
   "outputs": [
    {
     "name": "stdout",
     "output_type": "stream",
     "text": [
      "<class 'pandas.core.frame.DataFrame'>\n",
      "RangeIndex: 96052 entries, 0 to 96051\n",
      "Data columns (total 41 columns):\n",
      " #   Column                         Non-Null Count  Dtype         \n",
      "---  ------                         --------------  -----         \n",
      " 0   order_id                       96052 non-null  object        \n",
      " 1   customer_id                    96052 non-null  object        \n",
      " 2   order_status                   96052 non-null  object        \n",
      " 3   order_purchase_timestamp       96052 non-null  datetime64[ns]\n",
      " 4   order_approved_at              96052 non-null  datetime64[ns]\n",
      " 5   order_delivered_carrier_date   96052 non-null  datetime64[ns]\n",
      " 6   order_delivered_customer_date  96052 non-null  datetime64[ns]\n",
      " 7   order_estimated_delivery_date  96052 non-null  datetime64[ns]\n",
      " 8   qty_order                      96052 non-null  float64       \n",
      " 9   product_id                     96052 non-null  object        \n",
      " 10  seller_id                      96052 non-null  object        \n",
      " 11  price                          96052 non-null  float64       \n",
      " 12  freight_value                  96052 non-null  float64       \n",
      " 13  payment_sequential             96052 non-null  float64       \n",
      " 14  payment_type                   96052 non-null  object        \n",
      " 15  payment_installments           96052 non-null  float64       \n",
      " 16  payment_value                  96052 non-null  float64       \n",
      " 17  review_id                      96052 non-null  object        \n",
      " 18  review_score                   96052 non-null  float64       \n",
      " 19  product_category_name          96052 non-null  object        \n",
      " 20  product_category_name_english  96052 non-null  object        \n",
      " 21  apply_time                     96052 non-null  float64       \n",
      " 22  shipped_time                   96052 non-null  float64       \n",
      " 23  customer_gets_order            95468 non-null  float64       \n",
      " 24  estimated_range                95468 non-null  float64       \n",
      " 25  range_order                    96052 non-null  float64       \n",
      " 26  customer_unique_id             96052 non-null  object        \n",
      " 27  zip_code_prefix_x              96052 non-null  int64         \n",
      " 28  customer_city                  96052 non-null  object        \n",
      " 29  customer_state                 96052 non-null  object        \n",
      " 30  geolocation_lat_x              95786 non-null  float64       \n",
      " 31  geolocation_lng_x              95786 non-null  float64       \n",
      " 32  geolocation_city_x             95786 non-null  object        \n",
      " 33  geolocation_state_x            95786 non-null  object        \n",
      " 34  zip_code_prefix_y              95837 non-null  float64       \n",
      " 35  seller_city                    95837 non-null  object        \n",
      " 36  seller_state                   95837 non-null  object        \n",
      " 37  geolocation_lat_y              95837 non-null  float64       \n",
      " 38  geolocation_lng_y              95837 non-null  float64       \n",
      " 39  geolocation_city_y             95837 non-null  object        \n",
      " 40  geolocation_state_y            95837 non-null  object        \n",
      "dtypes: datetime64[ns](5), float64(17), int64(1), object(18)\n",
      "memory usage: 30.0+ MB\n"
     ]
    }
   ],
   "source": [
    "orders_products_customers_df = pd.merge(\n",
    "    left=orders_products_df,\n",
    "    right=customers_df,\n",
    "    how='left',\n",
    "    left_on='customer_id',\n",
    "    right_on='customer_id'\n",
    ")\n",
    "\n",
    "all_df = pd.merge(\n",
    "    left=orders_products_customers_df,\n",
    "    right=sellers_df,\n",
    "    how='left',\n",
    "    left_on='seller_id',\n",
    "    right_on='seller_id'\n",
    ")\n",
    "\n",
    "all_df.info()"
   ]
  },
  {
   "cell_type": "code",
   "execution_count": 122,
   "metadata": {},
   "outputs": [],
   "source": [
    "all_df.dropna(inplace=True)"
   ]
  },
  {
   "cell_type": "markdown",
   "metadata": {},
   "source": [
    "##### Melihat Penjualan Bulanan"
   ]
  },
  {
   "cell_type": "code",
   "execution_count": 123,
   "metadata": {},
   "outputs": [],
   "source": [
    "all_df.loc[:, 'month_year'] = all_df['order_purchase_timestamp'].dt.strftime('%Y-%m')\n",
    "monthly_salaries = all_df.groupby('month_year')['payment_value'].sum().reset_index()"
   ]
  },
  {
   "cell_type": "code",
   "execution_count": 124,
   "metadata": {},
   "outputs": [
    {
     "data": {
      "text/html": [
       "<div>\n",
       "<style scoped>\n",
       "    .dataframe tbody tr th:only-of-type {\n",
       "        vertical-align: middle;\n",
       "    }\n",
       "\n",
       "    .dataframe tbody tr th {\n",
       "        vertical-align: top;\n",
       "    }\n",
       "\n",
       "    .dataframe thead th {\n",
       "        text-align: right;\n",
       "    }\n",
       "</style>\n",
       "<table border=\"1\" class=\"dataframe\">\n",
       "  <thead>\n",
       "    <tr style=\"text-align: right;\">\n",
       "      <th></th>\n",
       "      <th>month_year</th>\n",
       "      <th>payment_value</th>\n",
       "    </tr>\n",
       "  </thead>\n",
       "  <tbody>\n",
       "    <tr>\n",
       "      <th>18</th>\n",
       "      <td>2018-04</td>\n",
       "      <td>1115553.30</td>\n",
       "    </tr>\n",
       "    <tr>\n",
       "      <th>13</th>\n",
       "      <td>2017-11</td>\n",
       "      <td>1113134.69</td>\n",
       "    </tr>\n",
       "    <tr>\n",
       "      <th>19</th>\n",
       "      <td>2018-05</td>\n",
       "      <td>1106925.21</td>\n",
       "    </tr>\n",
       "    <tr>\n",
       "      <th>17</th>\n",
       "      <td>2018-03</td>\n",
       "      <td>1086877.19</td>\n",
       "    </tr>\n",
       "    <tr>\n",
       "      <th>15</th>\n",
       "      <td>2018-01</td>\n",
       "      <td>1033831.77</td>\n",
       "    </tr>\n",
       "    <tr>\n",
       "      <th>21</th>\n",
       "      <td>2018-07</td>\n",
       "      <td>998786.11</td>\n",
       "    </tr>\n",
       "    <tr>\n",
       "      <th>20</th>\n",
       "      <td>2018-06</td>\n",
       "      <td>988655.20</td>\n",
       "    </tr>\n",
       "    <tr>\n",
       "      <th>22</th>\n",
       "      <td>2018-08</td>\n",
       "      <td>966948.27</td>\n",
       "    </tr>\n",
       "    <tr>\n",
       "      <th>16</th>\n",
       "      <td>2018-02</td>\n",
       "      <td>938625.79</td>\n",
       "    </tr>\n",
       "    <tr>\n",
       "      <th>14</th>\n",
       "      <td>2017-12</td>\n",
       "      <td>804758.63</td>\n",
       "    </tr>\n",
       "    <tr>\n",
       "      <th>12</th>\n",
       "      <td>2017-10</td>\n",
       "      <td>712257.30</td>\n",
       "    </tr>\n",
       "    <tr>\n",
       "      <th>11</th>\n",
       "      <td>2017-09</td>\n",
       "      <td>677254.07</td>\n",
       "    </tr>\n",
       "    <tr>\n",
       "      <th>10</th>\n",
       "      <td>2017-08</td>\n",
       "      <td>624079.92</td>\n",
       "    </tr>\n",
       "    <tr>\n",
       "      <th>9</th>\n",
       "      <td>2017-07</td>\n",
       "      <td>548468.11</td>\n",
       "    </tr>\n",
       "    <tr>\n",
       "      <th>7</th>\n",
       "      <td>2017-05</td>\n",
       "      <td>541798.13</td>\n",
       "    </tr>\n",
       "    <tr>\n",
       "      <th>8</th>\n",
       "      <td>2017-06</td>\n",
       "      <td>475461.18</td>\n",
       "    </tr>\n",
       "    <tr>\n",
       "      <th>5</th>\n",
       "      <td>2017-03</td>\n",
       "      <td>398338.84</td>\n",
       "    </tr>\n",
       "    <tr>\n",
       "      <th>6</th>\n",
       "      <td>2017-04</td>\n",
       "      <td>371181.46</td>\n",
       "    </tr>\n",
       "    <tr>\n",
       "      <th>4</th>\n",
       "      <td>2017-02</td>\n",
       "      <td>259752.00</td>\n",
       "    </tr>\n",
       "    <tr>\n",
       "      <th>3</th>\n",
       "      <td>2017-01</td>\n",
       "      <td>124701.36</td>\n",
       "    </tr>\n",
       "    <tr>\n",
       "      <th>1</th>\n",
       "      <td>2016-10</td>\n",
       "      <td>45900.75</td>\n",
       "    </tr>\n",
       "    <tr>\n",
       "      <th>23</th>\n",
       "      <td>2018-09</td>\n",
       "      <td>166.46</td>\n",
       "    </tr>\n",
       "    <tr>\n",
       "      <th>0</th>\n",
       "      <td>2016-09</td>\n",
       "      <td>136.23</td>\n",
       "    </tr>\n",
       "    <tr>\n",
       "      <th>2</th>\n",
       "      <td>2016-12</td>\n",
       "      <td>19.62</td>\n",
       "    </tr>\n",
       "  </tbody>\n",
       "</table>\n",
       "</div>"
      ],
      "text/plain": [
       "   month_year  payment_value\n",
       "18    2018-04     1115553.30\n",
       "13    2017-11     1113134.69\n",
       "19    2018-05     1106925.21\n",
       "17    2018-03     1086877.19\n",
       "15    2018-01     1033831.77\n",
       "21    2018-07      998786.11\n",
       "20    2018-06      988655.20\n",
       "22    2018-08      966948.27\n",
       "16    2018-02      938625.79\n",
       "14    2017-12      804758.63\n",
       "12    2017-10      712257.30\n",
       "11    2017-09      677254.07\n",
       "10    2017-08      624079.92\n",
       "9     2017-07      548468.11\n",
       "7     2017-05      541798.13\n",
       "8     2017-06      475461.18\n",
       "5     2017-03      398338.84\n",
       "6     2017-04      371181.46\n",
       "4     2017-02      259752.00\n",
       "3     2017-01      124701.36\n",
       "1     2016-10       45900.75\n",
       "23    2018-09         166.46\n",
       "0     2016-09         136.23\n",
       "2     2016-12          19.62"
      ]
     },
     "execution_count": 124,
     "metadata": {},
     "output_type": "execute_result"
    }
   ],
   "source": [
    "monthly_salaries.sort_values(by='payment_value', ascending=False)"
   ]
  },
  {
   "cell_type": "markdown",
   "metadata": {},
   "source": [
    "Dapat dilihat bahwa penjualan dengan revenue terbesar berada pada bulan April 2018, yaitu sebesar 1.115.553,30 Dollar, dan yang memiliki revenue terkecil berada pada bulan Desember 2016, yaitu sebesar 19,62 Dollar."
   ]
  },
  {
   "cell_type": "markdown",
   "metadata": {},
   "source": [
    "##### Melihat top 5 category product terlaris dan tidak terlaris"
   ]
  },
  {
   "cell_type": "code",
   "execution_count": 125,
   "metadata": {},
   "outputs": [
    {
     "data": {
      "text/html": [
       "<div>\n",
       "<style scoped>\n",
       "    .dataframe tbody tr th:only-of-type {\n",
       "        vertical-align: middle;\n",
       "    }\n",
       "\n",
       "    .dataframe tbody tr th {\n",
       "        vertical-align: top;\n",
       "    }\n",
       "\n",
       "    .dataframe thead tr th {\n",
       "        text-align: left;\n",
       "    }\n",
       "</style>\n",
       "<table border=\"1\" class=\"dataframe\">\n",
       "  <thead>\n",
       "    <tr>\n",
       "      <th></th>\n",
       "      <th>product_category_name_english</th>\n",
       "      <th>product_id</th>\n",
       "      <th>qty_order</th>\n",
       "      <th colspan=\"2\" halign=\"left\">payment_value</th>\n",
       "    </tr>\n",
       "    <tr>\n",
       "      <th></th>\n",
       "      <th></th>\n",
       "      <th>nunique</th>\n",
       "      <th>sum</th>\n",
       "      <th>min</th>\n",
       "      <th>max</th>\n",
       "    </tr>\n",
       "  </thead>\n",
       "  <tbody>\n",
       "    <tr>\n",
       "      <th>0</th>\n",
       "      <td>agro_industry_and_commerce</td>\n",
       "      <td>74</td>\n",
       "      <td>211.0</td>\n",
       "      <td>9.34</td>\n",
       "      <td>6081.54</td>\n",
       "    </tr>\n",
       "    <tr>\n",
       "      <th>1</th>\n",
       "      <td>air_conditioning</td>\n",
       "      <td>121</td>\n",
       "      <td>289.0</td>\n",
       "      <td>26.00</td>\n",
       "      <td>1642.54</td>\n",
       "    </tr>\n",
       "    <tr>\n",
       "      <th>2</th>\n",
       "      <td>art</td>\n",
       "      <td>50</td>\n",
       "      <td>199.0</td>\n",
       "      <td>5.54</td>\n",
       "      <td>6726.66</td>\n",
       "    </tr>\n",
       "    <tr>\n",
       "      <th>3</th>\n",
       "      <td>arts_and_craftmanship</td>\n",
       "      <td>17</td>\n",
       "      <td>24.0</td>\n",
       "      <td>23.88</td>\n",
       "      <td>314.32</td>\n",
       "    </tr>\n",
       "    <tr>\n",
       "      <th>4</th>\n",
       "      <td>audio</td>\n",
       "      <td>57</td>\n",
       "      <td>360.0</td>\n",
       "      <td>4.05</td>\n",
       "      <td>636.98</td>\n",
       "    </tr>\n",
       "    <tr>\n",
       "      <th>...</th>\n",
       "      <td>...</td>\n",
       "      <td>...</td>\n",
       "      <td>...</td>\n",
       "      <td>...</td>\n",
       "      <td>...</td>\n",
       "    </tr>\n",
       "    <tr>\n",
       "      <th>66</th>\n",
       "      <td>stationery</td>\n",
       "      <td>798</td>\n",
       "      <td>2466.0</td>\n",
       "      <td>2.31</td>\n",
       "      <td>1784.20</td>\n",
       "    </tr>\n",
       "    <tr>\n",
       "      <th>67</th>\n",
       "      <td>tablets_printing_image</td>\n",
       "      <td>8</td>\n",
       "      <td>82.0</td>\n",
       "      <td>10.70</td>\n",
       "      <td>408.56</td>\n",
       "    </tr>\n",
       "    <tr>\n",
       "      <th>68</th>\n",
       "      <td>telephony</td>\n",
       "      <td>1090</td>\n",
       "      <td>4443.0</td>\n",
       "      <td>0.01</td>\n",
       "      <td>2457.44</td>\n",
       "    </tr>\n",
       "    <tr>\n",
       "      <th>69</th>\n",
       "      <td>toys</td>\n",
       "      <td>1332</td>\n",
       "      <td>3993.0</td>\n",
       "      <td>0.01</td>\n",
       "      <td>1782.55</td>\n",
       "    </tr>\n",
       "    <tr>\n",
       "      <th>70</th>\n",
       "      <td>watches_gifts</td>\n",
       "      <td>1286</td>\n",
       "      <td>5862.0</td>\n",
       "      <td>0.27</td>\n",
       "      <td>4445.50</td>\n",
       "    </tr>\n",
       "  </tbody>\n",
       "</table>\n",
       "<p>71 rows × 5 columns</p>\n",
       "</div>"
      ],
      "text/plain": [
       "   product_category_name_english product_id qty_order payment_value         \n",
       "                                    nunique       sum           min      max\n",
       "0     agro_industry_and_commerce         74     211.0          9.34  6081.54\n",
       "1               air_conditioning        121     289.0         26.00  1642.54\n",
       "2                            art         50     199.0          5.54  6726.66\n",
       "3          arts_and_craftmanship         17      24.0         23.88   314.32\n",
       "4                          audio         57     360.0          4.05   636.98\n",
       "..                           ...        ...       ...           ...      ...\n",
       "66                    stationery        798    2466.0          2.31  1784.20\n",
       "67        tablets_printing_image          8      82.0         10.70   408.56\n",
       "68                     telephony       1090    4443.0          0.01  2457.44\n",
       "69                          toys       1332    3993.0          0.01  1782.55\n",
       "70                 watches_gifts       1286    5862.0          0.27  4445.50\n",
       "\n",
       "[71 rows x 5 columns]"
      ]
     },
     "execution_count": 125,
     "metadata": {},
     "output_type": "execute_result"
    }
   ],
   "source": [
    "product_category = all_df.groupby(by='product_category_name_english').agg({\n",
    "    'product_id': 'nunique',\n",
    "    'qty_order': 'sum',\n",
    "    'payment_value': ['min', 'max']\n",
    "})\n",
    "product_category.reset_index()"
   ]
  },
  {
   "cell_type": "code",
   "execution_count": 126,
   "metadata": {},
   "outputs": [
    {
     "data": {
      "text/html": [
       "<div>\n",
       "<style scoped>\n",
       "    .dataframe tbody tr th:only-of-type {\n",
       "        vertical-align: middle;\n",
       "    }\n",
       "\n",
       "    .dataframe tbody tr th {\n",
       "        vertical-align: top;\n",
       "    }\n",
       "\n",
       "    .dataframe thead tr th {\n",
       "        text-align: left;\n",
       "    }\n",
       "\n",
       "    .dataframe thead tr:last-of-type th {\n",
       "        text-align: right;\n",
       "    }\n",
       "</style>\n",
       "<table border=\"1\" class=\"dataframe\">\n",
       "  <thead>\n",
       "    <tr>\n",
       "      <th></th>\n",
       "      <th>product_id</th>\n",
       "      <th>qty_order</th>\n",
       "      <th colspan=\"2\" halign=\"left\">payment_value</th>\n",
       "    </tr>\n",
       "    <tr>\n",
       "      <th></th>\n",
       "      <th>nunique</th>\n",
       "      <th>sum</th>\n",
       "      <th>min</th>\n",
       "      <th>max</th>\n",
       "    </tr>\n",
       "    <tr>\n",
       "      <th>product_category_name_english</th>\n",
       "      <th></th>\n",
       "      <th></th>\n",
       "      <th></th>\n",
       "      <th></th>\n",
       "    </tr>\n",
       "  </thead>\n",
       "  <tbody>\n",
       "    <tr>\n",
       "      <th>bed_bath_table</th>\n",
       "      <td>2799</td>\n",
       "      <td>10935.0</td>\n",
       "      <td>0.01</td>\n",
       "      <td>2225.69</td>\n",
       "    </tr>\n",
       "    <tr>\n",
       "      <th>health_beauty</th>\n",
       "      <td>2347</td>\n",
       "      <td>9476.0</td>\n",
       "      <td>0.03</td>\n",
       "      <td>2938.17</td>\n",
       "    </tr>\n",
       "    <tr>\n",
       "      <th>sports_leisure</th>\n",
       "      <td>2757</td>\n",
       "      <td>8467.0</td>\n",
       "      <td>0.09</td>\n",
       "      <td>4163.51</td>\n",
       "    </tr>\n",
       "    <tr>\n",
       "      <th>furniture_decor</th>\n",
       "      <td>2422</td>\n",
       "      <td>8107.0</td>\n",
       "      <td>0.01</td>\n",
       "      <td>2276.10</td>\n",
       "    </tr>\n",
       "    <tr>\n",
       "      <th>computers_accessories</th>\n",
       "      <td>1566</td>\n",
       "      <td>7668.0</td>\n",
       "      <td>1.05</td>\n",
       "      <td>3736.22</td>\n",
       "    </tr>\n",
       "  </tbody>\n",
       "</table>\n",
       "</div>"
      ],
      "text/plain": [
       "                              product_id qty_order payment_value         \n",
       "                                 nunique       sum           min      max\n",
       "product_category_name_english                                            \n",
       "bed_bath_table                      2799   10935.0          0.01  2225.69\n",
       "health_beauty                       2347    9476.0          0.03  2938.17\n",
       "sports_leisure                      2757    8467.0          0.09  4163.51\n",
       "furniture_decor                     2422    8107.0          0.01  2276.10\n",
       "computers_accessories               1566    7668.0          1.05  3736.22"
      ]
     },
     "execution_count": 126,
     "metadata": {},
     "output_type": "execute_result"
    }
   ],
   "source": [
    "most_purchases = product_category.sort_values(by=('qty_order', 'sum'), ascending=False)\n",
    "most_purchases.head(5)"
   ]
  },
  {
   "cell_type": "markdown",
   "metadata": {},
   "source": [
    "Dapat dilihat bahwa 5 product dengan category yang paling banyak terjual adalah bed_bath_table, health_beauty_sports_leisure, furniture_decor, dan computers_accessories."
   ]
  },
  {
   "cell_type": "code",
   "execution_count": 127,
   "metadata": {},
   "outputs": [
    {
     "data": {
      "text/html": [
       "<div>\n",
       "<style scoped>\n",
       "    .dataframe tbody tr th:only-of-type {\n",
       "        vertical-align: middle;\n",
       "    }\n",
       "\n",
       "    .dataframe tbody tr th {\n",
       "        vertical-align: top;\n",
       "    }\n",
       "\n",
       "    .dataframe thead tr th {\n",
       "        text-align: left;\n",
       "    }\n",
       "\n",
       "    .dataframe thead tr:last-of-type th {\n",
       "        text-align: right;\n",
       "    }\n",
       "</style>\n",
       "<table border=\"1\" class=\"dataframe\">\n",
       "  <thead>\n",
       "    <tr>\n",
       "      <th></th>\n",
       "      <th>product_id</th>\n",
       "      <th>qty_order</th>\n",
       "      <th colspan=\"2\" halign=\"left\">payment_value</th>\n",
       "    </tr>\n",
       "    <tr>\n",
       "      <th></th>\n",
       "      <th>nunique</th>\n",
       "      <th>sum</th>\n",
       "      <th>min</th>\n",
       "      <th>max</th>\n",
       "    </tr>\n",
       "    <tr>\n",
       "      <th>product_category_name_english</th>\n",
       "      <th></th>\n",
       "      <th></th>\n",
       "      <th></th>\n",
       "      <th></th>\n",
       "    </tr>\n",
       "  </thead>\n",
       "  <tbody>\n",
       "    <tr>\n",
       "      <th>security_and_services</th>\n",
       "      <td>2</td>\n",
       "      <td>2.0</td>\n",
       "      <td>115.45</td>\n",
       "      <td>209.06</td>\n",
       "    </tr>\n",
       "    <tr>\n",
       "      <th>fashion_childrens_clothes</th>\n",
       "      <td>4</td>\n",
       "      <td>5.0</td>\n",
       "      <td>54.09</td>\n",
       "      <td>124.52</td>\n",
       "    </tr>\n",
       "    <tr>\n",
       "      <th>la_cuisine</th>\n",
       "      <td>10</td>\n",
       "      <td>14.0</td>\n",
       "      <td>47.15</td>\n",
       "      <td>426.70</td>\n",
       "    </tr>\n",
       "    <tr>\n",
       "      <th>cds_dvds_musicals</th>\n",
       "      <td>1</td>\n",
       "      <td>14.0</td>\n",
       "      <td>54.94</td>\n",
       "      <td>122.22</td>\n",
       "    </tr>\n",
       "    <tr>\n",
       "      <th>arts_and_craftmanship</th>\n",
       "      <td>17</td>\n",
       "      <td>24.0</td>\n",
       "      <td>23.88</td>\n",
       "      <td>314.32</td>\n",
       "    </tr>\n",
       "  </tbody>\n",
       "</table>\n",
       "</div>"
      ],
      "text/plain": [
       "                              product_id qty_order payment_value        \n",
       "                                 nunique       sum           min     max\n",
       "product_category_name_english                                           \n",
       "security_and_services                  2       2.0        115.45  209.06\n",
       "fashion_childrens_clothes              4       5.0         54.09  124.52\n",
       "la_cuisine                            10      14.0         47.15  426.70\n",
       "cds_dvds_musicals                      1      14.0         54.94  122.22\n",
       "arts_and_craftmanship                 17      24.0         23.88  314.32"
      ]
     },
     "execution_count": 127,
     "metadata": {},
     "output_type": "execute_result"
    }
   ],
   "source": [
    "least_purchases = product_category.sort_values(by=('qty_order', 'sum'), ascending=True)\n",
    "least_purchases.head(5)"
   ]
  },
  {
   "cell_type": "markdown",
   "metadata": {},
   "source": [
    "Untuk product dengan category paling sedikit adalah security_and_services, fashion_childrens_clothes, la_cuisine, cds_dvds_musicals, dan art_and_craftmanship."
   ]
  },
  {
   "cell_type": "markdown",
   "metadata": {
    "id": "zsyZjqak8DC2"
   },
   "source": [
    "## Visualization & Explanatory Analysis"
   ]
  },
  {
   "cell_type": "markdown",
   "metadata": {
    "id": "HZxOiQ6n8DC2"
   },
   "source": [
    "### Pertanyaan 1: Produk dengan category apa yang paling sedikit dan paling banyak terjual?"
   ]
  },
  {
   "cell_type": "code",
   "execution_count": 128,
   "metadata": {},
   "outputs": [],
   "source": [
    "products_visualization = all_df.groupby('product_category_name_english')['qty_order'].sum().reset_index()"
   ]
  },
  {
   "cell_type": "code",
   "execution_count": 129,
   "metadata": {},
   "outputs": [],
   "source": [
    "bottom = products_visualization.sort_values(by='qty_order', ascending=True).head(5)"
   ]
  },
  {
   "cell_type": "code",
   "execution_count": 130,
   "metadata": {
    "id": "y1VxE3lTPgKv"
   },
   "outputs": [
    {
     "data": {
      "image/png": "[encoded data removed]",
      "text/plain": [
       "<Figure size 1600x1200 with 2 Axes>"
      ]
     },
     "metadata": {},
     "output_type": "display_data"
    }
   ],
   "source": [
    "fig, ax = plt.subplots(nrows=2, ncols=1, figsize=(16,12))\n",
    "\n",
    "colors = [\"#72BCD4\", \"#D3D3D3\", \"#D3D3D3\", \"#D3D3D3\", \"#D3D3D3\"]\n",
    "\n",
    "sns.barplot(x='qty_order', y='product_category_name_english', data=products_visualization.sort_values(by='qty_order', ascending=False).head(5), hue='product_category_name_english', palette=colors, ax=ax[0])\n",
    "ax[0].set_xlabel('Total Quantity Orders')\n",
    "ax[0].set_ylabel('Category Product Name')\n",
    "ax[0].set_title('Top 5 Kategori Penjualan Product Terbaik', loc='center', fontsize=15)\n",
    "ax[0].tick_params(axis='y', labelsize=12)\n",
    "\n",
    "sns.barplot(x='qty_order', y='product_category_name_english', data=bottom.head(5), hue='product_category_name_english', palette=colors, ax=ax[1])\n",
    "ax[1].set_xlabel('Total Quantity Orders')\n",
    "ax[1].set_ylabel('Category Product Name')\n",
    "ax[1].set_title('Top 5 Kategori Penjualan Product Terburuk', loc='center', fontsize=15)\n",
    "ax[1].tick_params(axis='y', labelsize=12)\n",
    "\n",
    "plt.suptitle('Top 5 Kategori Penjualan Product Terbaik dan Terburuk Berdasarkan Quantity Order', fontsize=20)\n",
    "plt.show()"
   ]
  },
  {
   "cell_type": "markdown",
   "metadata": {
    "id": "1swJUdAD8DC2"
   },
   "source": [
    "Dapat dilihat bahwa 5 product dengan category yang paling banyak terjual adalah bed_bath_table, health_beauty_sports_leisure, furniture_decor, dan computers_accessories. \n",
    "\n",
    "Untuk product dengan category paling sedikit adalah security_and_services, fashion_childrens_clothes, la_cuisine, cds_dvds_musicals, dan art_and_craftmanship."
   ]
  },
  {
   "cell_type": "markdown",
   "metadata": {
    "id": "DgHI7CiU8DC2"
   },
   "source": [
    "### Pertanyaan 2: Bagaimana performa penjualan tiap bulannya?"
   ]
  },
  {
   "cell_type": "code",
   "execution_count": 131,
   "metadata": {},
   "outputs": [
    {
     "name": "stdout",
     "output_type": "stream",
     "text": [
      "<class 'pandas.core.frame.DataFrame'>\n",
      "Index: 94991 entries, 0 to 96051\n",
      "Data columns (total 42 columns):\n",
      " #   Column                         Non-Null Count  Dtype         \n",
      "---  ------                         --------------  -----         \n",
      " 0   order_id                       94991 non-null  object        \n",
      " 1   customer_id                    94991 non-null  object        \n",
      " 2   order_status                   94991 non-null  object        \n",
      " 3   order_purchase_timestamp       94991 non-null  datetime64[ns]\n",
      " 4   order_approved_at              94991 non-null  datetime64[ns]\n",
      " 5   order_delivered_carrier_date   94991 non-null  datetime64[ns]\n",
      " 6   order_delivered_customer_date  94991 non-null  datetime64[ns]\n",
      " 7   order_estimated_delivery_date  94991 non-null  datetime64[ns]\n",
      " 8   qty_order                      94991 non-null  float64       \n",
      " 9   product_id                     94991 non-null  object        \n",
      " 10  seller_id                      94991 non-null  object        \n",
      " 11  price                          94991 non-null  float64       \n",
      " 12  freight_value                  94991 non-null  float64       \n",
      " 13  payment_sequential             94991 non-null  float64       \n",
      " 14  payment_type                   94991 non-null  object        \n",
      " 15  payment_installments           94991 non-null  float64       \n",
      " 16  payment_value                  94991 non-null  float64       \n",
      " 17  review_id                      94991 non-null  object        \n",
      " 18  review_score                   94991 non-null  float64       \n",
      " 19  product_category_name          94991 non-null  object        \n",
      " 20  product_category_name_english  94991 non-null  object        \n",
      " 21  apply_time                     94991 non-null  float64       \n",
      " 22  shipped_time                   94991 non-null  float64       \n",
      " 23  customer_gets_order            94991 non-null  float64       \n",
      " 24  estimated_range                94991 non-null  float64       \n",
      " 25  range_order                    94991 non-null  float64       \n",
      " 26  customer_unique_id             94991 non-null  object        \n",
      " 27  zip_code_prefix_x              94991 non-null  int64         \n",
      " 28  customer_city                  94991 non-null  object        \n",
      " 29  customer_state                 94991 non-null  object        \n",
      " 30  geolocation_lat_x              94991 non-null  float64       \n",
      " 31  geolocation_lng_x              94991 non-null  float64       \n",
      " 32  geolocation_city_x             94991 non-null  object        \n",
      " 33  geolocation_state_x            94991 non-null  object        \n",
      " 34  zip_code_prefix_y              94991 non-null  float64       \n",
      " 35  seller_city                    94991 non-null  object        \n",
      " 36  seller_state                   94991 non-null  object        \n",
      " 37  geolocation_lat_y              94991 non-null  float64       \n",
      " 38  geolocation_lng_y              94991 non-null  float64       \n",
      " 39  geolocation_city_y             94991 non-null  object        \n",
      " 40  geolocation_state_y            94991 non-null  object        \n",
      " 41  month_year                     94991 non-null  object        \n",
      "dtypes: datetime64[ns](5), float64(17), int64(1), object(19)\n",
      "memory usage: 31.2+ MB\n"
     ]
    }
   ],
   "source": [
    "all_df.info()"
   ]
  },
  {
   "cell_type": "code",
   "execution_count": 132,
   "metadata": {
    "id": "Go0lCsvO8DC2"
   },
   "outputs": [
    {
     "data": {
      "image/png": "[encoded data removed]",
      "text/plain": [
       "<Figure size 1200x600 with 1 Axes>"
      ]
     },
     "metadata": {},
     "output_type": "display_data"
    }
   ],
   "source": [
    "monthly_sales = all_df.groupby('month_year')['payment_value'].sum().reset_index()\n",
    "\n",
    "fig = plt.figure(figsize=(12, 6))\n",
    "sns.lineplot(data=monthly_sales, x=\"month_year\", y=\"payment_value\")\n",
    "plt.xticks(rotation=45)\n",
    "plt.ylabel(\"Total Payment Value\")\n",
    "plt.title(\"Volume Penjualan tiap bulan & tahun\")\n",
    "plt.show()"
   ]
  },
  {
   "cell_type": "markdown",
   "metadata": {},
   "source": [
    "Berdasarkan grafik tersebut, kita mendapatkan kesimpulan bahwa:\n",
    "1. Grafik dimulai pada September 2016 sampai September 2018.\n",
    "2. Adanya peningkatan pada bulan Oktober 2016, Januari 2017, Februari 2017, Maret 2017, Mei 2017, Juli 2017, Agustus 2017, September 2017, Oktober 2017, November 2017, Januari 2018, Maret 2018, April 2018, dan Juli 2018.\n",
    "3. Adanya penurunan pada bulan Desember 2016, April 2017, Juni 2017, Desember 2017, Februari 2018, Mei 2018, Juni 2018, Agustus 2018, dan September 2018.\n",
    "4. Peningkatan signifikan pada bulan November 2017, dan peningkatan yang konsisten pada bulan Januari 2017 sampai bulan Maret 2017.\n",
    "5. Penurunan drastis berada pada September 2018. Hal ini dikarenakan bahwa kemungkinan data belum selesai di rekap dan masih dalam proses pembuatan rekapan September 2018."
   ]
  },
  {
   "cell_type": "markdown",
   "metadata": {},
   "source": [
    "### Pertanyaan 3 (RFM Analysis):"
   ]
  },
  {
   "cell_type": "code",
   "execution_count": 133,
   "metadata": {},
   "outputs": [
    {
     "data": {
      "text/html": [
       "<div>\n",
       "<style scoped>\n",
       "    .dataframe tbody tr th:only-of-type {\n",
       "        vertical-align: middle;\n",
       "    }\n",
       "\n",
       "    .dataframe tbody tr th {\n",
       "        vertical-align: top;\n",
       "    }\n",
       "\n",
       "    .dataframe thead th {\n",
       "        text-align: right;\n",
       "    }\n",
       "</style>\n",
       "<table border=\"1\" class=\"dataframe\">\n",
       "  <thead>\n",
       "    <tr style=\"text-align: right;\">\n",
       "      <th></th>\n",
       "      <th>customer_id</th>\n",
       "      <th>recency</th>\n",
       "      <th>frequency</th>\n",
       "      <th>monetary</th>\n",
       "    </tr>\n",
       "  </thead>\n",
       "  <tbody>\n",
       "    <tr>\n",
       "      <th>0</th>\n",
       "      <td>00012a2ce6f8dcda20d059ce98491703</td>\n",
       "      <td>292</td>\n",
       "      <td>1</td>\n",
       "      <td>114.74</td>\n",
       "    </tr>\n",
       "    <tr>\n",
       "      <th>1</th>\n",
       "      <td>000161a058600d5901f007fab4c27140</td>\n",
       "      <td>413</td>\n",
       "      <td>1</td>\n",
       "      <td>67.41</td>\n",
       "    </tr>\n",
       "    <tr>\n",
       "      <th>2</th>\n",
       "      <td>0001fd6190edaaf884bcaf3d49edf079</td>\n",
       "      <td>551</td>\n",
       "      <td>1</td>\n",
       "      <td>195.42</td>\n",
       "    </tr>\n",
       "    <tr>\n",
       "      <th>3</th>\n",
       "      <td>0002414f95344307404f0ace7a26f1d5</td>\n",
       "      <td>382</td>\n",
       "      <td>1</td>\n",
       "      <td>179.35</td>\n",
       "    </tr>\n",
       "    <tr>\n",
       "      <th>4</th>\n",
       "      <td>000379cdec625522490c315e70c7a9fb</td>\n",
       "      <td>153</td>\n",
       "      <td>1</td>\n",
       "      <td>107.01</td>\n",
       "    </tr>\n",
       "  </tbody>\n",
       "</table>\n",
       "</div>"
      ],
      "text/plain": [
       "                        customer_id  recency  frequency  monetary\n",
       "0  00012a2ce6f8dcda20d059ce98491703      292          1    114.74\n",
       "1  000161a058600d5901f007fab4c27140      413          1     67.41\n",
       "2  0001fd6190edaaf884bcaf3d49edf079      551          1    195.42\n",
       "3  0002414f95344307404f0ace7a26f1d5      382          1    179.35\n",
       "4  000379cdec625522490c315e70c7a9fb      153          1    107.01"
      ]
     },
     "execution_count": 133,
     "metadata": {},
     "output_type": "execute_result"
    }
   ],
   "source": [
    "now = all_df['order_purchase_timestamp'].max()\n",
    "rfm_df = all_df.groupby(by='customer_id', as_index=False).agg({\n",
    "    'order_purchase_timestamp':lambda x: (now - x.max()).days,\n",
    "    'order_id': 'count',\n",
    "    'payment_value':'sum'\n",
    "})\n",
    "rfm_df.columns = ['customer_id', 'recency', 'frequency', 'monetary']\n",
    "rfm_df.head()"
   ]
  },
  {
   "cell_type": "markdown",
   "metadata": {},
   "source": [
    "Karena customer_id yang sangat panjang, kita akan menggantinya dengan numeric_id, karena tidak ada pengaruh apapun (hanya ingin melihat kapan terakhir melakukan transaksi, seberapa sering melakukan transaksi, dan seberapa besar revenue yang berasal dari pelanggan tersebut)"
   ]
  },
  {
   "cell_type": "code",
   "execution_count": 134,
   "metadata": {},
   "outputs": [
    {
     "data": {
      "text/html": [
       "<div>\n",
       "<style scoped>\n",
       "    .dataframe tbody tr th:only-of-type {\n",
       "        vertical-align: middle;\n",
       "    }\n",
       "\n",
       "    .dataframe tbody tr th {\n",
       "        vertical-align: top;\n",
       "    }\n",
       "\n",
       "    .dataframe thead th {\n",
       "        text-align: right;\n",
       "    }\n",
       "</style>\n",
       "<table border=\"1\" class=\"dataframe\">\n",
       "  <thead>\n",
       "    <tr style=\"text-align: right;\">\n",
       "      <th></th>\n",
       "      <th>customer_id</th>\n",
       "      <th>recency</th>\n",
       "      <th>frequency</th>\n",
       "      <th>monetary</th>\n",
       "      <th>numeric_id</th>\n",
       "    </tr>\n",
       "  </thead>\n",
       "  <tbody>\n",
       "    <tr>\n",
       "      <th>0</th>\n",
       "      <td>00012a2ce6f8dcda20d059ce98491703</td>\n",
       "      <td>292</td>\n",
       "      <td>1</td>\n",
       "      <td>114.74</td>\n",
       "      <td>1</td>\n",
       "    </tr>\n",
       "    <tr>\n",
       "      <th>1</th>\n",
       "      <td>000161a058600d5901f007fab4c27140</td>\n",
       "      <td>413</td>\n",
       "      <td>1</td>\n",
       "      <td>67.41</td>\n",
       "      <td>2</td>\n",
       "    </tr>\n",
       "    <tr>\n",
       "      <th>2</th>\n",
       "      <td>0001fd6190edaaf884bcaf3d49edf079</td>\n",
       "      <td>551</td>\n",
       "      <td>1</td>\n",
       "      <td>195.42</td>\n",
       "      <td>3</td>\n",
       "    </tr>\n",
       "    <tr>\n",
       "      <th>3</th>\n",
       "      <td>0002414f95344307404f0ace7a26f1d5</td>\n",
       "      <td>382</td>\n",
       "      <td>1</td>\n",
       "      <td>179.35</td>\n",
       "      <td>4</td>\n",
       "    </tr>\n",
       "    <tr>\n",
       "      <th>4</th>\n",
       "      <td>000379cdec625522490c315e70c7a9fb</td>\n",
       "      <td>153</td>\n",
       "      <td>1</td>\n",
       "      <td>107.01</td>\n",
       "      <td>5</td>\n",
       "    </tr>\n",
       "  </tbody>\n",
       "</table>\n",
       "</div>"
      ],
      "text/plain": [
       "                        customer_id  recency  frequency  monetary  numeric_id\n",
       "0  00012a2ce6f8dcda20d059ce98491703      292          1    114.74           1\n",
       "1  000161a058600d5901f007fab4c27140      413          1     67.41           2\n",
       "2  0001fd6190edaaf884bcaf3d49edf079      551          1    195.42           3\n",
       "3  0002414f95344307404f0ace7a26f1d5      382          1    179.35           4\n",
       "4  000379cdec625522490c315e70c7a9fb      153          1    107.01           5"
      ]
     },
     "execution_count": 134,
     "metadata": {},
     "output_type": "execute_result"
    }
   ],
   "source": [
    "rfm_df['numeric_id'] = pd.factorize(rfm_df['customer_id'])[0] + 1\n",
    "rfm_df.head()"
   ]
  },
  {
   "cell_type": "code",
   "execution_count": 135,
   "metadata": {},
   "outputs": [
    {
     "data": {
      "image/png": "[encoded data removed]",
      "text/plain": [
       "<Figure size 3000x600 with 3 Axes>"
      ]
     },
     "metadata": {},
     "output_type": "display_data"
    }
   ],
   "source": [
    "fig, ax = plt.subplots(nrows=1, ncols=3, figsize=(30,6))\n",
    "\n",
    "colors = ['#72BCD4', '#72BCD4', '#72BCD4', '#72BCD4', '#72BCD4']\n",
    "\n",
    "sns.barplot(y=\"recency\", x='numeric_id', data=rfm_df.sort_values(by='recency', ascending=True).head(5), hue ='numeric_id', palette=colors, ax=ax[0])\n",
    "ax[0].set_ylabel(None)\n",
    "ax[0].set_xlabel(None)\n",
    "ax[0].set_title('Penjualan Terakhir (days)', loc='center', fontsize=18)\n",
    "ax[0].tick_params(axis ='x', labelsize=15)\n",
    " \n",
    "sns.barplot(y='frequency', x='numeric_id', data=rfm_df.sort_values(by='frequency', ascending=False).head(5), hue='numeric_id', palette=colors, ax=ax[1])\n",
    "ax[1].set_ylabel(None)\n",
    "ax[1].set_xlabel(None)\n",
    "ax[1].set_title('Frekuensi Pembelian', loc=\"center\", fontsize=18)\n",
    "ax[1].tick_params(axis='x', labelsize=15)\n",
    " \n",
    "sns.barplot(y='monetary', x='numeric_id', data=rfm_df.sort_values(by='monetary', ascending=False).head(5), hue='numeric_id', palette=colors, ax=ax[2])\n",
    "ax[2].set_ylabel(None)\n",
    "ax[2].set_xlabel(None)\n",
    "ax[2].set_title('Banyak Uang yang Dihabiskan', loc='center', fontsize=18)\n",
    "ax[2].tick_params(axis='x', labelsize=15)\n",
    " \n",
    "plt.suptitle('Best Customer Based on RFM Parameters', fontsize=20)\n",
    "plt.show()"
   ]
  },
  {
   "cell_type": "markdown",
   "metadata": {},
   "source": [
    "Dari visualisasi data diatas, kita dapat melihat beberapa customer terbaik berdasarkan ketiga parameter tersebut. \n",
    "1. Customer melakukan transaksi 0-4 hari terakhir sebelum transaksi terakhir. Transaksi terakhir dilakukan oleh customer_id yang memiliki numeric_id 28005.\n",
    "2. Mayoritas customer memiliki frekuensi pembelian 1 dalam beberapa bulan terakhir.\n",
    "3. Banyak uang yang dihabiskan customer dalam beberapa bulan terakhir sangat relatif, dan customer dengan numeric_id 8201 adalah yang tertinggi."
   ]
  },
  {
   "cell_type": "markdown",
   "metadata": {},
   "source": [
    "### Pertanyaan 4 (Geo-Analysis): Negara Bagian Mana yang Memiliki Total Penjualan Tertinggi dan Terendah?"
   ]
  },
  {
   "cell_type": "code",
   "execution_count": 136,
   "metadata": {},
   "outputs": [
    {
     "data": {
      "image/png": "[encoded data removed]",
      "text/plain": [
       "<Figure size 1200x600 with 1 Axes>"
      ]
     },
     "metadata": {},
     "output_type": "display_data"
    }
   ],
   "source": [
    "sales_by_state = all_df.groupby('customer_state')['payment_value'].sum().sort_values(ascending=True)\n",
    "plt.figure(figsize=(12, 6))\n",
    "sales_by_state.plot(kind='barh')\n",
    "plt.title('Total Sales by State')\n",
    "plt.ylabel('State')\n",
    "plt.xlabel('Total Sales')\n",
    "plt.tight_layout()\n",
    "plt.show()"
   ]
  },
  {
   "cell_type": "markdown",
   "metadata": {},
   "source": [
    "Berdasarkan grafik total penjualan setiap negara, dapat disimpulkan bahwa negara bagian yang memiliki penjualan tertinggi adalah Sao Paulo dengan selisih yang signifikan dibandingkan dengan negara yang lainnya. Disisi lain, 4 negara bagian yang memiliki penjualan terendah adalah Romania (RR), Amapa (AP), Acre (AC) dan Amazonas (AM)."
   ]
  },
  {
   "cell_type": "markdown",
   "metadata": {},
   "source": [
    "### Pertanyaan 5 (Clustering): Bagaimana Hubungan Antara harga produk, biaya pengiriman, dan skor review (Sebagai Parameter)?"
   ]
  },
  {
   "cell_type": "code",
   "execution_count": 137,
   "metadata": {},
   "outputs": [
    {
     "data": {
      "image/png": "[encoded data removed]",
      "text/plain": [
       "<Figure size 1000x800 with 2 Axes>"
      ]
     },
     "metadata": {},
     "output_type": "display_data"
    }
   ],
   "source": [
    "   plt.figure(figsize=(10,8))\n",
    "   scatter = plt.scatter(all_df['price'], all_df['freight_value'], c=all_df['review_score'], cmap='viridis', alpha=0.5)\n",
    "   plt.colorbar(scatter, label='Review Score')\n",
    "   plt.xlabel('Harga Produk')\n",
    "   plt.ylabel('Biaya Pengiriman')\n",
    "   plt.title('Hubungan antara Harga, Biaya Pengiriman, dan Skor Review')\n",
    "   plt.show()"
   ]
  },
  {
   "cell_type": "markdown",
   "metadata": {},
   "source": [
    "Dapat disimpulkan bahwa sebagian besar produk berada di kisaran harga dan biaya pengiriman yang rendah. Akan tetapi, semakin tinggi harganya, review scorenya semakin baik, walaupun biaya pengirimannya juga tergolong tinggi. Artinya, dalam membeli produk, customer memiliki faktor-faktor lain, sehingga lebih memilih produk yang memang mempunyai harga yang tinggi."
   ]
  },
  {
   "cell_type": "markdown",
   "metadata": {
    "id": "_WeHlCeX8DC2"
   },
   "source": [
    "## Conclusion"
   ]
  },
  {
   "cell_type": "markdown",
   "metadata": {
    "id": "ZTcyR48Y8DC2"
   },
   "source": [
    "- Conclution pertanyaan 1:\n",
    "(5) product dengan category yang paling banyak terjual adalah bed_bath_table, health_beauty_sports_leisure, furniture_decor, dan computers_accessories. \r\n",
    "Untuk product dengan category paling sedikit adalah security_and_services, fashion_childrens_clothes, la_cuisine, cds_dvds_musicals, dan art_and_craftmansh.  \n",
    "- Conclution pertanyaan 2: Berdasarkan grafik tersebut, kita mendapatkan kesimpulan bahwa:\n",
    "1. Grafik dimulai pada September 2016 sampai September 2018.\n",
    "2. Adanya peningkatan pada bulan Oktober 2016, Januari 2017, Februari 2017, Maret 2017, Mei 2017, Juli 2017, Agustus 2017, September 2017, Oktober 2017, November 2017, Januari 2018, Maret 2018, April 2018, dan Juli 2018.\n",
    "3. Adanya penurunan pada bulan Desember 2016, April 2017, Juni 2017, Desember 2017, Februari 2018, Mei 2018, Juni 2018, Agustus 2018, dan September 2018.\n",
    "4. Peningkatan signifikan pada bulan November 2017, dan peningkatan yang konsisten pada bulan Januari 2017 sampai bulan Maret 2017.\n",
    "5. Penurunan drastis berada pada September 2018. Hal ini dikarenakan bahwa kemungkinan data belum selesai di rekap dan masih dalam proses pembuatan rekapan September 2018.\n",
    "- Conclution Pertanyaan 3 (RFM - Recent, Frequent, Monetary):\n",
    "1. Recent: Customer melakukan transaksi 0-4 hari terakhir sebelum transaksi terakhir. Transaksi terakhir dilakukan oleh customer_id yang memiliki numeric_id 28005.\r",
    "2. Frequent: \n",
    "Mayoritas customer memiliki frekuensi pembelian 1 dalam beberapa bulan terakhir.\n",
    "3. Monetary: \r\n",
    "Banyak uang yang dihabiskan customer dalam beberapa bulan terakhir sangat relatif, dan customer dengan numeric_id 8201 adalah yang tertingg\n",
    "- Conclution Pertanyaan 4 (Geo-Analysis):\n",
    "Berdasarkan grafik total penjualan setiap negara, dapat disimpulkan bahwa negara bagian yang memiliki penjualan tertinggi adalah Sao Paulo dengan selisih yang signifikan dibandingkan dengan negara yang lainnya. Disisi lain, 4 negara bagian yang memiliki penjualan terendah adalah Romania (RR), Amapa (AP), Acre (AC) dan Amazonas (AM).\n",
    "- Conclution Pertanyaan 5 (Clustering): Dapat disimpulkan bahwa sebagian besar produk berada di kisaran harga dan biaya pengiriman yang rendah. Akan tetapi, semakin tinggi harganya, review scorenya semakin baik, walaupun biaya pengirimannya juga tergolong tinggi. Artinya, dalam membeli produk, customer memiliki faktor-faktor lain, sehingga lebih memilih produk yang memang mempunyai harga yang tinggi.i.)."
   ]
  },
  {
   "cell_type": "markdown",
   "metadata": {},
   "source": [
    "## Main_Data"
   ]
  },
  {
   "cell_type": "code",
   "execution_count": 138,
   "metadata": {},
   "outputs": [],
   "source": [
    "all_df.to_csv(\"dashboard/all_data.csv\", index=False)"
   ]
  },
  {
   "cell_type": "code",
   "execution_count": 139,
   "metadata": {},
   "outputs": [
    {
     "name": "stdout",
     "output_type": "stream",
     "text": [
      "Requirement already satisfied: pipreqsnb in c:\\users\\user\\appdata\\local\\programs\\python\\python312\\lib\\site-packages (0.2.4)\n",
      "Requirement already satisfied: pipreqs in c:\\users\\user\\appdata\\local\\programs\\python\\python312\\lib\\site-packages (from pipreqsnb) (0.5.0)\n",
      "Requirement already satisfied: docopt==0.6.2 in c:\\users\\user\\appdata\\local\\programs\\python\\python312\\lib\\site-packages (from pipreqs->pipreqsnb) (0.6.2)\n",
      "Requirement already satisfied: ipython==8.12.3 in c:\\users\\user\\appdata\\local\\programs\\python\\python312\\lib\\site-packages (from pipreqs->pipreqsnb) (8.12.3)\n",
      "Requirement already satisfied: nbconvert<8.0.0,>=7.11.0 in c:\\users\\user\\appdata\\local\\programs\\python\\python312\\lib\\site-packages (from pipreqs->pipreqsnb) (7.16.4)\n",
      "Requirement already satisfied: yarg==0.1.9 in c:\\users\\user\\appdata\\local\\programs\\python\\python312\\lib\\site-packages (from pipreqs->pipreqsnb) (0.1.9)\n",
      "Requirement already satisfied: backcall in c:\\users\\user\\appdata\\local\\programs\\python\\python312\\lib\\site-packages (from ipython==8.12.3->pipreqs->pipreqsnb) (0.2.0)\n",
      "Requirement already satisfied: decorator in c:\\users\\user\\appdata\\local\\programs\\python\\python312\\lib\\site-packages (from ipython==8.12.3->pipreqs->pipreqsnb) (5.1.1)\n",
      "Requirement already satisfied: jedi>=0.16 in c:\\users\\user\\appdata\\local\\programs\\python\\python312\\lib\\site-packages (from ipython==8.12.3->pipreqs->pipreqsnb) (0.19.1)\n",
      "Requirement already satisfied: matplotlib-inline in c:\\users\\user\\appdata\\local\\programs\\python\\python312\\lib\\site-packages (from ipython==8.12.3->pipreqs->pipreqsnb) (0.1.7)\n",
      "Requirement already satisfied: pickleshare in c:\\users\\user\\appdata\\local\\programs\\python\\python312\\lib\\site-packages (from ipython==8.12.3->pipreqs->pipreqsnb) (0.7.5)\n",
      "Requirement already satisfied: prompt-toolkit!=3.0.37,<3.1.0,>=3.0.30 in c:\\users\\user\\appdata\\local\\programs\\python\\python312\\lib\\site-packages (from ipython==8.12.3->pipreqs->pipreqsnb) (3.0.47)\n",
      "Requirement already satisfied: pygments>=2.4.0 in c:\\users\\user\\appdata\\local\\programs\\python\\python312\\lib\\site-packages (from ipython==8.12.3->pipreqs->pipreqsnb) (2.18.0)\n",
      "Requirement already satisfied: stack-data in c:\\users\\user\\appdata\\local\\programs\\python\\python312\\lib\\site-packages (from ipython==8.12.3->pipreqs->pipreqsnb) (0.6.3)\n",
      "Requirement already satisfied: traitlets>=5 in c:\\users\\user\\appdata\\local\\programs\\python\\python312\\lib\\site-packages (from ipython==8.12.3->pipreqs->pipreqsnb) (5.14.3)\n",
      "Requirement already satisfied: colorama in c:\\users\\user\\appdata\\local\\programs\\python\\python312\\lib\\site-packages (from ipython==8.12.3->pipreqs->pipreqsnb) (0.4.6)\n",
      "Requirement already satisfied: requests in c:\\users\\user\\appdata\\local\\programs\\python\\python312\\lib\\site-packages (from yarg==0.1.9->pipreqs->pipreqsnb) (2.32.3)\n",
      "Requirement already satisfied: beautifulsoup4 in c:\\users\\user\\appdata\\local\\programs\\python\\python312\\lib\\site-packages (from nbconvert<8.0.0,>=7.11.0->pipreqs->pipreqsnb) (4.12.3)\n",
      "Requirement already satisfied: bleach!=5.0.0 in c:\\users\\user\\appdata\\local\\programs\\python\\python312\\lib\\site-packages (from nbconvert<8.0.0,>=7.11.0->pipreqs->pipreqsnb) (6.1.0)\n",
      "Requirement already satisfied: defusedxml in c:\\users\\user\\appdata\\local\\programs\\python\\python312\\lib\\site-packages (from nbconvert<8.0.0,>=7.11.0->pipreqs->pipreqsnb) (0.7.1)\n",
      "Requirement already satisfied: jinja2>=3.0 in c:\\users\\user\\appdata\\local\\programs\\python\\python312\\lib\\site-packages (from nbconvert<8.0.0,>=7.11.0->pipreqs->pipreqsnb) (3.1.4)\n",
      "Requirement already satisfied: jupyter-core>=4.7 in c:\\users\\user\\appdata\\local\\programs\\python\\python312\\lib\\site-packages (from nbconvert<8.0.0,>=7.11.0->pipreqs->pipreqsnb) (5.7.2)\n",
      "Requirement already satisfied: jupyterlab-pygments in c:\\users\\user\\appdata\\local\\programs\\python\\python312\\lib\\site-packages (from nbconvert<8.0.0,>=7.11.0->pipreqs->pipreqsnb) (0.3.0)\n",
      "Requirement already satisfied: markupsafe>=2.0 in c:\\users\\user\\appdata\\local\\programs\\python\\python312\\lib\\site-packages (from nbconvert<8.0.0,>=7.11.0->pipreqs->pipreqsnb) (2.1.5)\n",
      "Requirement already satisfied: mistune<4,>=2.0.3 in c:\\users\\user\\appdata\\local\\programs\\python\\python312\\lib\\site-packages (from nbconvert<8.0.0,>=7.11.0->pipreqs->pipreqsnb) (3.0.2)\n",
      "Requirement already satisfied: nbclient>=0.5.0 in c:\\users\\user\\appdata\\local\\programs\\python\\python312\\lib\\site-packages (from nbconvert<8.0.0,>=7.11.0->pipreqs->pipreqsnb) (0.10.0)\n",
      "Requirement already satisfied: nbformat>=5.7 in c:\\users\\user\\appdata\\local\\programs\\python\\python312\\lib\\site-packages (from nbconvert<8.0.0,>=7.11.0->pipreqs->pipreqsnb) (5.10.4)\n",
      "Requirement already satisfied: packaging in c:\\users\\user\\appdata\\local\\programs\\python\\python312\\lib\\site-packages (from nbconvert<8.0.0,>=7.11.0->pipreqs->pipreqsnb) (24.1)\n",
      "Requirement already satisfied: pandocfilters>=1.4.1 in c:\\users\\user\\appdata\\local\\programs\\python\\python312\\lib\\site-packages (from nbconvert<8.0.0,>=7.11.0->pipreqs->pipreqsnb) (1.5.1)\n",
      "Requirement already satisfied: tinycss2 in c:\\users\\user\\appdata\\local\\programs\\python\\python312\\lib\\site-packages (from nbconvert<8.0.0,>=7.11.0->pipreqs->pipreqsnb) (1.3.0)\n",
      "Requirement already satisfied: six>=1.9.0 in c:\\users\\user\\appdata\\local\\programs\\python\\python312\\lib\\site-packages (from bleach!=5.0.0->nbconvert<8.0.0,>=7.11.0->pipreqs->pipreqsnb) (1.16.0)\n",
      "Requirement already satisfied: webencodings in c:\\users\\user\\appdata\\local\\programs\\python\\python312\\lib\\site-packages (from bleach!=5.0.0->nbconvert<8.0.0,>=7.11.0->pipreqs->pipreqsnb) (0.5.1)\n",
      "Requirement already satisfied: parso<0.9.0,>=0.8.3 in c:\\users\\user\\appdata\\local\\programs\\python\\python312\\lib\\site-packages (from jedi>=0.16->ipython==8.12.3->pipreqs->pipreqsnb) (0.8.4)\n",
      "Requirement already satisfied: platformdirs>=2.5 in c:\\users\\user\\appdata\\local\\programs\\python\\python312\\lib\\site-packages (from jupyter-core>=4.7->nbconvert<8.0.0,>=7.11.0->pipreqs->pipreqsnb) (4.2.2)\n",
      "Requirement already satisfied: pywin32>=300 in c:\\users\\user\\appdata\\local\\programs\\python\\python312\\lib\\site-packages (from jupyter-core>=4.7->nbconvert<8.0.0,>=7.11.0->pipreqs->pipreqsnb) (306)\n",
      "Requirement already satisfied: jupyter-client>=6.1.12 in c:\\users\\user\\appdata\\local\\programs\\python\\python312\\lib\\site-packages (from nbclient>=0.5.0->nbconvert<8.0.0,>=7.11.0->pipreqs->pipreqsnb) (8.6.2)\n",
      "Requirement already satisfied: fastjsonschema>=2.15 in c:\\users\\user\\appdata\\local\\programs\\python\\python312\\lib\\site-packages (from nbformat>=5.7->nbconvert<8.0.0,>=7.11.0->pipreqs->pipreqsnb) (2.20.0)\n",
      "Requirement already satisfied: jsonschema>=2.6 in c:\\users\\user\\appdata\\local\\programs\\python\\python312\\lib\\site-packages (from nbformat>=5.7->nbconvert<8.0.0,>=7.11.0->pipreqs->pipreqsnb) (4.23.0)\n",
      "Requirement already satisfied: wcwidth in c:\\users\\user\\appdata\\local\\programs\\python\\python312\\lib\\site-packages (from prompt-toolkit!=3.0.37,<3.1.0,>=3.0.30->ipython==8.12.3->pipreqs->pipreqsnb) (0.2.13)\n",
      "Requirement already satisfied: soupsieve>1.2 in c:\\users\\user\\appdata\\local\\programs\\python\\python312\\lib\\site-packages (from beautifulsoup4->nbconvert<8.0.0,>=7.11.0->pipreqs->pipreqsnb) (2.5)\n",
      "Requirement already satisfied: charset-normalizer<4,>=2 in c:\\users\\user\\appdata\\local\\programs\\python\\python312\\lib\\site-packages (from requests->yarg==0.1.9->pipreqs->pipreqsnb) (3.3.2)\n",
      "Requirement already satisfied: idna<4,>=2.5 in c:\\users\\user\\appdata\\local\\programs\\python\\python312\\lib\\site-packages (from requests->yarg==0.1.9->pipreqs->pipreqsnb) (3.7)\n",
      "Requirement already satisfied: urllib3<3,>=1.21.1 in c:\\users\\user\\appdata\\local\\programs\\python\\python312\\lib\\site-packages (from requests->yarg==0.1.9->pipreqs->pipreqsnb) (2.2.2)\n",
      "Requirement already satisfied: certifi>=2017.4.17 in c:\\users\\user\\appdata\\local\\programs\\python\\python312\\lib\\site-packages (from requests->yarg==0.1.9->pipreqs->pipreqsnb) (2024.7.4)\n",
      "Requirement already satisfied: executing>=1.2.0 in c:\\users\\user\\appdata\\local\\programs\\python\\python312\\lib\\site-packages (from stack-data->ipython==8.12.3->pipreqs->pipreqsnb) (2.0.1)\n",
      "Requirement already satisfied: asttokens>=2.1.0 in c:\\users\\user\\appdata\\local\\programs\\python\\python312\\lib\\site-packages (from stack-data->ipython==8.12.3->pipreqs->pipreqsnb) (2.4.1)\n",
      "Requirement already satisfied: pure-eval in c:\\users\\user\\appdata\\local\\programs\\python\\python312\\lib\\site-packages (from stack-data->ipython==8.12.3->pipreqs->pipreqsnb) (0.2.3)\n",
      "Requirement already satisfied: attrs>=22.2.0 in c:\\users\\user\\appdata\\local\\programs\\python\\python312\\lib\\site-packages (from jsonschema>=2.6->nbformat>=5.7->nbconvert<8.0.0,>=7.11.0->pipreqs->pipreqsnb) (23.2.0)\n",
      "Requirement already satisfied: jsonschema-specifications>=2023.03.6 in c:\\users\\user\\appdata\\local\\programs\\python\\python312\\lib\\site-packages (from jsonschema>=2.6->nbformat>=5.7->nbconvert<8.0.0,>=7.11.0->pipreqs->pipreqsnb) (2023.12.1)\n",
      "Requirement already satisfied: referencing>=0.28.4 in c:\\users\\user\\appdata\\local\\programs\\python\\python312\\lib\\site-packages (from jsonschema>=2.6->nbformat>=5.7->nbconvert<8.0.0,>=7.11.0->pipreqs->pipreqsnb) (0.35.1)\n",
      "Requirement already satisfied: rpds-py>=0.7.1 in c:\\users\\user\\appdata\\local\\programs\\python\\python312\\lib\\site-packages (from jsonschema>=2.6->nbformat>=5.7->nbconvert<8.0.0,>=7.11.0->pipreqs->pipreqsnb) (0.19.1)\n",
      "Requirement already satisfied: python-dateutil>=2.8.2 in c:\\users\\user\\appdata\\local\\programs\\python\\python312\\lib\\site-packages (from jupyter-client>=6.1.12->nbclient>=0.5.0->nbconvert<8.0.0,>=7.11.0->pipreqs->pipreqsnb) (2.9.0.post0)\n",
      "Requirement already satisfied: pyzmq>=23.0 in c:\\users\\user\\appdata\\local\\programs\\python\\python312\\lib\\site-packages (from jupyter-client>=6.1.12->nbclient>=0.5.0->nbconvert<8.0.0,>=7.11.0->pipreqs->pipreqsnb) (26.0.3)\n",
      "Requirement already satisfied: tornado>=6.2 in c:\\users\\user\\appdata\\local\\programs\\python\\python312\\lib\\site-packages (from jupyter-client>=6.1.12->nbclient>=0.5.0->nbconvert<8.0.0,>=7.11.0->pipreqs->pipreqsnb) (6.4.1)\n",
      "Note: you may need to restart the kernel to use updated packages.\n"
     ]
    }
   ],
   "source": [
    "pip install pipreqsnb"
   ]
  }
 ],
 "metadata": {
  "colab": {
   "collapsed_sections": [
    "H-z4QGlO8DC1",
    "sXU2GBYu8DC1",
    "FHSiqaZp8DC1",
    "kQ-2zD7-61V_",
    "xRBe_vM-Owbd",
    "w9yiRUHdS8sD",
    "O-VLLgu7VV1Y",
    "QCTDWw3hV0F0",
    "4ZyOJXHtY4ba",
    "NAnNaANzipzs",
    "Nn-XkRhQjSME",
    "Cu8ZJI3xcp02",
    "NrxiIOoHFaUQ",
    "i1bG5Jg1gwwz",
    "xcoo4On66FFo",
    "J52moEbNHF4E",
    "0K6hQTnpHBQj",
    "vha0aq01PH0f",
    "7RYVrglMiyQG",
    "yaQ_tb1_nm02",
    "tnf011ifV6Ak",
    "1AQ3_oHEqmWS"
   ],
   "provenance": []
  },
  "kernelspec": {
   "display_name": "Python 3 (ipykernel)",
   "language": "python",
   "name": "python3"
  },
  "language_info": {
   "codemirror_mode": {
    "name": "ipython",
    "version": 3
   },
   "file_extension": ".py",
   "mimetype": "text/x-python",
   "name": "python",
   "nbconvert_exporter": "python",
   "pygments_lexer": "ipython3",
   "version": "3.12.3"
  },
  "vscode": {
   "interpreter": {
    "hash": "972b3bf27e332e87b5379f2791f6ef9dfc79c71018c370b0d7423235e20fe4d7"
   }
  }
 },
 "nbformat": 4,
 "nbformat_minor": 4
}
